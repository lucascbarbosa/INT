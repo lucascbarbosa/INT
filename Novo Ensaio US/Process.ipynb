{
 "cells": [
  {
   "cell_type": "code",
   "execution_count": 1,
   "metadata": {},
   "outputs": [],
   "source": [
    "import pandas as pd\n",
    "import matplotlib.pyplot as plt\n",
    "import numpy as np\n",
    "import os\n",
    "%matplotlib inline"
   ]
  },
  {
   "cell_type": "code",
   "execution_count": 8,
   "metadata": {},
   "outputs": [
    {
     "data": {
      "text/plain": [
       "['osso23_p1_intacto_10MHz_rep1_med1.wfm',\n",
       " 'osso23_p1_intacto_10MHz_rep1_med2.wfm',\n",
       " 'osso23_p1_intacto_10MHz_rep1_med3.wfm',\n",
       " 'osso23_p1_intacto_1MHz_rep1_med1.wfm',\n",
       " 'osso23_p1_intacto_1MHz_rep1_med2.wfm',\n",
       " 'osso23_p1_intacto_1MHz_rep1_med3.wfm',\n",
       " 'osso23_p1_intacto_5MHz_rep1_med1.wfm',\n",
       " 'osso23_p1_intacto_5MHz_rep1_med2.wfm',\n",
       " 'osso23_p1_intacto_5MHz_rep1_med3.wfm',\n",
       " 'osso25_p1_intacto_10MHz_rep1_med1.wfm',\n",
       " 'osso25_p1_intacto_10MHz_rep1_med2.wfm',\n",
       " 'osso25_p1_intacto_10MHz_rep1_med3.wfm',\n",
       " 'osso25_p1_intacto_1MHz_rep1_med1.wfm',\n",
       " 'osso25_p1_intacto_1MHz_rep1_med2.wfm',\n",
       " 'osso25_p1_intacto_1MHz_rep1_med3.wfm',\n",
       " 'osso25_p1_intacto_5MHz_rep1_med1.wfm',\n",
       " 'osso25_p1_intacto_5MHz_rep1_med2.wfm',\n",
       " 'osso25_p1_intacto_5MHz_rep1_med3.wfm']"
      ]
     },
     "execution_count": 8,
     "metadata": {},
     "output_type": "execute_result"
    }
   ],
   "source": [
    "listarq = os.listdir('C:/Users/lucas.barbosa/Documents/Códigos/INT/Novo Ensaio US/NOVOS_SINAIS/sinais/csv/')\n",
    "listarq"
   ]
  },
  {
   "cell_type": "code",
   "execution_count": 9,
   "metadata": {},
   "outputs": [
    {
     "ename": "ModuleNotFoundError",
     "evalue": "No module named 'tekwfm'",
     "output_type": "error",
     "traceback": [
      "\u001b[1;31m---------------------------------------------------------------------------\u001b[0m",
      "\u001b[1;31mModuleNotFoundError\u001b[0m                       Traceback (most recent call last)",
      "\u001b[1;32m<ipython-input-9-c5bc3599bd96>\u001b[0m in \u001b[0;36m<module>\u001b[1;34m\u001b[0m\n\u001b[0;32m      4\u001b[0m \u001b[1;32mimport\u001b[0m \u001b[0mmatplotlib\u001b[0m\u001b[1;33m.\u001b[0m\u001b[0mpyplot\u001b[0m \u001b[1;32mas\u001b[0m \u001b[0mplt\u001b[0m \u001b[1;31m# https://matplotlib.org/\u001b[0m\u001b[1;33m\u001b[0m\u001b[0m\n\u001b[0;32m      5\u001b[0m \u001b[1;32mimport\u001b[0m \u001b[0mnumpy\u001b[0m \u001b[1;32mas\u001b[0m \u001b[0mnp\u001b[0m \u001b[1;31m#\u001b[0m\u001b[1;33m\u001b[0m\u001b[0m\n\u001b[1;32m----> 6\u001b[1;33m \u001b[1;32mimport\u001b[0m \u001b[0mtekwfm\u001b[0m\u001b[1;33m\u001b[0m\u001b[0m\n\u001b[0m\u001b[0;32m      7\u001b[0m \u001b[1;32mimport\u001b[0m \u001b[0mos\u001b[0m\u001b[1;33m\u001b[0m\u001b[0m\n\u001b[0;32m      8\u001b[0m \u001b[1;33m\u001b[0m\u001b[0m\n",
      "\u001b[1;31mModuleNotFoundError\u001b[0m: No module named 'tekwfm'"
     ]
    }
   ],
   "source": [
    "\n"
   ]
  }
 ],
 "metadata": {
  "kernelspec": {
   "display_name": "Python 3",
   "language": "python",
   "name": "python3"
  },
  "language_info": {
   "codemirror_mode": {
    "name": "ipython",
    "version": 3
   },
   "file_extension": ".py",
   "mimetype": "text/x-python",
   "name": "python",
   "nbconvert_exporter": "python",
   "pygments_lexer": "ipython3",
   "version": "3.6.7"
  }
 },
 "nbformat": 4,
 "nbformat_minor": 2
}
