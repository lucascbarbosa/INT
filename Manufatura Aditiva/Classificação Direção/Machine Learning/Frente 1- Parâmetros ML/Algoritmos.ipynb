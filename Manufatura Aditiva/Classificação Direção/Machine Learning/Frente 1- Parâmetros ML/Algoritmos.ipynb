{
 "cells": [
  {
   "cell_type": "markdown",
   "metadata": {},
   "source": [
    "# Machine Learning"
   ]
  },
  {
   "cell_type": "markdown",
   "metadata": {},
   "source": [
    "## Imports"
   ]
  },
  {
   "cell_type": "code",
   "execution_count": 3,
   "metadata": {},
   "outputs": [],
   "source": [
    "import pandas as pd\n",
    "from sklearn.model_selection import train_test_split\n",
    "from sklearn.metrics import classification_report,confusion_matrix\n",
    "from sklearn.preprocessing import StandardScaler\n",
    "from sklearn.pipeline import make_pipeline"
   ]
  },
  {
   "cell_type": "markdown",
   "metadata": {},
   "source": [
    "## Importar dados normalizados"
   ]
  },
  {
   "cell_type": "code",
   "execution_count": 24,
   "metadata": {},
   "outputs": [
    {
     "data": {
      "text/plain": [
       "100"
      ]
     },
     "execution_count": 24,
     "metadata": {},
     "output_type": "execute_result"
    }
   ],
   "source": [
    "dados = pd.read_csv('C:/Users/lucas/Documents/GitHub/INT/Manufatura Aditiva/Classificação Direção/Dados/Dados tratados.csv')\n",
    "len(dados)"
   ]
  },
  {
   "cell_type": "markdown",
   "metadata": {},
   "source": [
    "## Separando Treino e Teste"
   ]
  },
  {
   "cell_type": "code",
   "execution_count": 58,
   "metadata": {},
   "outputs": [],
   "source": [
    "X = dados.drop(['Plano','Plano ID'],axis=1)\n",
    "y = dados['Plano ID']\n",
    "X_train, X_test, y_train, y_test = train_test_split(X, y, test_size=0.3)"
   ]
  },
  {
   "cell_type": "markdown",
   "metadata": {},
   "source": [
    "### Classificador de Cume"
   ]
  },
  {
   "cell_type": "code",
   "execution_count": 38,
   "metadata": {},
   "outputs": [
    {
     "name": "stdout",
     "output_type": "stream",
     "text": [
      "              precision    recall  f1-score   support\n",
      "\n",
      "           0       0.82      0.90      0.86        10\n",
      "           1       0.86      0.75      0.80         8\n",
      "           2       1.00      1.00      1.00        11\n",
      "           3       1.00      1.00      1.00        11\n",
      "\n",
      "    accuracy                           0.93        40\n",
      "   macro avg       0.92      0.91      0.91        40\n",
      "weighted avg       0.93      0.93      0.92        40\n",
      "\n"
     ]
    },
    {
     "data": {
      "text/plain": [
       "array([[ 9,  1,  0,  0],\n",
       "       [ 2,  6,  0,  0],\n",
       "       [ 0,  0, 11,  0],\n",
       "       [ 0,  0,  0, 11]], dtype=int64)"
      ]
     },
     "execution_count": 38,
     "metadata": {},
     "output_type": "execute_result"
    }
   ],
   "source": [
    "from sklearn.linear_model import RidgeClassifier\n",
    "ridge = RidgeClassifier().fit(X_train, y_train)\n",
    "pred_ridge = ridge.predict(X_test)\n",
    "print(classification_report(y_test, pred_ridge))\n",
    "cm_ridge= confusion_matrix(y_test, pred_ridge)\n",
    "cm_ridge\n"
   ]
  },
  {
   "cell_type": "markdown",
   "metadata": {},
   "source": [
    "### SGD"
   ]
  },
  {
   "cell_type": "code",
   "execution_count": 39,
   "metadata": {},
   "outputs": [
    {
     "name": "stdout",
     "output_type": "stream",
     "text": [
      "              precision    recall  f1-score   support\n",
      "\n",
      "           0       1.00      1.00      1.00        10\n",
      "           1       0.89      1.00      0.94         8\n",
      "           2       1.00      1.00      1.00        11\n",
      "           3       1.00      0.91      0.95        11\n",
      "\n",
      "    accuracy                           0.97        40\n",
      "   macro avg       0.97      0.98      0.97        40\n",
      "weighted avg       0.98      0.97      0.98        40\n",
      "\n"
     ]
    },
    {
     "data": {
      "text/plain": [
       "array([[10,  0,  0,  0],\n",
       "       [ 0,  8,  0,  0],\n",
       "       [ 0,  0, 11,  0],\n",
       "       [ 0,  1,  0, 10]], dtype=int64)"
      ]
     },
     "execution_count": 39,
     "metadata": {},
     "output_type": "execute_result"
    }
   ],
   "source": [
    "from sklearn.linear_model import SGDClassifier\n",
    "from sklearn.preprocessing import StandardScaler\n",
    "from sklearn.pipeline import make_pipeline\n",
    "\n",
    "# Always scale the input. The most convenient way is to use a pipeline.\n",
    "sgd = make_pipeline(StandardScaler(),\n",
    "                    SGDClassifier(max_iter=1000, tol=1e-3))\n",
    "sgd.fit(X_train, y_train)\n",
    "pred_sgd = sgd.predict(X_test)\n",
    "print(classification_report(y_test, pred_sgd))\n",
    "cm_sgd= confusion_matrix(y_test, pred_sgd)\n",
    "cm_sgd"
   ]
  },
  {
   "cell_type": "markdown",
   "metadata": {},
   "source": [
    "### SVC "
   ]
  },
  {
   "cell_type": "code",
   "execution_count": 59,
   "metadata": {
    "scrolled": true
   },
   "outputs": [
    {
     "name": "stdout",
     "output_type": "stream",
     "text": [
      "              precision    recall  f1-score   support\n",
      "\n",
      "           0       1.00      1.00      1.00         6\n",
      "           1       1.00      1.00      1.00         6\n",
      "           2       1.00      1.00      1.00         9\n",
      "           3       1.00      1.00      1.00         9\n",
      "\n",
      "    accuracy                           1.00        30\n",
      "   macro avg       1.00      1.00      1.00        30\n",
      "weighted avg       1.00      1.00      1.00        30\n",
      "\n"
     ]
    },
    {
     "data": {
      "text/plain": [
       "array([[6, 0, 0, 0],\n",
       "       [0, 6, 0, 0],\n",
       "       [0, 0, 9, 0],\n",
       "       [0, 0, 0, 9]], dtype=int64)"
      ]
     },
     "execution_count": 59,
     "metadata": {},
     "output_type": "execute_result"
    }
   ],
   "source": [
    "from sklearn.svm import SVC\n",
    "from sklearn.pipeline import make_pipeline\n",
    "from sklearn.preprocessing import StandardScaler\n",
    "svc = make_pipeline(StandardScaler(),\n",
    "                    SVC())\n",
    "svc.fit(X_train,y_train)\n",
    "pred_svc = svc.predict(X_test)\n",
    "print(classification_report(y_test, pred_svc))\n",
    "cm_svc= confusion_matrix(y_test, pred_svc)\n",
    "cm_svc"
   ]
  },
  {
   "cell_type": "markdown",
   "metadata": {},
   "source": [
    "### Árvore de Decisão"
   ]
  },
  {
   "cell_type": "code",
   "execution_count": 41,
   "metadata": {},
   "outputs": [
    {
     "name": "stdout",
     "output_type": "stream",
     "text": [
      "              precision    recall  f1-score   support\n",
      "\n",
      "           0       1.00      0.90      0.95        10\n",
      "           1       0.89      1.00      0.94         8\n",
      "           2       1.00      1.00      1.00        11\n",
      "           3       1.00      1.00      1.00        11\n",
      "\n",
      "    accuracy                           0.97        40\n",
      "   macro avg       0.97      0.97      0.97        40\n",
      "weighted avg       0.98      0.97      0.98        40\n",
      "\n"
     ]
    },
    {
     "data": {
      "text/plain": [
       "array([[ 9,  1,  0,  0],\n",
       "       [ 0,  8,  0,  0],\n",
       "       [ 0,  0, 11,  0],\n",
       "       [ 0,  0,  0, 11]], dtype=int64)"
      ]
     },
     "execution_count": 41,
     "metadata": {},
     "output_type": "execute_result"
    }
   ],
   "source": [
    "from sklearn.tree import DecisionTreeClassifier\n",
    "from sklearn.pipeline import make_pipeline\n",
    "from sklearn.preprocessing import StandardScaler\n",
    "tree = make_pipeline(StandardScaler(),\n",
    "                    DecisionTreeClassifier(max_features=4,random_state=2))\n",
    "\n",
    "tree.fit(X_train,y_train)\n",
    "pred_tree = tree.predict(X_test)\n",
    "print(classification_report(y_test, pred_tree))\n",
    "cm_tree = confusion_matrix(y_test, pred_tree)\n",
    "cm_tree"
   ]
  },
  {
   "cell_type": "code",
   "execution_count": null,
   "metadata": {},
   "outputs": [],
   "source": [
    "\n"
   ]
  },
  {
   "cell_type": "code",
   "execution_count": null,
   "metadata": {},
   "outputs": [],
   "source": []
  },
  {
   "cell_type": "code",
   "execution_count": null,
   "metadata": {},
   "outputs": [],
   "source": []
  },
  {
   "cell_type": "code",
   "execution_count": null,
   "metadata": {},
   "outputs": [],
   "source": []
  }
 ],
 "metadata": {
  "kernelspec": {
   "display_name": "Python 3.6.7 64-bit",
   "language": "python",
   "name": "python36764bitae56fdbcc1594148b699def9b739fd1e"
  },
  "language_info": {
   "codemirror_mode": {
    "name": "ipython",
    "version": 3
   },
   "file_extension": ".py",
   "mimetype": "text/x-python",
   "name": "python",
   "nbconvert_exporter": "python",
   "pygments_lexer": "ipython3",
   "version": "3.6.7"
  }
 },
 "nbformat": 4,
 "nbformat_minor": 2
}
