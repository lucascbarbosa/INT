{
 "cells": [
  {
   "cell_type": "markdown",
   "metadata": {},
   "source": [
    "# Machine Learning"
   ]
  },
  {
   "cell_type": "markdown",
   "metadata": {},
   "source": [
    "## Imports"
   ]
  },
  {
   "cell_type": "code",
   "execution_count": 2,
   "metadata": {},
   "outputs": [],
   "source": [
    "import pandas as pd\n",
    "import numpy as np\n",
    "from sklearn.model_selection import train_test_split\n",
    "from sklearn.metrics import f1_score\n",
    "from sklearn.preprocessing import StandardScaler\n",
    "from sklearn.pipeline import make_pipeline\n",
    "from sklearn.neighbors import KNeighborsClassifier\n",
    "from sklearn.linear_model import SGDClassifier\n",
    "from sklearn.svm import SVC\n",
    "from sklearn.tree import DecisionTreeClassifier\n",
    "from sklearn.cluster import KMeans\n",
    "from sklearn.model_selection import StratifiedShuffleSplit\n",
    "import warnings\n",
    "import seaborn as sns\n",
    "import matplotlib.pyplot as plt\n",
    "from matplotlib.colors import ListedColormap\n",
    "warnings.filterwarnings('ignore')\n",
    "sns.set()\n",
    "%matplotlib inline"
   ]
  },
  {
   "cell_type": "markdown",
   "metadata": {},
   "source": [
    "## Importar dados normalizados"
   ]
  },
  {
   "cell_type": "code",
   "execution_count": 4,
   "metadata": {},
   "outputs": [
    {
     "data": {
      "text/html": [
       "<div>\n",
       "<style scoped>\n",
       "    .dataframe tbody tr th:only-of-type {\n",
       "        vertical-align: middle;\n",
       "    }\n",
       "\n",
       "    .dataframe tbody tr th {\n",
       "        vertical-align: top;\n",
       "    }\n",
       "\n",
       "    .dataframe thead th {\n",
       "        text-align: right;\n",
       "    }\n",
       "</style>\n",
       "<table border=\"1\" class=\"dataframe\">\n",
       "  <thead>\n",
       "    <tr style=\"text-align: right;\">\n",
       "      <th></th>\n",
       "      <th>Área Inicial</th>\n",
       "      <th>Módulo elástico</th>\n",
       "      <th>Carga no escoamento</th>\n",
       "      <th>Tensão de escoamento</th>\n",
       "      <th>Dedformação no escoamento</th>\n",
       "      <th>Força máxima</th>\n",
       "      <th>Tensão na força máxima</th>\n",
       "      <th>Deformação na força máxima</th>\n",
       "      <th>Força de ruptura</th>\n",
       "      <th>Deformação na ruptura</th>\n",
       "      <th>Plano</th>\n",
       "      <th>Plano ID</th>\n",
       "    </tr>\n",
       "  </thead>\n",
       "  <tbody>\n",
       "    <tr>\n",
       "      <th>0</th>\n",
       "      <td>0.816843</td>\n",
       "      <td>0.187500</td>\n",
       "      <td>0.390476</td>\n",
       "      <td>0.147531</td>\n",
       "      <td>0.356275</td>\n",
       "      <td>0.778571</td>\n",
       "      <td>0.173452</td>\n",
       "      <td>0.505632</td>\n",
       "      <td>0.391892</td>\n",
       "      <td>0.578268</td>\n",
       "      <td>deitado</td>\n",
       "      <td>0</td>\n",
       "    </tr>\n",
       "    <tr>\n",
       "      <th>1</th>\n",
       "      <td>0.912370</td>\n",
       "      <td>0.207031</td>\n",
       "      <td>0.314286</td>\n",
       "      <td>0.000000</td>\n",
       "      <td>0.295547</td>\n",
       "      <td>0.778571</td>\n",
       "      <td>0.010531</td>\n",
       "      <td>0.530113</td>\n",
       "      <td>0.000000</td>\n",
       "      <td>0.627464</td>\n",
       "      <td>deitado</td>\n",
       "      <td>0</td>\n",
       "    </tr>\n",
       "    <tr>\n",
       "      <th>2</th>\n",
       "      <td>0.687619</td>\n",
       "      <td>0.125000</td>\n",
       "      <td>0.266667</td>\n",
       "      <td>0.122842</td>\n",
       "      <td>0.554656</td>\n",
       "      <td>0.578571</td>\n",
       "      <td>0.115287</td>\n",
       "      <td>0.714046</td>\n",
       "      <td>0.614865</td>\n",
       "      <td>0.453942</td>\n",
       "      <td>deitado</td>\n",
       "      <td>0</td>\n",
       "    </tr>\n",
       "    <tr>\n",
       "      <th>3</th>\n",
       "      <td>0.755887</td>\n",
       "      <td>0.320312</td>\n",
       "      <td>0.314286</td>\n",
       "      <td>0.117993</td>\n",
       "      <td>0.271255</td>\n",
       "      <td>0.714286</td>\n",
       "      <td>0.189186</td>\n",
       "      <td>0.583170</td>\n",
       "      <td>0.425676</td>\n",
       "      <td>0.539367</td>\n",
       "      <td>deitado</td>\n",
       "      <td>0</td>\n",
       "    </tr>\n",
       "    <tr>\n",
       "      <th>4</th>\n",
       "      <td>0.713242</td>\n",
       "      <td>0.082031</td>\n",
       "      <td>0.257143</td>\n",
       "      <td>0.092959</td>\n",
       "      <td>0.489879</td>\n",
       "      <td>0.592857</td>\n",
       "      <td>0.090627</td>\n",
       "      <td>0.570232</td>\n",
       "      <td>0.594595</td>\n",
       "      <td>0.527982</td>\n",
       "      <td>deitado</td>\n",
       "      <td>0</td>\n",
       "    </tr>\n",
       "  </tbody>\n",
       "</table>\n",
       "</div>"
      ],
      "text/plain": [
       "   Área Inicial  Módulo elástico  Carga no escoamento  Tensão de escoamento  \\\n",
       "0      0.816843         0.187500             0.390476              0.147531   \n",
       "1      0.912370         0.207031             0.314286              0.000000   \n",
       "2      0.687619         0.125000             0.266667              0.122842   \n",
       "3      0.755887         0.320312             0.314286              0.117993   \n",
       "4      0.713242         0.082031             0.257143              0.092959   \n",
       "\n",
       "   Dedformação no escoamento  Força máxima  Tensão na força máxima  \\\n",
       "0                   0.356275      0.778571                0.173452   \n",
       "1                   0.295547      0.778571                0.010531   \n",
       "2                   0.554656      0.578571                0.115287   \n",
       "3                   0.271255      0.714286                0.189186   \n",
       "4                   0.489879      0.592857                0.090627   \n",
       "\n",
       "   Deformação na força máxima  Força de ruptura  Deformação na ruptura  \\\n",
       "0                    0.505632          0.391892               0.578268   \n",
       "1                    0.530113          0.000000               0.627464   \n",
       "2                    0.714046          0.614865               0.453942   \n",
       "3                    0.583170          0.425676               0.539367   \n",
       "4                    0.570232          0.594595               0.527982   \n",
       "\n",
       "     Plano  Plano ID  \n",
       "0  deitado         0  \n",
       "1  deitado         0  \n",
       "2  deitado         0  \n",
       "3  deitado         0  \n",
       "4  deitado         0  "
      ]
     },
     "execution_count": 4,
     "metadata": {},
     "output_type": "execute_result"
    }
   ],
   "source": [
    "dados = pd.read_csv('C:/Users/lucas/Documents/GitHub/INT/Manufatura Aditiva/Classificação Direção/Dados/Dados tratados.csv')\n",
    "dados.head()"
   ]
  },
  {
   "cell_type": "markdown",
   "metadata": {},
   "source": [
    "## Separando Treino e Teste para diferentes splits, usando cross fold validation. "
   ]
  },
  {
   "cell_type": "code",
   "execution_count": 8,
   "metadata": {},
   "outputs": [
    {
     "name": "stdout",
     "output_type": "stream",
     "text": [
      "F1 score for KNN=0.9925396825396826, SGD=0.9031746031746032, SVC=0.9853968253968255, Decision Trees=0.9042743764172336\n"
     ]
    }
   ],
   "source": [
    "X = dados[['Tensão na força máxima','Deformação na ruptura']]\n",
    "y = dados['Plano ID']\n",
    "\n",
    "n_splits = 10\n",
    "test_size = 0.35\n",
    "\n",
    "sss = StratifiedShuffleSplit(n_splits=n_splits, test_size=test_size, random_state=42)\n",
    "\n",
    "knn_score = []\n",
    "sgd_score = []\n",
    "svc_score = []\n",
    "tree_score = []\n",
    "\n",
    "for train_index, test_index in sss.split(X, y):    \n",
    "    X_train,X_test,y_train,y_test = X.iloc[train_index],X.iloc[test_index],y.iloc[train_index],y.iloc[test_index]\n",
    "\n",
    "    #KNN\n",
    "    knn = make_pipeline(StandardScaler(),\n",
    "                        KNeighborsClassifier(n_neighbors=4))\n",
    "    knn.fit(X_train, y_train)\n",
    "    pred_knn = knn.predict(X_test)\n",
    "    knn_score.append(f1_score(y_test,pred_knn,average='weighted',pos_label=\"Plano ID\"))\n",
    "    \n",
    "    #SGD\n",
    "    sgd = make_pipeline(StandardScaler(),\n",
    "                        SGDClassifier(max_iter=1000, tol=1e-3))\n",
    "    sgd.fit(X_train, y_train)\n",
    "    pred_sgd = sgd.predict(X_test)\n",
    "    sgd_score.append(f1_score(y_test,pred_sgd,average='weighted',pos_label=\"Plano ID\"))\n",
    "    \n",
    "    #SVC\n",
    "    svc = make_pipeline(StandardScaler(),\n",
    "                        SVC(kernel='sigmoid'))\n",
    "    svc.fit(X_train,y_train)\n",
    "    pred_svc = svc.predict(X_test)\n",
    "    svc_score.append(f1_score(y_test,pred_svc,average='weighted',pos_label=\"Plano ID\"))\n",
    "    \n",
    "    #Decision Trees\n",
    "    tree = make_pipeline(StandardScaler(),\n",
    "                        DecisionTreeClassifier())\n",
    "\n",
    "    tree.fit(X_train,y_train)\n",
    "    pred_tree = tree.predict(X_test)\n",
    "    tree_score.append(f1_score(y_test,pred_tree,average='weighted',pos_label=\"Plano ID\"))\n",
    "    \n",
    "\n",
    "def avg(array):\n",
    "    return float(sum(array)/len(array))\n",
    "\n",
    "knn_score = avg(knn_score)\n",
    "sgd_score = avg(sgd_score)\n",
    "svc_score = avg(svc_score)\n",
    "tree_score = avg(tree_score)\n",
    "\n",
    "print(f'F1 score for KNN={knn_score}, SGD={sgd_score}, SVC={svc_score}, Decision Trees={tree_score}')"
   ]
  },
  {
   "cell_type": "markdown",
   "metadata": {},
   "source": [
    "## Plotar resultados"
   ]
  },
  {
   "cell_type": "markdown",
   "metadata": {},
   "source": [
    "### KNN"
   ]
  },
  {
   "cell_type": "code",
   "execution_count": 10,
   "metadata": {},
   "outputs": [
    {
     "data": {
      "image/png": "[encoded data removed]",
      "text/plain": [
       "<Figure size 432x288 with 1 Axes>"
      ]
     },
     "metadata": {
      "needs_background": "light"
     },
     "output_type": "display_data"
    }
   ],
   "source": [
    "n_neighbors = 4\n",
    "h = .01\n",
    "\n",
    "x_min, x_max = X.iloc[:,0].min(), X.iloc[:,0].max() \n",
    "y_min, y_max = X.iloc[:,1].min(), X.iloc[:,1].max()\n",
    "\n",
    "xx, yy = np.meshgrid(np.arange(x_min, x_max, h),\n",
    "                     np.arange(y_min, y_max, h))\n",
    "\n",
    "Z = knn.predict(np.c_[xx.ravel(), yy.ravel()])\n",
    "\n",
    "Z = Z.reshape(xx.shape)\n",
    "plt.figure()\n",
    "\n",
    "# Create color maps\n",
    "cmap_light = ListedColormap(['#FFAAAA', '#AAAAFF','#AAFFAA','#AFAFAF'])\n",
    "cmap_bold  = ListedColormap(['#FF0000', '#0000FF','#00FF00','#000000'])\n",
    "\n",
    "plt.pcolormesh(xx, yy, Z, cmap=cmap_light)\n",
    "\n",
    "sns.scatterplot(x = 'Tensão na força máxima', y = 'Deformação na ruptura', data= dados, hue = 'Plano ID', palette=cmap_bold)\n",
    "plt.xlim(xx.min(), xx.max())\n",
    "plt.ylim(yy.min(), yy.max())\n",
    "plt.xlabel('Tensão na força máxima')\n",
    "plt.ylabel('Deformacao na ruptura')\n",
    "plt.title('KNN')\n",
    "plt.show()"
   ]
  },
  {
   "cell_type": "markdown",
   "metadata": {},
   "source": [
    "### SVM"
   ]
  },
  {
   "cell_type": "code",
   "execution_count": 11,
   "metadata": {},
   "outputs": [
    {
     "data": {
      "image/png": "[encoded data removed]",
      "text/plain": [
       "<Figure size 432x288 with 1 Axes>"
      ]
     },
     "metadata": {
      "needs_background": "light"
     },
     "output_type": "display_data"
    }
   ],
   "source": [
    "Z = svc.predict(np.c_[xx.ravel(), yy.ravel()])\n",
    "\n",
    "Z = Z.reshape(xx.shape)\n",
    "plt.figure()\n",
    "\n",
    "# Create color maps\n",
    "cmap_light = ListedColormap(['#FFAAAA', '#AAAAFF','#AAFFAA','#AFAFAF'])\n",
    "cmap_bold  = ListedColormap(['#FF0000', '#0000FF','#00FF00','#000000'])\n",
    "\n",
    "plt.pcolormesh(xx, yy, Z, cmap=cmap_light)\n",
    "\n",
    "sns.scatterplot(x = 'Tensão na força máxima', y = 'Deformação na ruptura', data= dados, hue = 'Plano ID', palette=cmap_bold)\n",
    "plt.xlim(xx.min(), xx.max())\n",
    "plt.ylim(yy.min(), yy.max())\n",
    "plt.xlabel('Tensão na força máxima')\n",
    "plt.ylabel('Deformacao na ruptura')\n",
    "plt.title('SVM')\n",
    "plt.show()"
   ]
  },
  {
   "cell_type": "markdown",
   "metadata": {},
   "source": [
    "### SGD"
   ]
  },
  {
   "cell_type": "code",
   "execution_count": 14,
   "metadata": {},
   "outputs": [
    {
     "data": {
      "image/png": "[encoded data removed]",
      "text/plain": [
       "<Figure size 432x288 with 1 Axes>"
      ]
     },
     "metadata": {
      "needs_background": "light"
     },
     "output_type": "display_data"
    }
   ],
   "source": [
    "Z = sgd.predict(np.c_[xx.ravel(), yy.ravel()])\n",
    "\n",
    "Z = Z.reshape(xx.shape)\n",
    "plt.figure()\n",
    "\n",
    "# Create color maps\n",
    "cmap_light = ListedColormap(['#FFAAAA', '#AAAAFF','#AAFFAA','#AFAFAF'])\n",
    "cmap_bold  = ListedColormap(['#FF0000', '#0000FF','#00FF00','#000000'])\n",
    "\n",
    "plt.pcolormesh(xx, yy, Z, cmap=cmap_light)\n",
    "\n",
    "sns.scatterplot(x = 'Tensão na força máxima', y = 'Deformação na ruptura', data= dados, hue = 'Plano ID', palette=cmap_bold)\n",
    "plt.xlim(xx.min(), xx.max())\n",
    "plt.ylim(yy.min(), yy.max())\n",
    "plt.xlabel('Tensão na força máxima')\n",
    "plt.ylabel('Deformacao na ruptura')\n",
    "plt.title('SGD')\n",
    "plt.show()"
   ]
  },
  {
   "cell_type": "markdown",
   "metadata": {},
   "source": [
    "### Árvore de Decisão"
   ]
  },
  {
   "cell_type": "code",
   "execution_count": 15,
   "metadata": {},
   "outputs": [
    {
     "data": {
      "image/png": "[encoded data removed]",
      "text/plain": [
       "<Figure size 432x288 with 1 Axes>"
      ]
     },
     "metadata": {
      "needs_background": "light"
     },
     "output_type": "display_data"
    }
   ],
   "source": [
    "Z = tree.predict(np.c_[xx.ravel(), yy.ravel()])\n",
    "\n",
    "Z = Z.reshape(xx.shape)\n",
    "plt.figure()\n",
    "\n",
    "# Create color maps\n",
    "cmap_light = ListedColormap(['#FFAAAA', '#AAAAFF','#AAFFAA','#AFAFAF'])\n",
    "cmap_bold  = ListedColormap(['#FF0000', '#0000FF','#00FF00','#000000'])\n",
    "\n",
    "plt.pcolormesh(xx, yy, Z, cmap=cmap_light)\n",
    "\n",
    "sns.scatterplot(x = 'Tensão na força máxima', y = 'Deformação na ruptura', data= dados, hue = 'Plano ID', palette=cmap_bold)\n",
    "plt.xlim(xx.min(), xx.max())\n",
    "plt.ylim(yy.min(), yy.max())\n",
    "plt.xlabel('Tensão na força máxima')\n",
    "plt.ylabel('Deformacao na ruptura')\n",
    "plt.title('Árvore de decisão')\n",
    "plt.show()"
   ]
  }
 ],
 "metadata": {
  "kernelspec": {
   "display_name": "Python 3.6.7 64-bit",
   "language": "python",
   "name": "python36764bitae56fdbcc1594148b699def9b739fd1e"
  }
 },
 "nbformat": 4,
 "nbformat_minor": 2
}
