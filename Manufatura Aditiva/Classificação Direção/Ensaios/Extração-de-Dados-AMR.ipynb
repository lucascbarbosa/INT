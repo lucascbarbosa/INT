{
 "cells": [
  {
   "cell_type": "markdown",
   "metadata": {},
   "source": [
    "# Imports"
   ]
  },
  {
   "cell_type": "code",
   "execution_count": 1,
   "metadata": {},
   "outputs": [],
   "source": [
    "import pandas as pd\n",
    "import numpy as np\n",
    "import os\n",
    "import seaborn as sns\n",
    "import matplotlib.pyplot as plt"
   ]
  },
  {
   "cell_type": "markdown",
   "metadata": {},
   "source": [
    "# Extração de Dados"
   ]
  },
  {
   "cell_type": "code",
   "execution_count": 2,
   "metadata": {},
   "outputs": [],
   "source": [
    "dados_lista = []\n",
    "for material in os.listdir()[1:]:\n",
    "    if os.path.isdir(material):\n",
    "        if not material == 'Ensaios PP':\n",
    "            for direcao in os.listdir(material+'/'):\n",
    "                path = '/'.join([material,direcao])+'/'\n",
    "                if os.path.isdir(path):\n",
    "                    for ensaio in os.listdir(path):\n",
    "                        if ensaio.split('_')[0] == 'Specimen':\n",
    "                            df = pd.read_csv('/'.join([material,direcao,ensaio]))\n",
    "                            df['Tensile stress'] = df['Tensile stress'][1:].astype(float)\n",
    "                            extension = df['Extension'][1:].astype(float).max()\n",
    "                            load = df['Load'][1:].astype(float).max()\n",
    "                            strain = df['Tensile strain'][1:].astype(float).max()\n",
    "                            stress = df['Tensile stress'][1:].astype(float).max()\n",
    "                            orient = direcao.split('_')[6].split('.')[0][:2]\n",
    "                            dados_lista.append((extension,load,strain,stress,orient))\n",
    "                            \n",
    "\n"
   ]
  },
  {
   "cell_type": "code",
   "execution_count": 3,
   "metadata": {},
   "outputs": [],
   "source": [
    "def renomear_colunas(x):\n",
    "    if x == '45':\n",
    "        return 0\n",
    "    elif x == 'XY':\n",
    "        return 1\n",
    "    elif x == 'YX':\n",
    "        return 2\n",
    "    elif x == 'XZ':\n",
    "        return 3\n",
    "    elif x == 'ZY':\n",
    "        return 4\n",
    "    elif x == 'YZ':\n",
    "        return 5\n",
    "    elif x == 'ZX':\n",
    "        return 6\n",
    "    "
   ]
  },
  {
   "cell_type": "code",
   "execution_count": 4,
   "metadata": {},
   "outputs": [
    {
     "data": {
      "text/html": [
       "<div>\n",
       "<style scoped>\n",
       "    .dataframe tbody tr th:only-of-type {\n",
       "        vertical-align: middle;\n",
       "    }\n",
       "\n",
       "    .dataframe tbody tr th {\n",
       "        vertical-align: top;\n",
       "    }\n",
       "\n",
       "    .dataframe thead th {\n",
       "        text-align: right;\n",
       "    }\n",
       "</style>\n",
       "<table border=\"1\" class=\"dataframe\">\n",
       "  <thead>\n",
       "    <tr style=\"text-align: right;\">\n",
       "      <th></th>\n",
       "      <th>Extensao_max</th>\n",
       "      <th>Carga_max</th>\n",
       "      <th>Tensao_max</th>\n",
       "      <th>Estresse_max</th>\n",
       "      <th>Direcao</th>\n",
       "      <th>Direcao_id</th>\n",
       "    </tr>\n",
       "  </thead>\n",
       "  <tbody>\n",
       "    <tr>\n",
       "      <td>0</td>\n",
       "      <td>4.65898</td>\n",
       "      <td>785.32947</td>\n",
       "      <td>14.42756</td>\n",
       "      <td>38.01877</td>\n",
       "      <td>45</td>\n",
       "      <td>0</td>\n",
       "    </tr>\n",
       "    <tr>\n",
       "      <td>1</td>\n",
       "      <td>5.88502</td>\n",
       "      <td>784.43391</td>\n",
       "      <td>19.27230</td>\n",
       "      <td>37.92669</td>\n",
       "      <td>45</td>\n",
       "      <td>0</td>\n",
       "    </tr>\n",
       "    <tr>\n",
       "      <td>2</td>\n",
       "      <td>4.36302</td>\n",
       "      <td>788.95045</td>\n",
       "      <td>14.93217</td>\n",
       "      <td>38.37291</td>\n",
       "      <td>45</td>\n",
       "      <td>0</td>\n",
       "    </tr>\n",
       "    <tr>\n",
       "      <td>3</td>\n",
       "      <td>4.42592</td>\n",
       "      <td>783.99032</td>\n",
       "      <td>13.46811</td>\n",
       "      <td>37.81741</td>\n",
       "      <td>45</td>\n",
       "      <td>0</td>\n",
       "    </tr>\n",
       "    <tr>\n",
       "      <td>4</td>\n",
       "      <td>6.14492</td>\n",
       "      <td>778.48942</td>\n",
       "      <td>20.31382</td>\n",
       "      <td>37.76369</td>\n",
       "      <td>45</td>\n",
       "      <td>0</td>\n",
       "    </tr>\n",
       "    <tr>\n",
       "      <td>...</td>\n",
       "      <td>...</td>\n",
       "      <td>...</td>\n",
       "      <td>...</td>\n",
       "      <td>...</td>\n",
       "      <td>...</td>\n",
       "      <td>...</td>\n",
       "    </tr>\n",
       "    <tr>\n",
       "      <td>66</td>\n",
       "      <td>10.24367</td>\n",
       "      <td>884.72124</td>\n",
       "      <td>37.43294</td>\n",
       "      <td>42.75875</td>\n",
       "      <td>45</td>\n",
       "      <td>0</td>\n",
       "    </tr>\n",
       "    <tr>\n",
       "      <td>67</td>\n",
       "      <td>12.03222</td>\n",
       "      <td>854.20022</td>\n",
       "      <td>44.53442</td>\n",
       "      <td>43.40448</td>\n",
       "      <td>45</td>\n",
       "      <td>0</td>\n",
       "    </tr>\n",
       "    <tr>\n",
       "      <td>68</td>\n",
       "      <td>11.21615</td>\n",
       "      <td>849.75120</td>\n",
       "      <td>41.21476</td>\n",
       "      <td>42.51647</td>\n",
       "      <td>45</td>\n",
       "      <td>0</td>\n",
       "    </tr>\n",
       "    <tr>\n",
       "      <td>69</td>\n",
       "      <td>11.77560</td>\n",
       "      <td>856.61104</td>\n",
       "      <td>43.53981</td>\n",
       "      <td>42.85970</td>\n",
       "      <td>45</td>\n",
       "      <td>0</td>\n",
       "    </tr>\n",
       "    <tr>\n",
       "      <td>70</td>\n",
       "      <td>10.95511</td>\n",
       "      <td>895.45138</td>\n",
       "      <td>40.22597</td>\n",
       "      <td>42.13770</td>\n",
       "      <td>45</td>\n",
       "      <td>0</td>\n",
       "    </tr>\n",
       "  </tbody>\n",
       "</table>\n",
       "<p>71 rows × 6 columns</p>\n",
       "</div>"
      ],
      "text/plain": [
       "    Extensao_max  Carga_max  Tensao_max  Estresse_max Direcao  Direcao_id\n",
       "0        4.65898  785.32947    14.42756      38.01877      45           0\n",
       "1        5.88502  784.43391    19.27230      37.92669      45           0\n",
       "2        4.36302  788.95045    14.93217      38.37291      45           0\n",
       "3        4.42592  783.99032    13.46811      37.81741      45           0\n",
       "4        6.14492  778.48942    20.31382      37.76369      45           0\n",
       "..           ...        ...         ...           ...     ...         ...\n",
       "66      10.24367  884.72124    37.43294      42.75875      45           0\n",
       "67      12.03222  854.20022    44.53442      43.40448      45           0\n",
       "68      11.21615  849.75120    41.21476      42.51647      45           0\n",
       "69      11.77560  856.61104    43.53981      42.85970      45           0\n",
       "70      10.95511  895.45138    40.22597      42.13770      45           0\n",
       "\n",
       "[71 rows x 6 columns]"
      ]
     },
     "execution_count": 4,
     "metadata": {},
     "output_type": "execute_result"
    }
   ],
   "source": [
    "dados = pd.DataFrame(dados_lista)\n",
    "dados.columns = [\"Extensao_max\",\"Carga_max\",\"Tensao_max\",\"Estresse_max\",\"Direcao\"]\n",
    "dados['Direcao_id'] = dados['Direcao'].apply(renomear_colunas)\n",
    "dados['Direcao_id'] = dados['Direcao_id'].astype(int)\n",
    "dados"
   ]
  },
  {
   "cell_type": "code",
   "execution_count": 5,
   "metadata": {},
   "outputs": [],
   "source": [
    "dados=dados.drop(6,axis=0)"
   ]
  },
  {
   "cell_type": "markdown",
   "metadata": {},
   "source": [
    "## Exportar"
   ]
  },
  {
   "cell_type": "code",
   "execution_count": 6,
   "metadata": {},
   "outputs": [],
   "source": [
    "dados.to_csv('Dados.csv')"
   ]
  }
 ],
 "metadata": {
  "kernelspec": {
   "display_name": "Python 3.6.7 64-bit",
   "language": "python",
   "name": "python36764bitae56fdbcc1594148b699def9b739fd1e"
  },
  "language_info": {
   "codemirror_mode": {
    "name": "ipython",
    "version": 3
   },
   "file_extension": ".py",
   "mimetype": "text/x-python",
   "name": "python",
   "nbconvert_exporter": "python",
   "pygments_lexer": "ipython3",
   "version": "3.6.7"
  }
 },
 "nbformat": 4,
 "nbformat_minor": 2
}
