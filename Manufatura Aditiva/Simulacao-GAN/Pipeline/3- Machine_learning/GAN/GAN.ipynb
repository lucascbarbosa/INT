{
 "cells": [
  {
   "cell_type": "markdown",
   "id": "eaa4e9fb",
   "metadata": {},
   "source": [
    "# Imports"
   ]
  },
  {
   "cell_type": "code",
   "execution_count": 1,
   "id": "e5ca1dd5",
   "metadata": {},
   "outputs": [
    {
     "name": "stderr",
     "output_type": "stream",
     "text": [
      "c:\\Users\\lucas\\Anaconda3\\envs\\deeplearn37\\lib\\site-packages\\numpy\\_distributor_init.py:32: UserWarning: loaded more than 1 DLL from .libs:\n",
      "c:\\Users\\lucas\\Anaconda3\\envs\\deeplearn37\\lib\\site-packages\\numpy\\.libs\\libopenblas.4SP5SUA7CBGXUEOC35YP2ASOICYYEQZZ.gfortran-win_amd64.dll\n",
      "c:\\Users\\lucas\\Anaconda3\\envs\\deeplearn37\\lib\\site-packages\\numpy\\.libs\\libopenblas.PYQHXLVVQ7VESDPUVUADXEVJOBGHJPAY.gfortran-win_amd64.dll\n",
      "c:\\Users\\lucas\\Anaconda3\\envs\\deeplearn37\\lib\\site-packages\\numpy\\.libs\\libopenblas.XWYDX2IKJW2NMTWSFYNGFUWKQU3LYTCZ.gfortran-win_amd64.dll\n",
      "  stacklevel=1)\n"
     ]
    }
   ],
   "source": [
    "import os\n",
    "import pandas as pd\n",
    "import numpy as np\n",
    "import matplotlib.pyplot as plt\n",
    "import seaborn as sns\n",
    "from sklearn.preprocessing import MinMaxScaler\n",
    "from skimage import measure\n",
    "import imageio\n",
    "%matplotlib inline\n",
    "\n",
    "import tensorflow as tf\n",
    "from tensorflow.keras import backend as K\n",
    "\n",
    "from tensorflow.keras.models import Model,load_model\n",
    "from tensorflow.keras.layers import Dense, Flatten, Conv1D, Conv2D, Input, Conv2DTranspose, Concatenate, MaxPool1D, Dropout, Reshape, Lambda, InputLayer, LeakyReLU, BatchNormalization\n",
    "from tensorflow.keras.optimizers import Adam \n",
    "from tensorflow.keras.losses import MeanSquaredError\n",
    "from tensorflow.keras.metrics import BinaryCrossentropy"
   ]
  },
  {
   "cell_type": "markdown",
   "id": "f35fbca6",
   "metadata": {},
   "source": [
    "## Test GPU"
   ]
  },
  {
   "cell_type": "code",
   "execution_count": 6,
   "id": "a833f20b",
   "metadata": {},
   "outputs": [
    {
     "name": "stdout",
     "output_type": "stream",
     "text": [
      "GPUs available: 1\n"
     ]
    }
   ],
   "source": [
    "physical_devices = tf.config.list_physical_devices('GPU') \n",
    "tf.config.experimental.set_memory_growth(physical_devices[0], True)\n",
    "print(\"GPUs available:\",len(physical_devices))"
   ]
  },
  {
   "cell_type": "markdown",
   "id": "7694baa4",
   "metadata": {},
   "source": [
    "# Data preparation"
   ]
  },
  {
   "cell_type": "code",
   "execution_count": 7,
   "id": "b5f13ee2",
   "metadata": {},
   "outputs": [
    {
     "name": "stdout",
     "output_type": "stream",
     "text": [
      "Good = 20.10 %\n"
     ]
    },
    {
     "data": {
      "image/png": "[encoded data removed]",
      "text/plain": [
       "<Figure size 432x288 with 1 Axes>"
      ]
     },
     "metadata": {
      "needs_background": "light"
     },
     "output_type": "display_data"
    }
   ],
   "source": [
    "dimension = 2\n",
    "simulation = '-m'\n",
    "simulation = {'-m':'MATLAB','-r':'RTGA'}[simulation]\n",
    "simmetry = 'p4m'\n",
    "score = 'isotropy'\n",
    "\n",
    "if os.getcwd().split('\\\\')[2] == 'lucas':\n",
    "    score_filename = 'E:/Lucas GAN/Dados/4- Mechanical_scores/%s/%sD/%s/%s.csv' %(simulation,dimension,simmetry,score)\n",
    "    geom_epoch_dirs = 'E:/Lucas GAN/Dados/7- Perfomance_data/%sD/geom_epoch/%s/%s/' %(dimension,simmetry,score)\n",
    "    gif_filename = 'E:/Lucas GAN/Dados/7- Perfomance_data/%sD/geom_epoch/%s/%s.gif' %(dimension,simmetry,score)\n",
    "    tmp_models_dir = 'C:/Users/lucas/OneDrive/Documentos/GitHub/INT/Manufatura Aditiva/Simulacao-GAN/Pipeline/3- Machine_learning/GAN/tmp_models/'\n",
    "    models_dir = 'E:/Lucas GAN/Dados/5- GAN_models/%sD/%s/%s/'%(dimension,simmetry,score)\n",
    "else:\n",
    "    score_filename = 'D:/Lucas GAN/Dados/4- Mechanical_scores/%s/%sD/%s/%s.csv' %(simulation,dimension,simmetry,score)\n",
    "    geom_epoch_dirs = 'D:/Lucas GAN/Dados/7- Perfomance_data/%sD/geom_epoch/%s/%s/' %(dimension,simmetry,score)\n",
    "    gif_filename = 'D:/Lucas GAN/Dados/7- Perfomance_data/%sD/geom_epoch/%s/%s.gif' %(dimension,simmetry,score)\n",
    "    tmp_models_dir = 'C:/Users/lucas/OneDrive/Documentos/GitHub/INT/Manufatura Aditiva/Simulacao-GAN/Pipeline/3- Machine_learning/GAN/tmp_models/'\n",
    "    models_dir = 'D:/Lucas GAN/Dados/5- GAN_models/%sD/%s/%s/'%(dimension,simmetry,score)\n",
    "\n",
    "data = np.loadtxt(score_filename,delimiter=',')\n",
    "X = data[:,1:-1]\n",
    "size = int(np.sqrt(X.shape[1]))\n",
    "X = X.reshape((X.shape[0],size,size,1))\n",
    "\n",
    "y = data[:,-1]\n",
    "y = y.reshape((y.shape[0],1))\n",
    "\n",
    "scaler = MinMaxScaler()\n",
    "y = scaler.fit_transform(y).round(10)\n",
    "cutoff = 0.56\n",
    "sns.histplot(y,legend=False,bins=16)\n",
    "idxs_good = np.where(y>cutoff)[0]\n",
    "idxs_bad = np.where(y<=cutoff)[0]\n",
    "\n",
    "y = np.zeros(y.shape)\n",
    "y[idxs_good] = 1.0\n",
    "print(f\"Good = %.2f %%\"%(100*len(idxs_good)/(len(idxs_good)+len(idxs_bad))))\n",
    "X_good = X[idxs_good]\n",
    "\n",
    "input_G = 128\n",
    "output_G = input_D = X.shape[1:]\n",
    "output_D = 1"
   ]
  },
  {
   "cell_type": "markdown",
   "id": "dbfa1dd6",
   "metadata": {},
   "source": [
    "# Models definition"
   ]
  },
  {
   "cell_type": "markdown",
   "id": "4c1b7d84",
   "metadata": {},
   "source": [
    "## Generator"
   ]
  },
  {
   "cell_type": "code",
   "execution_count": 8,
   "id": "1477e168",
   "metadata": {},
   "outputs": [
    {
     "name": "stdout",
     "output_type": "stream",
     "text": [
      "Model: \"Generator\"\n",
      "_________________________________________________________________\n",
      " Layer (type)                Output Shape              Param #   \n",
      "=================================================================\n",
      " input_1 (InputLayer)        [(None, 128)]             0         \n",
      "                                                                 \n",
      " dense (Dense)               (None, 8192)              1056768   \n",
      "                                                                 \n",
      " leaky_re_lu_1 (LeakyReLU)   (None, 8192)              0         \n",
      "                                                                 \n",
      " reshape (Reshape)           (None, 8, 8, 128)         0         \n",
      "                                                                 \n",
      " conv2d_transpose (Conv2DTra  (None, 16, 16, 128)      262272    \n",
      " nspose)                                                         \n",
      "                                                                 \n",
      " leaky_re_lu_3 (LeakyReLU)   (None, 16, 16, 128)       0         \n",
      "                                                                 \n",
      " conv2d (Conv2D)             (None, 16, 16, 1)         8193      \n",
      "                                                                 \n",
      " lambda (Lambda)             (None, 16, 16, 1)         0         \n",
      "                                                                 \n",
      "=================================================================\n",
      "Total params: 1,327,233\n",
      "Trainable params: 1,327,233\n",
      "Non-trainable params: 0\n",
      "_________________________________________________________________\n"
     ]
    }
   ],
   "source": [
    "def setup_G(input_G,output_G,size):\n",
    "    size = int(size/2)\n",
    "    in_G = Input(shape=(input_G,))\n",
    "\n",
    "    # foundation for 8x8 image\n",
    "    n_nodes = 128 * size * size\n",
    "    out_G = Dense(n_nodes,activation=LeakyReLU(alpha=0.2))(in_G)\n",
    "    out_G = LeakyReLU(alpha=0.2)(out_G)\n",
    "    out_G = Reshape((size, size, 128))(out_G)\n",
    "    # upsample to 16x16\n",
    "    out_G = Conv2DTranspose(128, (4,4), strides=(2,2), padding='same',activation=LeakyReLU(alpha=0.2))(out_G)\n",
    "    out_G = LeakyReLU(alpha=0.2)(out_G)\n",
    "    out_G = Conv2D(1, (size,size), activation='sigmoid', padding='same')(out_G)\n",
    "    out_density = Lambda(lambda x:x)(out_G)\n",
    "\n",
    "    model = Model(name='Generator',inputs=in_G,outputs=[out_G,out_density])\n",
    "    layer = model.layers[-2].weights[0]\n",
    "    return model\n",
    "setup_G(input_G,output_G,size).summary()"
   ]
  },
  {
   "cell_type": "markdown",
   "id": "80b92ad7",
   "metadata": {},
   "source": [
    "## Discriminator"
   ]
  },
  {
   "cell_type": "code",
   "execution_count": 9,
   "id": "490da670",
   "metadata": {},
   "outputs": [
    {
     "name": "stdout",
     "output_type": "stream",
     "text": [
      "Model: \"Discriminator\"\n",
      "__________________________________________________________________________________________________\n",
      " Layer (type)                   Output Shape         Param #     Connected to                     \n",
      "==================================================================================================\n",
      " input_2 (InputLayer)           [(None, 16, 16, 1)]  0           []                               \n",
      "                                                                                                  \n",
      " conv2d_1 (Conv2D)              (None, 8, 8, 64)     640         ['input_2[0][0]']                \n",
      "                                                                                                  \n",
      " dropout (Dropout)              (None, 8, 8, 64)     0           ['conv2d_1[0][0]']               \n",
      "                                                                                                  \n",
      " conv2d_2 (Conv2D)              (None, 4, 4, 64)     36928       ['dropout[0][0]']                \n",
      "                                                                                                  \n",
      " dropout_1 (Dropout)            (None, 4, 4, 64)     0           ['conv2d_2[0][0]']               \n",
      "                                                                                                  \n",
      " flatten (Flatten)              (None, 1024)         0           ['dropout_1[0][0]']              \n",
      "                                                                                                  \n",
      " input_3 (InputLayer)           [(None, 16, 16, 1)]  0           []                               \n",
      "                                                                                                  \n",
      " dense_1 (Dense)                (None, 1)            1025        ['flatten[0][0]']                \n",
      "                                                                                                  \n",
      " lambda_1 (Lambda)              (None, 16, 16, 1)    0           ['input_3[0][0]']                \n",
      "                                                                                                  \n",
      "==================================================================================================\n",
      "Total params: 38,593\n",
      "Trainable params: 38,593\n",
      "Non-trainable params: 0\n",
      "__________________________________________________________________________________________________\n"
     ]
    }
   ],
   "source": [
    "def style_loss():\n",
    "    def custom_loss(y_true,y_pred):\n",
    "        size = y_pred.shape[1]*y_pred.shape[2]\n",
    "        y_pred = K.round(y_pred)\n",
    "        por_true = K.sum(K.sum(K.sum(y_true,axis=1),axis=1),axis=1)/size\n",
    "        por_pred = K.sum(K.sum(K.sum(y_pred,axis=1),axis=1),axis=1)/size\n",
    "        mse = tf.cast((por_true-por_pred)**2,tf.float32)\n",
    "        return mse\n",
    "    return custom_loss\n",
    "\n",
    "def setup_D(input_D,lr,alpha):\n",
    "    in_D = Input(shape=input_D)\n",
    "    out_D = Conv2D(64, (3,3), strides=(2, 2), padding='same', activation=LeakyReLU(alpha=0.2))(in_D)\n",
    "    out_D = Dropout(0.4)(out_D)\n",
    "    out_D = Conv2D(64, (3,3), strides=(2, 2), padding='same', activation=LeakyReLU(alpha=0.2))(out_D)\n",
    "    out_D = Dropout(0.4)(out_D)\n",
    "    out_D = Flatten()(out_D)\n",
    "    out_D = Dense(1, activation='sigmoid')(out_D)\n",
    "\n",
    "    # compile model\n",
    "    in_density = Input(shape=input_D)\n",
    "    out_density = Lambda(lambda x: x)(in_density)\n",
    "\n",
    "    opt = Adam(learning_rate=lr, beta_1=0.5)\n",
    "    model = Model(\n",
    "                name='Discriminator', \\\n",
    "                inputs=[in_D,in_density], \\\n",
    "                outputs=[out_D,out_density])\n",
    "\n",
    "    model.compile(\n",
    "                loss=['binary_crossentropy',style_loss()], \\\n",
    "                loss_weights=[1.0,alpha], \\\n",
    "                optimizer=opt, \\\n",
    "                metrics=['accuracy'])\n",
    "    return model\n",
    "\n",
    "setup_D(input_D,1e-4,0.03).summary()"
   ]
  },
  {
   "cell_type": "markdown",
   "id": "ebffbef5",
   "metadata": {},
   "source": [
    "## Setup GAN"
   ]
  },
  {
   "cell_type": "code",
   "execution_count": 10,
   "id": "91cf55cf",
   "metadata": {},
   "outputs": [
    {
     "name": "stdout",
     "output_type": "stream",
     "text": [
      "Model: \"GAN\"\n",
      "__________________________________________________________________________________________________\n",
      " Layer (type)                   Output Shape         Param #     Connected to                     \n",
      "==================================================================================================\n",
      " input_4 (InputLayer)           [(None, 128)]        0           []                               \n",
      "                                                                                                  \n",
      " Generator (Functional)         [(None, 16, 16, 1),  1327233     ['input_4[0][0]']                \n",
      "                                 (None, 16, 16, 1)]                                               \n",
      "                                                                                                  \n",
      " Discriminator (Functional)     [(None, 1),          38593       ['Generator[0][0]',              \n",
      "                                 (None, 16, 16, 1)]               'Generator[0][1]']              \n",
      "                                                                                                  \n",
      "==================================================================================================\n",
      "Total params: 1,365,826\n",
      "Trainable params: 1,327,233\n",
      "Non-trainable params: 38,593\n",
      "__________________________________________________________________________________________________\n"
     ]
    }
   ],
   "source": [
    "def setup_GAN(G_model,D_model,alpha,lr,size):\n",
    "    optimizer = Adam(learning_rate=lr, beta_1=0.5)\n",
    "    D_model.trainable = False\n",
    "    in_G = G_model.input\n",
    "    out_GAN = D_model(G_model(in_G))\n",
    "    model = Model(name='GAN',inputs=in_G,outputs=out_GAN)\n",
    "    model.compile(\n",
    "                loss=['binary_crossentropy',style_loss()], \\\n",
    "                loss_weights=[1.0,alpha], \\\n",
    "                optimizer=optimizer, \\\n",
    "                metrics=['accuracy']\n",
    "                )\n",
    "    return model\n",
    "\n",
    "alpha = 0.03\n",
    "lr = 1e-4\n",
    "setup_GAN(setup_G(input_G,output_G,size),setup_D(input_D,lr,alpha),alpha,lr,size).summary()"
   ]
  },
  {
   "cell_type": "markdown",
   "id": "c442093f",
   "metadata": {},
   "source": [
    "# Aux functions"
   ]
  },
  {
   "cell_type": "markdown",
   "id": "d5f2aa19",
   "metadata": {},
   "source": [
    "## For GAN"
   ]
  },
  {
   "cell_type": "code",
   "execution_count": 11,
   "id": "638c63c9",
   "metadata": {},
   "outputs": [],
   "source": [
    "def generate_fake_samples(G_model, input_G, n_samples):\n",
    "    # generate points in latent space\n",
    "    X_input = generate_input_G(input_G, n_samples)\n",
    "    # predict outputs\n",
    "    X,_ = G_model.predict(X_input)\n",
    "    # create 'fake' class labels (0)\n",
    "    y = np.zeros((n_samples, 1))\n",
    "    return X,y\n",
    "\n",
    "def generate_input_G(input_G, n_samples):\n",
    "    # generate points in the latent space\n",
    "    X_input = np.random.randn(input_G * n_samples)\n",
    "    # reshape into a batch of inputs for the network\n",
    "    X_input = X_input.reshape(n_samples, input_G)\n",
    "    return X_input\n",
    "\n",
    "def generate_real_samples(dataset, n_samples):\n",
    "    # choose random instances\n",
    "    ix = np.random.randint(0, dataset.shape[0], n_samples)\n",
    "    # retrieve selected images\n",
    "    X = dataset[ix]\n",
    "    # generate 'real' class labels (1)\n",
    "    y = np.ones((n_samples, 1))\n",
    "    return X, y\n",
    "\n",
    "def summarize_performance(epoch,porosity,G_model, D_model, data, input_G, n_samples=100):\n",
    "    # prepare real samples\n",
    "    X_real, y_real = generate_real_samples(data, n_samples)\n",
    "    # evaluate discriminator on real examples\n",
    "    _,_,_,acc_real,_ = D_model.evaluate(x=[X_real,X_real], y=[y_real,porosity*np.ones(X_real.shape)], verbose=0)\n",
    "    # prepare fake examples\n",
    "    X_fake, y_fake = generate_fake_samples(G_model, input_G, n_samples)\n",
    "    # evaluate discriminator on fake examples\n",
    "    _,_,_,acc_fake,_ = D_model.evaluate(x=[X_fake,X_fake], y=[y_fake,porosity*np.ones(X_fake.shape)], verbose=0)\n",
    "    # summarize discriminator performance\n",
    "    return  acc_real,acc_fake\n",
    "\n",
    "# Filter per porosity\n",
    "def porosity_match(geoms,porosity,tol):\n",
    "    geoms_ = []\n",
    "    passed = 0\n",
    "    for i in range(geoms.shape[0]):\n",
    "        g =geoms[i,:,:,0]\n",
    "        size = g.shape[0]\n",
    "        g = g.reshape((size*size,))\n",
    "        p = np.sum(g)/(size*size)\n",
    "        if p >= porosity-tol and p <= porosity+tol:\n",
    "            geoms_.append(g.reshape((size,size)))\n",
    "            passed += 1\n",
    "    return passed/len(geoms),np.array(geoms_).reshape((passed,size,size,1))"
   ]
  },
  {
   "cell_type": "markdown",
   "id": "cefed93d",
   "metadata": {},
   "source": [
    "## For geometry manipulation"
   ]
  },
  {
   "cell_type": "code",
   "execution_count": 12,
   "id": "3184e825",
   "metadata": {},
   "outputs": [],
   "source": [
    "def create_unit(element,size,simmetry):\n",
    "  if simmetry[1:] == '4':\n",
    "    unit_size = 2*size\n",
    "    # fold_size = np.random.choice(4,1)[0]\n",
    "    unit = np.ones((2*size,2*size))*(-1)\n",
    "    h,w = element.shape\n",
    "    for i in range(h):\n",
    "      for j in range(w):\n",
    "        el = element[i,j]\n",
    "        \n",
    "        j_ = [j,2*w-1-i,2*h-1-j,i]\n",
    "        i_ = [i,j,2*w-1-i,2*h-1-j]\n",
    "        # (1,7)->(7,14)->(14,8)->(8,1)\n",
    "        for (k,l) in list(zip(i_,j_)):\n",
    "          unit[k,l]  = el\n",
    "    return unit\n",
    "\n",
    "  if simmetry[1:] in ['4m','4g']:\n",
    "    unit_element_size = 2*size\n",
    "    # fold_element_size = np.random.choice(4,1)[0]\n",
    "    unit = np.ones((2*size,2*size))*(-1)\n",
    "    h,w = element.shape\n",
    "    for i in range(h):\n",
    "      for j in range(w):\n",
    "        el = element[i,j]\n",
    "        j_ = [j,unit_size-1-j,unit_size-1-j,j]\n",
    "        i_ = [i+size,i+size,size-1-i,size-1-i]\n",
    "        # (1,2)-> (1,13) -> (14,13) -> (14,2)\n",
    "        for (k,l) in list(zip(i_,j_)):\n",
    "          unit[k,l]  = el\n",
    "    return unit\n",
    "\n",
    "def create_arrange(unit,rows,cols):\n",
    "  size = unit.shape[0]\n",
    "  arrange = np.zeros((rows*size,cols*size))\n",
    "  for i in range(unit.shape[0]):\n",
    "    for j in range(unit.shape[1]):\n",
    "      for row in range(rows):\n",
    "        for col in range(cols):\n",
    "          arrange[j+row*size,i+col*size] = unit[j,i]\n",
    "  \n",
    "  return arrange"
   ]
  },
  {
   "cell_type": "markdown",
   "id": "4bbad331",
   "metadata": {},
   "source": [
    "# Training GAN"
   ]
  },
  {
   "cell_type": "code",
   "execution_count": 39,
   "id": "b699c1af",
   "metadata": {
    "scrolled": true
   },
   "outputs": [
    {
     "name": "stdout",
     "output_type": "stream",
     "text": [
      "WARNING:tensorflow:Compiled the loaded model, but the compiled metrics have yet to be built. `model.compile_metrics` will be empty until you train or evaluate the model.\n",
      ">Epoch: 10 Porosity match: 0% real: 92% fake: 97%\n",
      "WARNING:tensorflow:Compiled the loaded model, but the compiled metrics have yet to be built. `model.compile_metrics` will be empty until you train or evaluate the model.\n",
      ">Epoch: 20 Porosity match: 0% real: 97% fake: 0%\n",
      "WARNING:tensorflow:Compiled the loaded model, but the compiled metrics have yet to be built. `model.compile_metrics` will be empty until you train or evaluate the model.\n",
      ">Epoch: 30 Porosity match: 0% real: 100% fake: 0%\n",
      "WARNING:tensorflow:Compiled the loaded model, but the compiled metrics have yet to be built. `model.compile_metrics` will be empty until you train or evaluate the model.\n",
      ">Epoch: 40 Porosity match: 0% real: 83% fake: 100%\n",
      "WARNING:tensorflow:Compiled the loaded model, but the compiled metrics have yet to be built. `model.compile_metrics` will be empty until you train or evaluate the model.\n",
      ">Epoch: 50 Porosity match: 0% real: 99% fake: 61%\n",
      "WARNING:tensorflow:Compiled the loaded model, but the compiled metrics have yet to be built. `model.compile_metrics` will be empty until you train or evaluate the model.\n",
      ">Epoch: 60 Porosity match: 0% real: 69% fake: 0%\n",
      "WARNING:tensorflow:Compiled the loaded model, but the compiled metrics have yet to be built. `model.compile_metrics` will be empty until you train or evaluate the model.\n",
      ">Epoch: 70 Porosity match: 0% real: 82% fake: 100%\n",
      "WARNING:tensorflow:Compiled the loaded model, but the compiled metrics have yet to be built. `model.compile_metrics` will be empty until you train or evaluate the model.\n",
      ">Epoch: 80 Porosity match: 0% real: 100% fake: 0%\n",
      "WARNING:tensorflow:Compiled the loaded model, but the compiled metrics have yet to be built. `model.compile_metrics` will be empty until you train or evaluate the model.\n",
      ">Epoch: 90 Porosity match: 0% real: 46% fake: 100%\n",
      "WARNING:tensorflow:Compiled the loaded model, but the compiled metrics have yet to be built. `model.compile_metrics` will be empty until you train or evaluate the model.\n",
      ">Epoch: 100 Porosity match: 0% real: 95% fake: 92%\n",
      "WARNING:tensorflow:Compiled the loaded model, but the compiled metrics have yet to be built. `model.compile_metrics` will be empty until you train or evaluate the model.\n",
      ">Epoch: 110 Porosity match: 0% real: 100% fake: 26%\n",
      "WARNING:tensorflow:Compiled the loaded model, but the compiled metrics have yet to be built. `model.compile_metrics` will be empty until you train or evaluate the model.\n",
      ">Epoch: 120 Porosity match: 2% real: 93% fake: 100%\n",
      "WARNING:tensorflow:Compiled the loaded model, but the compiled metrics have yet to be built. `model.compile_metrics` will be empty until you train or evaluate the model.\n",
      ">Epoch: 130 Porosity match: 0% real: 56% fake: 100%\n",
      "WARNING:tensorflow:Compiled the loaded model, but the compiled metrics have yet to be built. `model.compile_metrics` will be empty until you train or evaluate the model.\n",
      ">Epoch: 140 Porosity match: 0% real: 84% fake: 33%\n",
      "WARNING:tensorflow:Compiled the loaded model, but the compiled metrics have yet to be built. `model.compile_metrics` will be empty until you train or evaluate the model.\n",
      ">Epoch: 150 Porosity match: 0% real: 99% fake: 100%\n",
      "WARNING:tensorflow:Compiled the loaded model, but the compiled metrics have yet to be built. `model.compile_metrics` will be empty until you train or evaluate the model.\n",
      ">Epoch: 160 Porosity match: 5% real: 71% fake: 100%\n",
      "WARNING:tensorflow:Compiled the loaded model, but the compiled metrics have yet to be built. `model.compile_metrics` will be empty until you train or evaluate the model.\n",
      ">Epoch: 170 Porosity match: 0% real: 88% fake: 66%\n",
      "WARNING:tensorflow:Compiled the loaded model, but the compiled metrics have yet to be built. `model.compile_metrics` will be empty until you train or evaluate the model.\n",
      ">Epoch: 180 Porosity match: 0% real: 86% fake: 69%\n",
      "WARNING:tensorflow:Compiled the loaded model, but the compiled metrics have yet to be built. `model.compile_metrics` will be empty until you train or evaluate the model.\n",
      ">Epoch: 190 Porosity match: 49% real: 62% fake: 91%\n",
      "WARNING:tensorflow:Compiled the loaded model, but the compiled metrics have yet to be built. `model.compile_metrics` will be empty until you train or evaluate the model.\n",
      ">Epoch: 200 Porosity match: 54% real: 96% fake: 100%\n"
     ]
    },
    {
     "data": {
      "image/png": "[encoded data removed]",
      "text/plain": [
       "<Figure size 1728x576 with 3 Axes>"
      ]
     },
     "metadata": {
      "needs_background": "light"
     },
     "output_type": "display_data"
    },
    {
     "data": {
      "image/png": "[encoded data removed]",
      "text/plain": [
       "<Figure size 720x576 with 1 Axes>"
      ]
     },
     "metadata": {
      "needs_background": "light"
     },
     "output_type": "display_data"
    }
   ],
   "source": [
    "def train(G_model,D_model,GAN_model,input_G,porosity,tol_porosity,batch_size,num_epochs,tmp_models_dir,geom_epoch_dirs,seed_geom_gif,plot=False,verbose_loss=False,verbose_acc=False):\n",
    "    \n",
    "    for file in os.listdir(tmp_models_dir):\n",
    "        os.remove(tmp_models_dir+file)\n",
    "\n",
    "    for geom_file in os.listdir(geom_epoch_dirs):\n",
    "        os.remove(geom_epoch_dirs+geom_file)\n",
    "\n",
    "    batch_per_epoch = int(X_good.shape[0] /batch_size)\n",
    "    half_batch = int(batch_size/2)\n",
    "    \n",
    "    G_losses = []\n",
    "    D_losses = []\n",
    "\n",
    "    fig,ax = plt.subplots(1,3);\n",
    "    fig.set_size_inches((24,8))\n",
    "    for i in range(num_epochs):\n",
    "        G_losses_epoch = []\n",
    "        D_losses_epoch = []\n",
    "        for j in range(batch_per_epoch):\n",
    "            X_real,y_real = generate_real_samples(X_good,half_batch)\n",
    "            X_fake,y_fake = generate_fake_samples(G_model,input_G,half_batch)            \n",
    "\n",
    "            X, y = np.vstack((X_real, X_fake)), np.vstack((y_real, y_fake))\n",
    "\n",
    "            if not verbose_loss:\n",
    "                D_loss = D_model.train_on_batch(x=[X,X], y=[y,porosity*np.ones(X.shape)])\n",
    "                D_loss = D_loss[0]\n",
    "            else:\n",
    "                D_loss = D_model.train_on_batch(x=[X,X], y=[y,porosity*np.ones(X.shape)],return_dict=True)\n",
    "                D_loss = D_loss['loss']\n",
    "\n",
    "            D_losses_epoch.append(D_loss)\n",
    "\n",
    "            X_GAN = generate_input_G(input_G, batch_size)\n",
    "            y_GAN = np.ones((batch_size, 1))\n",
    "\n",
    "            if not verbose_loss:\n",
    "                G_loss= GAN_model.train_on_batch(x=X_GAN, y=[y_GAN,porosity*np.ones(X.shape)])\n",
    "                G_loss = G_loss[0]\n",
    "            else:\n",
    "                G_loss= GAN_model.train_on_batch(x=X_GAN, y=[y_GAN,porosity*np.ones(X.shape)],return_dict=True)\n",
    "                print(G_loss)\n",
    "                G_loss = G_loss['loss']\n",
    "\n",
    "            if verbose_loss: \n",
    "                print('>%d, %d/%d, D_loss=%.3f, G_loss=%.3f' % (i+1, j+1, batch_per_epoch,  D_loss, G_loss))\n",
    "            G_losses_epoch.append(G_loss)\n",
    "        \n",
    "\n",
    "        G_losses.append(np.array(G_losses_epoch).mean())\n",
    "        D_losses.append(np.array(D_losses_epoch).mean())\n",
    "        \n",
    "        # export model\n",
    "        if (i+1) % 10 == 0:\n",
    "            acc_real,acc_fake = summarize_performance(i+1,porosity,G_model,D_model,X_good,input_G)\n",
    "\n",
    "            X_test = generate_input_G(input_G,1000)\n",
    "            geoms, _ = G_model.predict(X_test)\n",
    "            geoms = np.array(geoms)\n",
    "            por_match, _ = porosity_match(geoms, porosity, tol_porosity)\n",
    "            G_model.save(tmp_models_dir+f'epoch_{i+1}_por_{np.round(por_match,2)}_real_{np.round(acc_real,2)}_fake_{np.round(acc_fake,2)}.h5')\n",
    "            \n",
    "            if verbose_acc:\n",
    "                print('>Epoch: %i Porosity match: %.0f%% real: %.0f%% fake: %.0f%%' % (i+1, por_match*100, acc_real*100, acc_fake*100))\n",
    "\n",
    "        # save geometry\n",
    "        if (i+1) % 5 == 0:\n",
    "            geom_gif_filename = geom_epoch_dirs + 'epoch_%03d.png'%(i+1)\n",
    "            elem_gif,_ = G_model.predict(seed_geom_gif)\n",
    "            size = elem_gif.shape[1]\n",
    "            elem_gif = elem_gif.reshape((size,size))\n",
    "            ax[0].imshow(elem_gif,cmap='Greys');\n",
    "            ax[0].axis('off')\n",
    "\n",
    "            unit_gif = create_unit(elem_gif,size,'p4') \n",
    "            ax[1].imshow(unit_gif,cmap='Greys');\n",
    "            ax[1].axis('off')\n",
    "\n",
    "            arrange_gif = create_arrange(unit_gif,3,3)\n",
    "            ax[2].imshow(arrange_gif,cmap='Greys');\n",
    "            ax[2].axis('off')\n",
    "            plt.savefig(geom_gif_filename, bbox_inches='tight')\n",
    "\n",
    "    G_losses = np.array(G_losses)\n",
    "    D_losses = np.array(D_losses)\n",
    "    if plot:\n",
    "        plt.figure(figsize=((10,8)))\n",
    "        plt.plot(list(range(1,num_epochs+1)),D_losses,label='D Loss')\n",
    "        plt.title('Loss')\n",
    "        plt.ylabel('Loss')\n",
    "        plt.xlabel('Epoch')\n",
    "        plt.plot(list(range(1,num_epochs+1)),G_losses,label='G Loss')\n",
    "        plt.legend()\n",
    "        plt.show()\n",
    "        \n",
    "batch_size = 64\n",
    "num_epochs = 200\n",
    "\n",
    "alpha = 1e-1\n",
    "lr = 1e-4\n",
    "porosity = 0.55\n",
    "tol_porosity = 0.02\n",
    "\n",
    "G = setup_G(input_G,output_G,size)\n",
    "D = setup_D(input_D,lr,alpha)\n",
    "GAN = setup_GAN(G,D,alpha,lr,size)\n",
    "\n",
    "plot=True\n",
    "verbose_loss=False\n",
    "verbose_acc=True\n",
    "\n",
    "seed_geom_gif = np.random.randn(input_G).reshape(1, input_G)\n",
    "\n",
    "train(G,D,GAN,input_G,porosity,tol_porosity,batch_size,num_epochs,tmp_models_dir,geom_epoch_dirs,seed_geom_gif,plot=plot,verbose_loss=verbose_loss,verbose_acc=verbose_acc)"
   ]
  },
  {
   "cell_type": "markdown",
   "id": "e10e5d0a",
   "metadata": {},
   "source": [
    "## Compile gif"
   ]
  },
  {
   "cell_type": "code",
   "execution_count": 40,
   "id": "eb62ea8d",
   "metadata": {},
   "outputs": [],
   "source": [
    "score = 'isotropy'\n",
    "with imageio.get_writer(gif_filename, mode='I') as writer:\n",
    "    for geom_filename in os.listdir(geom_epoch_dirs):\n",
    "        image = imageio.imread(geom_epoch_dirs+geom_filename)\n",
    "        writer.append_data(image)\n",
    "    for i in range(30):\n",
    "        image = imageio.imread(geom_epoch_dirs+geom_filename)\n",
    "        writer.append_data(image)\n"
   ]
  },
  {
   "cell_type": "markdown",
   "id": "9b9a6b19",
   "metadata": {},
   "source": [
    "## Evaluate `Generator`"
   ]
  },
  {
   "cell_type": "markdown",
   "id": "dafdc9cb",
   "metadata": {},
   "source": [
    "## Test porosity"
   ]
  },
  {
   "cell_type": "code",
   "execution_count": 41,
   "id": "3ed76b8e",
   "metadata": {},
   "outputs": [
    {
     "name": "stdout",
     "output_type": "stream",
     "text": [
      "WARNING:tensorflow:No training configuration found in the save file, so the model was *not* compiled. Compile it manually.\n",
      "Por_match: 45.96\n"
     ]
    },
    {
     "data": {
      "image/png": "[encoded data removed]",
      "text/plain": [
       "<Figure size 432x288 with 1 Axes>"
      ]
     },
     "metadata": {
      "needs_background": "light"
     },
     "output_type": "display_data"
    }
   ],
   "source": [
    "# select models\n",
    "epoch = 200\n",
    "G_files = os.listdir(tmp_models_dir)\n",
    "for i in range(len(G_files)):\n",
    "    G_file = G_files[i]\n",
    "    if int(G_file.split('_')[1]) == epoch:\n",
    "        G = load_model(tmp_models_dir+G_file)\n",
    "        \n",
    "\n",
    "test_size = 10000\n",
    "X_test = generate_input_G(input_G,test_size)\n",
    "\n",
    "generated_geoms,_ = G.predict(X_test)\n",
    "\n",
    "porosities =  []\n",
    "pors = []\n",
    "porosity = 0.55\n",
    "tol = 0.02\n",
    "\n",
    "for generated_geom in generated_geoms:\n",
    "    p = generated_geom.ravel().round()\n",
    "    p = p.sum()/p.shape[0]\n",
    "    if p <= porosity+tol and p >= porosity-tol:\n",
    "        pors.append(p)\n",
    "    porosities.append(p)\n",
    "\n",
    "sns.histplot(porosities,bins=16);\n",
    "print(f'Por_match: {100*len(pors)/len(porosities)}')"
   ]
  },
  {
   "cell_type": "markdown",
   "id": "7a2843d9",
   "metadata": {},
   "source": [
    "## Visualize geometries"
   ]
  },
  {
   "cell_type": "code",
   "execution_count": 1,
   "id": "954ff521",
   "metadata": {},
   "outputs": [
    {
     "ename": "NameError",
     "evalue": "name 'porosity_match' is not defined",
     "output_type": "error",
     "traceback": [
      "\u001b[1;31m---------------------------------------------------------------------------\u001b[0m",
      "\u001b[1;31mNameError\u001b[0m                                 Traceback (most recent call last)",
      "\u001b[1;32m<ipython-input-1-e070d8c7830b>\u001b[0m in \u001b[0;36m<module>\u001b[1;34m\u001b[0m\n\u001b[0;32m     42\u001b[0m \u001b[0mtol\u001b[0m \u001b[1;33m=\u001b[0m \u001b[1;36m0.02\u001b[0m\u001b[1;33m\u001b[0m\u001b[0m\n\u001b[0;32m     43\u001b[0m \u001b[0msimmetry\u001b[0m \u001b[1;33m=\u001b[0m \u001b[1;34m'p4'\u001b[0m\u001b[1;33m\u001b[0m\u001b[0m\n\u001b[1;32m---> 44\u001b[1;33m \u001b[0m_\u001b[0m\u001b[1;33m,\u001b[0m \u001b[0mgeometries\u001b[0m \u001b[1;33m=\u001b[0m \u001b[0mporosity_match\u001b[0m\u001b[1;33m(\u001b[0m\u001b[0mgenerated_geoms\u001b[0m\u001b[1;33m,\u001b[0m\u001b[0mporosity\u001b[0m\u001b[1;33m,\u001b[0m\u001b[0mtol\u001b[0m\u001b[1;33m)\u001b[0m\u001b[1;33m\u001b[0m\u001b[0m\n\u001b[0m\u001b[0;32m     45\u001b[0m \u001b[0msize\u001b[0m \u001b[1;33m=\u001b[0m \u001b[0mgeometries\u001b[0m\u001b[1;33m.\u001b[0m\u001b[0mshape\u001b[0m\u001b[1;33m[\u001b[0m\u001b[1;36m1\u001b[0m\u001b[1;33m]\u001b[0m\u001b[1;33m\u001b[0m\u001b[0m\n\u001b[0;32m     46\u001b[0m \u001b[0mgeometries_\u001b[0m \u001b[1;33m=\u001b[0m \u001b[1;33m[\u001b[0m\u001b[1;33m]\u001b[0m\u001b[1;33m\u001b[0m\u001b[0m\n",
      "\u001b[1;31mNameError\u001b[0m: name 'porosity_match' is not defined"
     ]
    }
   ],
   "source": [
    "def check_unit(unit,tol):\n",
    "  labels = measure.label(unit,connectivity=1)\n",
    "  main_label = 0\n",
    "  main_label_count = 0\n",
    "  passed = True\n",
    "\n",
    "  for label in range(1,len(np.unique(labels))):\n",
    "    label_count = np.where(labels==label)[0].shape[0]\n",
    "    if label_count > main_label_count:\n",
    "      main_label = label\n",
    "      main_label_count = label_count\n",
    "\n",
    "  if np.where(labels==0)[0].shape[0]+np.where(labels==main_label)[0].shape[0] >(1.0-tol)*unit.shape[0]*unit.shape[0]:\n",
    "    for label in range(1,len(np.unique(labels))):\n",
    "      if label not in [0,main_label]:\n",
    "        unit[np.where(labels==label)] = 0.\n",
    "\n",
    "    if unit[0,:].sum() > 0 and unit[:,0].sum() > 0:\n",
    "      # check if there is connectivity right-left\n",
    "      connections_rl = 0\n",
    "      for i in range(unit.shape[0]):\n",
    "        if (unit[i,0] == 1 and unit[i,-1] == 1):\n",
    "          connections_rl += 1\n",
    "\n",
    "      # check if there is connectivity top-bottom\n",
    "      connections_tb = 0\n",
    "      for j in range(unit.shape[1]):\n",
    "        if (unit[0,j] == 1 and unit[i,-1] == 1):\n",
    "          connections_tb += 1\n",
    "\n",
    "      if connections_rl == 0 or connections_tb == 0:\n",
    "        passed = False\n",
    "      \n",
    "    else:\n",
    "      passed = False\n",
    "      \n",
    "  else:\n",
    "    passed = False\n",
    "  return passed, unit[:unit.shape[0]//2,:unit.shape[0]//2]\n",
    "\n",
    "porosity=0.55\n",
    "tol = 0.02\n",
    "simmetry = 'p4'\n",
    "_, geometries = porosity_match(generated_geoms,porosity,tol)\n",
    "size = geometries.shape[1]\n",
    "geometries_ = []\n",
    "\n",
    "for i in range(len(geometries)):\n",
    "  geom = geometries[i].reshape((size,size)).round()\n",
    "  unit = create_unit(geom,size,simmetry)\n",
    "  passed,geom_ = check_unit(unit,tol)\n",
    "  if passed:\n",
    "    geometries_.append(geom_)\n",
    "\n",
    "geometries = np.array(geometries_)\n",
    "# Get scores\n",
    "top = 10\n",
    "scores = D.predict([geometries,geometries])[0].ravel()\n",
    "top_idxs = np.argsort(-scores)[:top]\n",
    "for top_idx in top_idxs:\n",
    "  elem = geometries[top_idx]\n",
    "  unit = create_unit(elem.reshape((size,size)),size,simmetry)\n",
    "  arrange = create_arrange(unit,3,3)\n",
    "  \n",
    "  print(\"Score: %.2f Porosity: %.2f\"%(scores[top_idx],elem.ravel().sum()/(size*size)))\n",
    "  \n",
    "  fig,ax = plt.subplots(1,3);\n",
    "  fig.set_size_inches((15,5))\n",
    "  \n",
    "  ax[0].imshow(elem,cmap='Greys');\n",
    "  ax[0].axis('off')\n",
    "  \n",
    "  ax[1].imshow(unit,cmap=\"Greys\")\n",
    "  ax[1].axis('off')\n",
    "\n",
    "  ax[2].imshow(arrange,cmap=\"Greys\")\n",
    "  ax[2].axis('off')\n",
    "  plt.show()\n",
    "\n",
    "# sns.histplot(np.sum(generated_geoms.round().reshape((test_size,int(size*size))),axis=-1)/int(size*size),bins=32);"
   ]
  }
 ],
 "metadata": {
  "kernelspec": {
   "display_name": "Python 3.7.0 ('deeplearn37')",
   "language": "python",
   "name": "python3"
  },
  "language_info": {
   "codemirror_mode": {
    "name": "ipython",
    "version": 3
   },
   "file_extension": ".py",
   "mimetype": "text/x-python",
   "name": "python",
   "nbconvert_exporter": "python",
   "pygments_lexer": "ipython3",
   "version": "3.7.0"
  },
  "vscode": {
   "interpreter": {
    "hash": "3ea2531fbdcd84462b9d9450eb303ca41382681b46a7919c6526dbcc564fe4d2"
   }
  }
 },
 "nbformat": 4,
 "nbformat_minor": 5
}
