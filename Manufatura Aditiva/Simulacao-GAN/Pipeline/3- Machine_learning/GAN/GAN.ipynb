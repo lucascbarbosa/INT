{
 "cells": [
  {
   "cell_type": "markdown",
   "id": "eaa4e9fb",
   "metadata": {},
   "source": [
    "# Imports"
   ]
  },
  {
   "cell_type": "code",
   "execution_count": 1,
   "id": "e5ca1dd5",
   "metadata": {},
   "outputs": [],
   "source": [
    "import pandas as pd\n",
    "import numpy as np\n",
    "import matplotlib.pyplot as plt\n",
    "import seaborn as sns\n",
    "from sklearn.preprocessing import MinMaxScaler\n",
    "from skimage import measure\n",
    "%matplotlib inline\n",
    "\n",
    "import tensorflow as tf\n",
    "from tensorflow.keras import backend as K\n",
    "\n",
    "import keras\n",
    "from keras.models import Model\n",
    "from keras.layers import Dense, Flatten, Conv1D, Conv2D, Input, Conv1DTranspose, Conv2DTranspose, Concatenate, MaxPool1D, Dropout, Reshape, Lambda, InputLayer, LeakyReLU, BatchNormalization\n",
    "from keras.optimizers import adam_v2\n",
    "from keras.losses import MeanSquaredError\n",
    "from keras.metrics import BinaryCrossentropy"
   ]
  },
  {
   "cell_type": "markdown",
   "id": "f35fbca6",
   "metadata": {},
   "source": [
    "## Test GPU"
   ]
  },
  {
   "cell_type": "code",
   "execution_count": 2,
   "id": "a833f20b",
   "metadata": {},
   "outputs": [
    {
     "name": "stdout",
     "output_type": "stream",
     "text": [
      "GPUs available: 1\n"
     ]
    }
   ],
   "source": [
    "physical_devices = tf.config.list_physical_devices('GPU') \n",
    "tf.config.experimental.set_memory_growth(physical_devices[0], True)\n",
    "print(\"GPUs available:\",len(physical_devices))"
   ]
  },
  {
   "cell_type": "markdown",
   "id": "7694baa4",
   "metadata": {},
   "source": [
    "# Data preparation"
   ]
  },
  {
   "cell_type": "code",
   "execution_count": 3,
   "id": "b5f13ee2",
   "metadata": {},
   "outputs": [
    {
     "name": "stdout",
     "output_type": "stream",
     "text": [
      "Good = 15.31 %\n"
     ]
    },
    {
     "data": {
      "image/png": "[encoded data removed]",
      "text/plain": [
       "<Figure size 432x288 with 1 Axes>"
      ]
     },
     "metadata": {
      "needs_background": "light"
     },
     "output_type": "display_data"
    }
   ],
   "source": [
    "dimension = 2\n",
    "simmetry = 'p4'\n",
    "score = 'isotropy'\n",
    "if os.getcwd().split('\\\\')[2] == 'lucas':\n",
    "    score_filename = 'E:/Lucas GAN/Dados/4- Scores/RTGA/%sD/%s/%s.csv' %(dimension,simmetry,score)\n",
    "else:\n",
    "    score_filename = 'D:/Lucas GAN/Dados/4- Scores/RTGA/%sD/%s/%s.csv' %(dimension,simmetry,score)\n",
    "\n",
    "data = np.loadtxt(score_filename,delimiter=',')\n",
    "X = data[:,1:-1]\n",
    "size = int(np.sqrt(X.shape[1]))\n",
    "X = X.reshape((X.shape[0],size,size,1))\n",
    "\n",
    "y = data[:,-1]\n",
    "y = y.reshape((y.shape[0],1))\n",
    "\n",
    "scaler = MinMaxScaler()\n",
    "y = scaler.fit_transform(y).round(10)\n",
    "cutoff = 0.89\n",
    "idxs_good = np.where(y>cutoff)[0]\n",
    "idxs_bad = np.where(y<=cutoff)[0]\n",
    "\n",
    "y = np.zeros(y.shape)\n",
    "y[idxs_good] = 1.0\n",
    "print(f\"Good = %.2f %%\"%(100*len(idxs_good)/(len(idxs_good)+len(idxs_bad))))\n",
    "sns.histplot(y,legend=False);\n",
    "\n",
    "X_good = X[idxs_good]\n",
    "\n",
    "input_G = 128\n",
    "output_G = input_D = X.shape[1:]\n",
    "output_D = 1"
   ]
  },
  {
   "cell_type": "markdown",
   "id": "dbfa1dd6",
   "metadata": {},
   "source": [
    "# Models definition"
   ]
  },
  {
   "cell_type": "markdown",
   "id": "4c1b7d84",
   "metadata": {},
   "source": [
    "## Generator"
   ]
  },
  {
   "cell_type": "code",
   "execution_count": 4,
   "id": "1477e168",
   "metadata": {},
   "outputs": [
    {
     "name": "stdout",
     "output_type": "stream",
     "text": [
      "Model: \"Generator\"\n",
      "_________________________________________________________________\n",
      " Layer (type)                Output Shape              Param #   \n",
      "=================================================================\n",
      " input_1 (InputLayer)        [(None, 128)]             0         \n",
      "                                                                 \n",
      " dense (Dense)               (None, 8192)              1056768   \n",
      "                                                                 \n",
      " leaky_re_lu_1 (LeakyReLU)   (None, 8192)              0         \n",
      "                                                                 \n",
      " reshape (Reshape)           (None, 8, 8, 128)         0         \n",
      "                                                                 \n",
      " conv2d_transpose (Conv2DTra  (None, 16, 16, 128)      262272    \n",
      " nspose)                                                         \n",
      "                                                                 \n",
      " leaky_re_lu_3 (LeakyReLU)   (None, 16, 16, 128)       0         \n",
      "                                                                 \n",
      " conv2d (Conv2D)             (None, 16, 16, 1)         8193      \n",
      "                                                                 \n",
      " lambda (Lambda)             (None, 16, 16, 1)         0         \n",
      "                                                                 \n",
      "=================================================================\n",
      "Total params: 1,327,233\n",
      "Trainable params: 1,327,233\n",
      "Non-trainable params: 0\n",
      "_________________________________________________________________\n"
     ]
    }
   ],
   "source": [
    "def setup_G(input_G,output_G,size):\n",
    "    size = int(size/2)\n",
    "    in_G = Input(shape=(input_G,))\n",
    "\n",
    "    # foundation for 8x8 image\n",
    "    n_nodes = 128 * size * size\n",
    "    out_G = Dense(n_nodes,activation=LeakyReLU(alpha=0.2))(in_G)\n",
    "    out_G = LeakyReLU(alpha=0.2)(out_G)\n",
    "    out_G = Reshape((size, size, 128))(out_G)\n",
    "    # upsample to 16x16\n",
    "    out_G = Conv2DTranspose(128, (4,4), strides=(2,2), padding='same',activation=LeakyReLU(alpha=0.2))(out_G)\n",
    "    out_G = LeakyReLU(alpha=0.2)(out_G)\n",
    "    out_G = Conv2D(1, (size,size), activation='sigmoid', padding='same')(out_G)\n",
    "\n",
    "    out_density = Lambda(lambda x:x)(out_G)\n",
    "\n",
    "    model = Model(name='Generator',inputs=in_G,outputs=[out_G,out_density])\n",
    "\n",
    "    return model\n",
    "setup_G(input_G,output_G,size).summary()"
   ]
  },
  {
   "cell_type": "markdown",
   "id": "80b92ad7",
   "metadata": {},
   "source": [
    "## Discriminator"
   ]
  },
  {
   "cell_type": "code",
   "execution_count": 5,
   "id": "490da670",
   "metadata": {},
   "outputs": [
    {
     "name": "stdout",
     "output_type": "stream",
     "text": [
      "Model: \"Discriminator\"\n",
      "__________________________________________________________________________________________________\n",
      " Layer (type)                   Output Shape         Param #     Connected to                     \n",
      "==================================================================================================\n",
      " input_2 (InputLayer)           [(None, 16, 16, 1)]  0           []                               \n",
      "                                                                                                  \n",
      " conv2d_1 (Conv2D)              (None, 8, 8, 64)     640         ['input_2[0][0]']                \n",
      "                                                                                                  \n",
      " dropout (Dropout)              (None, 8, 8, 64)     0           ['conv2d_1[0][0]']               \n",
      "                                                                                                  \n",
      " conv2d_2 (Conv2D)              (None, 4, 4, 64)     36928       ['dropout[0][0]']                \n",
      "                                                                                                  \n",
      " dropout_1 (Dropout)            (None, 4, 4, 64)     0           ['conv2d_2[0][0]']               \n",
      "                                                                                                  \n",
      " flatten (Flatten)              (None, 1024)         0           ['dropout_1[0][0]']              \n",
      "                                                                                                  \n",
      " input_3 (InputLayer)           [(None, 16, 16, 1)]  0           []                               \n",
      "                                                                                                  \n",
      " dense_1 (Dense)                (None, 1)            1025        ['flatten[0][0]']                \n",
      "                                                                                                  \n",
      " lambda_1 (Lambda)              (None, 16, 16, 1)    0           ['input_3[0][0]']                \n",
      "                                                                                                  \n",
      "==================================================================================================\n",
      "Total params: 38,593\n",
      "Trainable params: 38,593\n",
      "Non-trainable params: 0\n",
      "__________________________________________________________________________________________________\n"
     ]
    }
   ],
   "source": [
    "def style_loss():\n",
    "    def custom_loss(y_true,y_pred):\n",
    "        size = y_pred.shape[1]*y_pred.shape[2]\n",
    "        y_pred = K.round(y_pred)\n",
    "        por_true = K.sum(K.sum(K.sum(y_true,axis=1),axis=1),axis=1)/size\n",
    "        por_pred = K.sum(K.sum(K.sum(y_pred,axis=1),axis=1),axis=1)/size\n",
    "        mse = (por_true-por_pred)**2\n",
    "        return mse\n",
    "    return custom_loss\n",
    "\n",
    "def setup_D(input_D,lr,alpha):\n",
    "    in_D = Input(shape=input_D)\n",
    "    out_D = Conv2D(64, (3,3), strides=(2, 2), padding='same', activation=LeakyReLU(alpha=0.2))(in_D)\n",
    "    out_D = Dropout(0.4)(out_D)\n",
    "    out_D = Conv2D(64, (3,3), strides=(2, 2), padding='same', activation=LeakyReLU(alpha=0.2))(out_D)\n",
    "    out_D = Dropout(0.4)(out_D)\n",
    "    out_D = Flatten()(out_D)\n",
    "    out_D = Dense(1, activation='sigmoid')(out_D)\n",
    "\n",
    "    # compile model\n",
    "    opt = adam_v2.Adam(learning_rate=0.0002, beta_1=0.5)\n",
    "    \n",
    "    in_density = Input(shape=input_D)\n",
    "    out_density = Lambda(lambda x: x)(in_density)\n",
    "\n",
    "    optimizer = adam_v2.Adam(learning_rate=lr, beta_1=0.5)\n",
    "    model = Model(\n",
    "                name='Discriminator', \\\n",
    "                inputs=[in_D,in_density], \\\n",
    "                outputs=[out_D,out_density])\n",
    "\n",
    "    model.compile(\n",
    "                loss=['binary_crossentropy',style_loss()], \\\n",
    "                loss_weights=[1.0,alpha], \\\n",
    "                optimizer=optimizer, \\\n",
    "                metrics=['accuracy'])\n",
    "    return model\n",
    "\n",
    "setup_D(input_D,1e-4,0.03).summary()"
   ]
  },
  {
   "cell_type": "markdown",
   "id": "ebffbef5",
   "metadata": {},
   "source": [
    "## Setup GAN"
   ]
  },
  {
   "cell_type": "code",
   "execution_count": 6,
   "id": "91cf55cf",
   "metadata": {},
   "outputs": [
    {
     "name": "stdout",
     "output_type": "stream",
     "text": [
      "Model: \"GAN\"\n",
      "__________________________________________________________________________________________________\n",
      " Layer (type)                   Output Shape         Param #     Connected to                     \n",
      "==================================================================================================\n",
      " input_4 (InputLayer)           [(None, 128)]        0           []                               \n",
      "                                                                                                  \n",
      " Generator (Functional)         [(None, 16, 16, 1),  1327233     ['input_4[0][0]']                \n",
      "                                 (None, 16, 16, 1)]                                               \n",
      "                                                                                                  \n",
      " Discriminator (Functional)     [(None, 1),          38593       ['Generator[0][0]',              \n",
      "                                 (None, 16, 16, 1)]               'Generator[0][1]']              \n",
      "                                                                                                  \n",
      "==================================================================================================\n",
      "Total params: 1,365,826\n",
      "Trainable params: 1,327,233\n",
      "Non-trainable params: 38,593\n",
      "__________________________________________________________________________________________________\n"
     ]
    }
   ],
   "source": [
    "def setup_GAN(G_model,D_model,alpha,lr,size):\n",
    "    optimizer = adam_v2.Adam(learning_rate=lr, beta_1=0.5)\n",
    "    D_model.trainable = False\n",
    "    in_G = G_model.input\n",
    "    out_GAN = D_model(G_model(in_G))\n",
    "    model = Model(name='GAN',inputs=in_G,outputs=out_GAN)\n",
    "    model.compile(\n",
    "                loss=['binary_crossentropy',style_loss()], \\\n",
    "                loss_weights=[1.0,alpha], \\\n",
    "                optimizer=optimizer, \\\n",
    "                metrics=['accuracy']\n",
    "                )\n",
    "    return model\n",
    "\n",
    "alpha = 0.03\n",
    "lr = 1e-4\n",
    "setup_GAN(setup_G(input_G,output_G,size),setup_D(input_D,lr,alpha),alpha,lr,size).summary()"
   ]
  },
  {
   "cell_type": "markdown",
   "id": "d5f2aa19",
   "metadata": {},
   "source": [
    "# Defining auxiliary functions"
   ]
  },
  {
   "cell_type": "code",
   "execution_count": 7,
   "id": "638c63c9",
   "metadata": {},
   "outputs": [],
   "source": [
    "def generate_fake_samples(G_model, input_G, n_samples):\n",
    "    # generate points in latent space\n",
    "    X_input = generate_input_G(input_G, n_samples)\n",
    "    # predict outputs\n",
    "    X,_ = G_model.predict(X_input)\n",
    "    # create 'fake' class labels (0)\n",
    "    y = np.zeros((n_samples, 1))\n",
    "    return X,y\n",
    "\n",
    "def generate_input_G(input_G, n_samples):\n",
    "    # generate points in the latent space\n",
    "    X_input = np.random.randn(input_G * n_samples)\n",
    "    # reshape into a batch of inputs for the network\n",
    "    X_input = X_input.reshape(n_samples, input_G)\n",
    "    return X_input\n",
    "\n",
    "def generate_real_samples(dataset, n_samples):\n",
    "    # choose random instances\n",
    "    ix = np.random.randint(0, dataset.shape[0], n_samples)\n",
    "    # retrieve selected images\n",
    "    X = dataset[ix]\n",
    "    # generate 'real' class labels (1)\n",
    "    y = np.ones((n_samples, 1))\n",
    "    return X, y\n",
    "\n",
    "def summarize_performance(epoch,porosity,G_model, D_model, data, input_G, n_samples=100):\n",
    "    # prepare real samples\n",
    "    X_real, y_real = generate_real_samples(data, n_samples)\n",
    "    # evaluate discriminator on real examples\n",
    "    _,_,_,acc_real,_ = D_model.evaluate(x=[X_real,X_real], y=[y_real,porosity*np.ones(X_real.shape)], verbose=0)\n",
    "    # prepare fake examples\n",
    "    X_fake, y_fake = generate_fake_samples(G_model, input_G, n_samples)\n",
    "    # evaluate discriminator on fake examples\n",
    "    _,_,_,acc_fake,_ = D_model.evaluate(x=[X_fake,X_fake], y=[y_fake,porosity*np.ones(X_fake.shape)], verbose=0)\n",
    "    # summarize discriminator performance\n",
    "    return  acc_real,acc_fake"
   ]
  },
  {
   "cell_type": "markdown",
   "id": "4bbad331",
   "metadata": {},
   "source": [
    "# Training GAN"
   ]
  },
  {
   "cell_type": "code",
   "execution_count": 46,
   "id": "b699c1af",
   "metadata": {
    "scrolled": true
   },
   "outputs": [],
   "source": [
    "batch_size = 64\n",
    "num_epochs = 150\n",
    "\n",
    "alpha = 10\n",
    "lr = 1e-4\n",
    "porosity = 0.5\n",
    "\n",
    "G = setup_G(input_G,output_G,size)\n",
    "D = setup_D(input_D,lr,alpha)\n",
    "GAN = setup_GAN(G,D,alpha,lr,size)\n",
    "\n",
    "def train(G_model,D_model,GAN_model,alpha,lr,porosity,batch_size,num_epochs,plot=False,verbose=False):\n",
    "    batch_per_epoch = int(X_good.shape[0] /batch_size)\n",
    "    half_batch = int(batch_size/2)\n",
    "    \n",
    "    G_models = {}\n",
    "\n",
    "    G_losses = []\n",
    "    D_losses = []\n",
    "\n",
    "    min_loss = 99999\n",
    "\n",
    "    for i in range(num_epochs):\n",
    "        G_losses_epoch = []\n",
    "        D_losses_epoch = []\n",
    "        for j in range(batch_per_epoch):\n",
    "            X_real,y_real = generate_real_samples(X_good,half_batch)\n",
    "            X_fake,y_fake = generate_fake_samples(G_model,input_G,half_batch)            \n",
    "\n",
    "            X, y = np.vstack((X_real, X_fake)), np.vstack((y_real, y_fake))\n",
    "\n",
    "            if not verbose:\n",
    "                D_loss = D_model.train_on_batch(x=[X,X], y=[y,porosity*np.ones(X.shape)])\n",
    "                D_loss = D_loss[0]\n",
    "            else:\n",
    "                D_loss = D_model.train_on_batch(x=[X,X], y=[y,porosity*np.ones(X.shape)],return_dict=True)\n",
    "                print(D_loss)\n",
    "                D_loss = D_loss['loss']\n",
    "\n",
    "            D_losses_epoch.append(D_loss)\n",
    "\n",
    "            X_GAN = generate_input_G(input_G, batch_size)\n",
    "            y_GAN = np.ones((batch_size, 1))\n",
    "\n",
    "            if not verbose:\n",
    "                G_loss= GAN_model.train_on_batch(x=X_GAN, y=[y_GAN,porosity*np.ones(X.shape)])\n",
    "                G_loss = G_loss[0]\n",
    "            else:\n",
    "                G_loss= GAN_model.train_on_batch(x=X_GAN, y=[y_GAN,porosity*np.ones(X.shape)],return_dict=True)\n",
    "                print(G_loss)\n",
    "                G_loss = G_loss['loss']\n",
    "\n",
    "            if verbose: \n",
    "                print('>%d, %d/%d, D_loss=%.3f, G_loss=%.3f' % (i+1, j+1, batch_per_epoch,  D_loss, G_loss))\n",
    "            G_losses_epoch.append(G_loss)\n",
    "        \n",
    "        if (i+1) % 10 == 0:\n",
    "            acc_real,acc_fake = summarize_performance(i+1,porosity,G_model,D_model,X_good,input_G)\n",
    "            if verbose:\n",
    "                print('>Epoch: %i Accuracy real: %.0f%%, fake: %.0f%%' % (i+1,acc_real*100, acc_fake*100))\n",
    "\n",
    "        G_losses.append(np.array(G_losses_epoch).mean())\n",
    "        D_losses.append(np.array(D_losses_epoch).mean())\n",
    "        \n",
    "        if i % 5 == 4:\n",
    "            G_models[i+1] = G_model\n",
    "            if G_losses[-1]+D_losses[-1] < min_loss:\n",
    "                G_best = G_model \n",
    "                min_loss = G_losses[-1]+D_losses[-1]\n",
    "                # print(f\"Epoch: {i+1}. Loss: {min_loss}\")\n",
    "            \n",
    "\n",
    "    G_losses = np.array(G_losses)\n",
    "    D_losses = np.array(D_losses)\n",
    "\n",
    "    if plot:\n",
    "        fig = plt.figure()\n",
    "        fig.set_size_inches((10,8)) \n",
    "        plt.plot(list(range(1,num_epochs+1)),D_losses,label='D Loss')\n",
    "        plt.title('Loss')\n",
    "        plt.ylabel('Loss')\n",
    "        plt.xlabel('Epoch')\n",
    "        plt.plot(list(range(1,num_epochs+1)),G_losses,label='G Loss')\n",
    "        plt.legend()\n",
    "        plt.show()\n",
    "        \n",
    "    return G_models\n",
    "\n",
    "\n",
    "G_models = train(G,D,GAN,alpha,lr,porosity,batch_size,num_epochs,plot=True,verbose=False)"
   ]
  },
  {
   "cell_type": "markdown",
   "id": "9b9a6b19",
   "metadata": {},
   "source": [
    "## Evaluate `Generator`"
   ]
  },
  {
   "cell_type": "markdown",
   "id": "dafdc9cb",
   "metadata": {},
   "source": [
    "## Test porosity"
   ]
  },
  {
   "cell_type": "code",
   "execution_count": 44,
   "id": "3ed76b8e",
   "metadata": {},
   "outputs": [
    {
     "name": "stdout",
     "output_type": "stream",
     "text": [
      "0.0\n"
     ]
    },
    {
     "data": {
      "image/png": "[encoded data removed]",
      "text/plain": [
       "<Figure size 432x288 with 1 Axes>"
      ]
     },
     "metadata": {
      "needs_background": "light"
     },
     "output_type": "display_data"
    }
   ],
   "source": [
    "# G = keras.models.load_model(\"\"\"C:/Users/lucas.barbosa/Documents/GitHub/INT/Manufatura Aditiva/Simulacao-GAN/Pipeline/4- Machine_learning/GAN/models/isotropy_epoch_100_loss_0.7585.h5\"\"\")\n",
    "epoch = 80\n",
    "G_model = G_models[epoch]\n",
    "test_size = 100000\n",
    "X_test = generate_input_G(input_G,test_size)\n",
    "\n",
    "generated_geoms,_ = G_best.predict(X_test)\n",
    "\n",
    "porosities =  []\n",
    "pors = []\n",
    "tol = 0.01\n",
    "\n",
    "for generated_geom in generated_geoms:\n",
    "    p = generated_geom.ravel().round()\n",
    "    p = p.sum()/p.shape[0]\n",
    "    if p <= porosity+tol and p >= porosity-tol:\n",
    "        pors.append(p)\n",
    "    porosities.append(p)\n",
    "\n",
    "sns.histplot(porosities,bins=16);\n",
    "print(100*len(pors)/len(porosities))"
   ]
  },
  {
   "cell_type": "markdown",
   "id": "7a2843d9",
   "metadata": {},
   "source": [
    "## Visualize geometries"
   ]
  },
  {
   "cell_type": "code",
   "execution_count": 34,
   "id": "954ff521",
   "metadata": {},
   "outputs": [
    {
     "data": {
      "image/png": "[encoded data removed]",
      "text/plain": [
       "<Figure size 432x288 with 1 Axes>"
      ]
     },
     "metadata": {
      "needs_background": "light"
     },
     "output_type": "display_data"
    },
    {
     "name": "stdout",
     "output_type": "stream",
     "text": [
      "False\n"
     ]
    }
   ],
   "source": [
    "\n",
    "# Filter per porosity\n",
    "def porosity_match(geoms,porosity,tol):\n",
    "    geoms_ = []\n",
    "    passed = 0\n",
    "    for i in range(geoms.shape[0]):\n",
    "        g =geoms[i,:,:,0]\n",
    "        size = g.shape[0]\n",
    "        g = g.reshape((size*size,))\n",
    "        p = np.sum(g)/(size*size)\n",
    "        if p >= porosity-tol and p <= porosity+tol:\n",
    "            geoms_.append(g.reshape((size,size)))\n",
    "            passed += 1\n",
    "    return np.array(geoms_).reshape((passed,size,size,1))\n",
    "\n",
    "def create_unit(element,size,simmetry):\n",
    "  if simmetry == 'p4':\n",
    "    unit_size = 2*size\n",
    "    # fold_size = np.random.choice(4,1)[0]\n",
    "    unit = np.ones((2*size,2*size))*(-1)\n",
    "    h,w = element.shape\n",
    "    for i in range(h):\n",
    "      for j in range(w):\n",
    "        el = element[i,j]\n",
    "        \n",
    "        j_ = [j,2*w-1-i,2*h-1-j,i]\n",
    "        i_ = [i,j,2*w-1-i,2*h-1-j]\n",
    "        # (1,7)->(7,14)->(14,8)->(8,1)\n",
    "        for (k,l) in list(zip(i_,j_)):\n",
    "          unit[k,l]  = el\n",
    "\n",
    "  return unit\n",
    "\n",
    "def check_unit(unit,tol):\n",
    "  labels = measure.label(unit,connectivity=1)\n",
    "  main_label = 0\n",
    "  main_label_count = 0\n",
    "  passed = True\n",
    "\n",
    "  for label in range(1,len(np.unique(labels))):\n",
    "    label_count = np.where(labels==label)[0].shape[0]\n",
    "    if label_count > main_label_count:\n",
    "      main_label = label\n",
    "      main_label_count = label_count\n",
    "\n",
    "  if np.where(labels==0)[0].shape[0]+np.where(labels==main_label)[0].shape[0] >(1.0-tol)*unit.shape[0]*unit.shape[0]:\n",
    "    for label in range(1,len(np.unique(labels))):\n",
    "      if label not in [0,main_label]:\n",
    "        unit[np.where(labels==label)] = 0.\n",
    "\n",
    "    if unit[0,:].sum() > 0 and unit[:,0].sum() > 0:\n",
    "      # check if there is connectivity right-left\n",
    "      connections_rl = 0\n",
    "      for i in range(unit.shape[0]):\n",
    "        if (unit[i,0] == 1 and unit[i,-1] == 1):\n",
    "          connections_rl += 1\n",
    "\n",
    "      # check if there is connectivity top-bottom\n",
    "      connections_tb = 0\n",
    "      for j in range(unit.shape[1]):\n",
    "        if (unit[0,j] == 1 and unit[i,-1] == 1):\n",
    "          connections_tb += 1\n",
    "\n",
    "      if connections_rl == 0 or connections_tb == 0:\n",
    "        passed = False\n",
    "      \n",
    "    else:\n",
    "      passed = False\n",
    "      \n",
    "  else:\n",
    "    passed = False\n",
    "  return passed, unit\n",
    "\n",
    "porosity=0.5\n",
    "tol = 0.02\n",
    "simmetry = 'p4'\n",
    "# geometries = porosity_match(generated_geoms,porosity,tol)\n",
    "# print(geometries.shape[0])\n",
    "geometries = generated_geoms\n",
    "size = geometries.shape[1]\n",
    "geometries_ = []\n",
    "\n",
    "geom = geometries[2000].reshape((size,size)).round()\n",
    "unit = create_unit(geom,size,simmetry)\n",
    "tol = 0.2\n",
    "passed, unit = check_unit(unit,tol)\n",
    "plt.imshow(unit)\n",
    "plt.show()\n",
    "print(passed)\n",
    "\n",
    "\n",
    "# for i in range(1):\n",
    "#   geom = geometries[i].reshape((size,size)).round()\n",
    "#   unit = create_unit(geom,size,simmetry)\n",
    "#   plt.imshow(unit)\n",
    "#   passed,geom_ = check_unit(unit,tol)\n",
    "#   if passed:\n",
    "#     geometries_.append(geom_)\n",
    "\n",
    "# print(len(geometries_))    \n",
    "# geometries = np.array(geometries_).reshape((len(geometries_),size,size,1))\n",
    "# # Round pixels\n",
    "# geometries = geometries.round()\n",
    "\n",
    "# # Get scores\n",
    "# top = 20\n",
    "# scores = D.predict([geometries,geometries])[0]\n",
    "# top_idxs = scores[:,0].argsort()[-top:]\n",
    "\n",
    "# # Add solid boundary\n",
    "# geometries_expanded = []\n",
    "# for i in range(geometries.shape[0]):\n",
    "#     geom = geometries[i]    \n",
    "#     geometries_expanded.append(geom)\n",
    "\n",
    "# geometries = np.array(geometries_expanded).reshape((geometries.shape[0],geometries.shape[1],geometries.shape[2],geometries.shape[3]))\n",
    "\n",
    "# for top_idx in top_idxs:\n",
    "#     geom = geometries[top_idx]\n",
    "#     unit = create_unit(geom.reshape((size,size)),size,simmetry)\n",
    "#     print(\"Score: %.2f Porosity: %.2f\"%(scores[top_idx,0],geom.ravel().sum()/(size*size)))\n",
    "#     plt.imshow(geom,cmap=\"Greys\")\n",
    "#     plt.show()\n",
    "\n",
    "# sns.histplot(np.sum(generated_geoms.round().reshape((test_size,int(size*size))),axis=-1)/int(size*size),bins=32);"
   ]
  },
  {
   "cell_type": "markdown",
   "id": "de6f5eef",
   "metadata": {},
   "source": [
    "# Evaluate `Discriminator`"
   ]
  },
  {
   "cell_type": "code",
   "execution_count": 103,
   "id": "2435e5cd",
   "metadata": {},
   "outputs": [
    {
     "name": "stdout",
     "output_type": "stream",
     "text": [
      ">Accuracy real: 86%, fake: 99%\n"
     ]
    }
   ],
   "source": [
    "def summarize_performance(epoch,porosity,G_model, D_model, data, input_G, n_samples=100):\n",
    "\t# prepare real samples\n",
    "\tX_real, y_real = generate_real_samples(data, n_samples)\n",
    "\t# evaluate discriminator on real examples\n",
    "\t_,_,_,acc_real,_ = D_model.evaluate(x=[X_real,X_real], y=[y_real,porosity*np.ones(X_real.shape)], verbose=0)\n",
    "\t# prepare fake examples\n",
    "\tX_fake, y_fake = generate_fake_samples(G_model, input_G, n_samples)\n",
    "\t# evaluate discriminator on fake examples\n",
    "\t_,_,_,acc_fake,_ = D_model.evaluate(x=[X_fake,X_fake], y=[y_fake,porosity*np.ones(X_fake.shape)], verbose=0)\n",
    "\t# summarize discriminator performance\n",
    "\tprint('>Accuracy real: %.0f%%, fake: %.0f%%' % (acc_real*100, acc_fake*100))\n",
    "\t# save plot\n",
    "\t# save_plot(x_fake, epoch)\n",
    "\t# save the generator model tile file\n",
    "\t# filename = 'generator_model_%03d.h5' % (epoch + 1)\n",
    "\t# G_model.save(filename)\n",
    "\n",
    "summarize_performance(1,porosity,G,D,X_good,128)"
   ]
  },
  {
   "cell_type": "code",
   "execution_count": 122,
   "id": "31df110b",
   "metadata": {},
   "outputs": [
    {
     "data": {
      "text/plain": [
       "<matplotlib.image.AxesImage at 0x271ed4a60f0>"
      ]
     },
     "execution_count": 122,
     "metadata": {},
     "output_type": "execute_result"
    },
    {
     "data": {
      "image/png": "[encoded data removed]",
      "text/plain": [
       "<Figure size 432x288 with 1 Axes>"
      ]
     },
     "metadata": {
      "needs_background": "light"
     },
     "output_type": "display_data"
    }
   ],
   "source": [
    "geoms,_ = generate_fake_samples(G_best,input_G,100)\n",
    "plt.imshow(geoms[50].round())"
   ]
  }
 ],
 "metadata": {
  "interpreter": {
   "hash": "420fdcf06cbb96ea9ff1d5e401ebb7d5e427e9ac219017cd6fbf2a7f78bef6d6"
  },
  "kernelspec": {
   "display_name": "Python 3",
   "language": "python",
   "name": "python3"
  },
  "language_info": {
   "codemirror_mode": {
    "name": "ipython",
    "version": 3
   },
   "file_extension": ".py",
   "mimetype": "text/x-python",
   "name": "python",
   "nbconvert_exporter": "python",
   "pygments_lexer": "ipython3",
   "version": "3.7.0"
  }
 },
 "nbformat": 4,
 "nbformat_minor": 5
}
