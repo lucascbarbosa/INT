{
 "cells": [
  {
   "cell_type": "markdown",
   "id": "eaa4e9fb",
   "metadata": {},
   "source": [
    "# Imports"
   ]
  },
  {
   "cell_type": "code",
   "execution_count": 1,
   "id": "e5ca1dd5",
   "metadata": {},
   "outputs": [],
   "source": [
    "import pandas as pd\n",
    "import numpy as np\n",
    "import matplotlib.pyplot as plt\n",
    "import seaborn as sns\n",
    "from sklearn.preprocessing import MinMaxScaler\n",
    "from skimage import measure\n",
    "%matplotlib inline\n",
    "\n",
    "import tensorflow as tf\n",
    "from tensorflow.keras import backend as K\n",
    "\n",
    "import keras\n",
    "from keras.models import Model\n",
    "from keras.layers import Dense, Flatten, Conv1D, Conv2D, Input, Conv1DTranspose, Conv2DTranspose, Concatenate, MaxPool1D, Dropout, Reshape, Lambda, InputLayer, LeakyReLU, BatchNormalization\n",
    "from keras.optimizers import adam_v2\n",
    "from keras.losses import MeanSquaredError\n",
    "from keras.metrics import BinaryCrossentropy"
   ]
  },
  {
   "cell_type": "markdown",
   "id": "f35fbca6",
   "metadata": {},
   "source": [
    "## Test GPU"
   ]
  },
  {
   "cell_type": "code",
   "execution_count": 2,
   "id": "a833f20b",
   "metadata": {},
   "outputs": [
    {
     "name": "stdout",
     "output_type": "stream",
     "text": [
      "GPUs available: 1\n"
     ]
    }
   ],
   "source": [
    "physical_devices = tf.config.list_physical_devices('GPU') \n",
    "tf.config.experimental.set_memory_growth(physical_devices[0], True)\n",
    "print(\"GPUs available:\",len(physical_devices))"
   ]
  },
  {
   "cell_type": "markdown",
   "id": "7694baa4",
   "metadata": {},
   "source": [
    "# Data preparation"
   ]
  },
  {
   "cell_type": "code",
   "execution_count": 3,
   "id": "b5f13ee2",
   "metadata": {},
   "outputs": [
    {
     "name": "stdout",
     "output_type": "stream",
     "text": [
      "Good = 21.39 %\n"
     ]
    },
    {
     "data": {
      "image/png": "[encoded data removed]",
      "text/plain": [
       "<Figure size 432x288 with 1 Axes>"
      ]
     },
     "metadata": {
      "needs_background": "light"
     },
     "output_type": "display_data"
    }
   ],
   "source": [
    "dimension = 2\n",
    "simmetry = 'p4'\n",
    "score = 'isotropy'\n",
    "if os.getcwd().split('\\\\')[2] == 'lucas':\n",
    "    score_filename = 'E:/Lucas GAN/Dados/4- Scores/RTGA/%sD/%s/%s.csv' %(dimension,simmetry,score)\n",
    "else:\n",
    "    score_filename = 'D:/Lucas GAN/Dados/4- Scores/RTGA/%sD/%s/%s.csv' %(dimension,simmetry,score)\n",
    "\n",
    "data = np.loadtxt(score_filename,delimiter=',')\n",
    "X = data[:,1:-1]\n",
    "size = int(np.sqrt(X.shape[1]))\n",
    "X = X.reshape((X.shape[0],size,size,1))\n",
    "\n",
    "y = data[:,-1]\n",
    "y = y.reshape((y.shape[0],1))\n",
    "\n",
    "scaler = MinMaxScaler()\n",
    "y = scaler.fit_transform(y).round(10)\n",
    "cutoff = 0.85\n",
    "idxs_good = np.where(y>cutoff)[0]\n",
    "idxs_bad = np.where(y<=cutoff)[0]\n",
    "\n",
    "y = np.zeros(y.shape)\n",
    "y[idxs_good] = 1.0\n",
    "print(f\"Good = %.2f %%\"%(100*len(idxs_good)/(len(idxs_good)+len(idxs_bad))))\n",
    "sns.histplot(y,legend=False);\n",
    "\n",
    "X_good = X[idxs_good]\n",
    "\n",
    "input_G = 128\n",
    "output_G = input_D = X.shape[1:]\n",
    "output_D = 1"
   ]
  },
  {
   "cell_type": "markdown",
   "id": "dbfa1dd6",
   "metadata": {},
   "source": [
    "# Models definition"
   ]
  },
  {
   "cell_type": "markdown",
   "id": "4c1b7d84",
   "metadata": {},
   "source": [
    "## Generator"
   ]
  },
  {
   "cell_type": "code",
   "execution_count": 4,
   "id": "1477e168",
   "metadata": {},
   "outputs": [
    {
     "name": "stdout",
     "output_type": "stream",
     "text": [
      "Model: \"Generator\"\n",
      "_________________________________________________________________\n",
      " Layer (type)                Output Shape              Param #   \n",
      "=================================================================\n",
      " input_1 (InputLayer)        [(None, 128)]             0         \n",
      "                                                                 \n",
      " dense (Dense)               (None, 8192)              1056768   \n",
      "                                                                 \n",
      " reshape (Reshape)           (None, 8, 8, 128)         0         \n",
      "                                                                 \n",
      " conv2d_transpose (Conv2DTra  (None, 16, 16, 128)      262272    \n",
      " nspose)                                                         \n",
      "                                                                 \n",
      " conv2d (Conv2D)             (None, 16, 16, 1)         8193      \n",
      "                                                                 \n",
      " lambda (Lambda)             (None, 16, 16, 1)         0         \n",
      "                                                                 \n",
      "=================================================================\n",
      "Total params: 1,327,233\n",
      "Trainable params: 1,327,233\n",
      "Non-trainable params: 0\n",
      "_________________________________________________________________\n"
     ]
    }
   ],
   "source": [
    "def setup_G(input_G,output_G,size):\n",
    "    size = int(size/2)\n",
    "    in_G = Input(shape=(input_G,))\n",
    "\n",
    "    # foundation for 8x8 image\n",
    "    n_nodes = 128 * size * size\n",
    "    out_G = Dense(n_nodes,activation=LeakyReLU(alpha=0.2))(in_G)\n",
    "    out_G = Reshape((size, size, 128))(out_G)\n",
    "    # upsample to 16x16\n",
    "    out_G = Conv2DTranspose(128, (4,4), strides=(2,2), padding='same',activation=LeakyReLU(alpha=0.2))(out_G)\n",
    "    out_G = Conv2D(1, (size,size), activation='sigmoid', padding='same')(out_G)\n",
    "\n",
    "\n",
    "    out_density = Lambda(lambda x:x)(out_G)\n",
    "\n",
    "    model = Model(name='Generator',inputs=in_G,outputs=[out_G,out_density])\n",
    "\n",
    "    return model\n",
    "setup_G(input_G,output_G,size).summary()"
   ]
  },
  {
   "cell_type": "markdown",
   "id": "80b92ad7",
   "metadata": {},
   "source": [
    "## Discriminator"
   ]
  },
  {
   "cell_type": "code",
   "execution_count": 5,
   "id": "490da670",
   "metadata": {},
   "outputs": [
    {
     "name": "stdout",
     "output_type": "stream",
     "text": [
      "Model: \"Discriminator\"\n",
      "__________________________________________________________________________________________________\n",
      " Layer (type)                   Output Shape         Param #     Connected to                     \n",
      "==================================================================================================\n",
      " input_2 (InputLayer)           [(None, 16, 16, 1)]  0           []                               \n",
      "                                                                                                  \n",
      " conv2d_1 (Conv2D)              (None, 8, 8, 64)     640         ['input_2[0][0]']                \n",
      "                                                                                                  \n",
      " dropout (Dropout)              (None, 8, 8, 64)     0           ['conv2d_1[0][0]']               \n",
      "                                                                                                  \n",
      " conv2d_2 (Conv2D)              (None, 4, 4, 64)     36928       ['dropout[0][0]']                \n",
      "                                                                                                  \n",
      " dropout_1 (Dropout)            (None, 4, 4, 64)     0           ['conv2d_2[0][0]']               \n",
      "                                                                                                  \n",
      " flatten (Flatten)              (None, 1024)         0           ['dropout_1[0][0]']              \n",
      "                                                                                                  \n",
      " input_3 (InputLayer)           [(None, 16, 16, 1)]  0           []                               \n",
      "                                                                                                  \n",
      " dense_1 (Dense)                (None, 1)            1025        ['flatten[0][0]']                \n",
      "                                                                                                  \n",
      " lambda_1 (Lambda)              (None, 16, 16, 1)    0           ['input_3[0][0]']                \n",
      "                                                                                                  \n",
      "==================================================================================================\n",
      "Total params: 38,593\n",
      "Trainable params: 38,593\n",
      "Non-trainable params: 0\n",
      "__________________________________________________________________________________________________\n"
     ]
    }
   ],
   "source": [
    "def style_loss(alpha):\n",
    "    def custom_loss(y_true,y_pred):\n",
    "#         y_pred = tf.reshape(y_pred,shape=(y_pred.shape[0],y_pred.shape[1]*y_pred.shape[2]))\n",
    "#         y_true = tf.reshape(y_true,shape=(y_true.shape[0],y_true.shape[1]*y_true.shape[2]))\n",
    "        size = y_pred.shape[1]*y_pred.shape[2]\n",
    "        por_true = K.sum(K.sum(K.sum(y_true,axis=1),axis=1),axis=1)/size\n",
    "        por_pred = K.sum(K.sum(K.sum(y_pred,axis=1),axis=1),axis=1)/size\n",
    "        mse = MeanSquaredError()\n",
    "        return alpha*mse(por_true,por_pred)\n",
    "    return custom_loss\n",
    "\n",
    "def setup_D(input_D,alpha):\n",
    "    in_D = Input(shape=input_D)\n",
    "    out_D = Conv2D(64, (3,3), strides=(2, 2), padding='same', activation=LeakyReLU(alpha=0.2))(in_D)\n",
    "    out_D = Dropout(0.4)(out_D)\n",
    "    out_D = Conv2D(64, (3,3), strides=(2, 2), padding='same', activation=LeakyReLU(alpha=0.2))(out_D)\n",
    "    out_D = Dropout(0.4)(out_D)\n",
    "    out_D = Flatten()(out_D)\n",
    "    out_D = Dense(1, activation='sigmoid')(out_D)\n",
    "\n",
    "    # compile model\n",
    "    opt = adam_v2.Adam(learning_rate=0.0002, beta_1=0.5)\n",
    "    \n",
    "    in_density = Input(shape=input_D)\n",
    "    out_density = Lambda(lambda x: x)(in_density)\n",
    "\n",
    "    optimizer = adam_v2.Adam(learning_rate=0.0001, beta_1=0.5)\n",
    "    model = Model(name='Discriminator',inputs=[in_D,in_density],outputs=[out_D,out_density])\n",
    "\n",
    "    model.compile(loss=['binary_crossentropy',style_loss(alpha)], optimizer=optimizer, metrics=['accuracy'])\n",
    "    return model\n",
    "\n",
    "setup_D(input_D,0.03).summary()"
   ]
  },
  {
   "cell_type": "markdown",
   "id": "ebffbef5",
   "metadata": {},
   "source": [
    "## Setup GAN"
   ]
  },
  {
   "cell_type": "code",
   "execution_count": 6,
   "id": "91cf55cf",
   "metadata": {},
   "outputs": [
    {
     "name": "stdout",
     "output_type": "stream",
     "text": [
      "Model: \"GAN\"\n",
      "__________________________________________________________________________________________________\n",
      " Layer (type)                   Output Shape         Param #     Connected to                     \n",
      "==================================================================================================\n",
      " input_4 (InputLayer)           [(None, 128)]        0           []                               \n",
      "                                                                                                  \n",
      " Generator (Functional)         [(None, 16, 16, 1),  1327233     ['input_4[0][0]']                \n",
      "                                 (None, 16, 16, 1)]                                               \n",
      "                                                                                                  \n",
      " Discriminator (Functional)     [(None, 1),          38593       ['Generator[0][0]',              \n",
      "                                 (None, 16, 16, 1)]               'Generator[0][1]']              \n",
      "                                                                                                  \n",
      "==================================================================================================\n",
      "Total params: 1,365,826\n",
      "Trainable params: 1,327,233\n",
      "Non-trainable params: 38,593\n",
      "__________________________________________________________________________________________________\n"
     ]
    }
   ],
   "source": [
    "def setup_GAN(G_model,D_model,alpha,lr,size):\n",
    "    optimizer = adam_v2.Adam(learning_rate=lr, beta_1=0.5)\n",
    "    D_model.trainable = False\n",
    "    in_G = G_model.input\n",
    "    out_GAN = D_model(G_model(in_G))\n",
    "    model = Model(name='GAN',inputs=in_G,outputs=out_GAN)\n",
    "    model.compile(loss=['binary_crossentropy',style_loss(alpha)], \\\n",
    "               optimizer=optimizer, \\\n",
    "               metrics=['accuracy'])\n",
    "    return model\n",
    "\n",
    "alpha = 0.03\n",
    "lr = 2e-4\n",
    "setup_GAN(setup_G(input_G,output_G,size),setup_D(input_D,alpha),alpha,lr,size).summary()"
   ]
  },
  {
   "cell_type": "markdown",
   "id": "d5f2aa19",
   "metadata": {},
   "source": [
    "# Defining auxiliary functions"
   ]
  },
  {
   "cell_type": "code",
   "execution_count": 7,
   "id": "638c63c9",
   "metadata": {},
   "outputs": [],
   "source": [
    "def generate_fake_samples(G_model, input_G, n_samples):\n",
    "    # generate points in latent space\n",
    "    X_input = generate_input_G(input_G, n_samples)\n",
    "    # predict outputs\n",
    "    X,_ = G_model.predict(X_input)\n",
    "    # create 'fake' class labels (0)\n",
    "    y = np.zeros((n_samples, 1))\n",
    "    return X,y\n",
    "\n",
    "def generate_input_G(input_G, n_samples):\n",
    "    # generate points in the latent space\n",
    "    X_input = np.random.randn(input_G * n_samples)\n",
    "    # reshape into a batch of inputs for the network\n",
    "    X_input = X_input.reshape(n_samples, input_G)\n",
    "    return X_input\n",
    "\n",
    "def generate_real_samples(dataset, n_samples):\n",
    "    # choose random instances\n",
    "    ix = np.random.randint(0, dataset.shape[0], n_samples)\n",
    "    # retrieve selected images\n",
    "    X = dataset[ix]\n",
    "    # generate 'real' class labels (1)\n",
    "    y = np.ones((n_samples, 1))\n",
    "    return X, y"
   ]
  },
  {
   "cell_type": "code",
   "execution_count": 46,
   "id": "b699c1af",
   "metadata": {
    "scrolled": true
   },
   "outputs": [
    {
     "name": "stdout",
     "output_type": "stream",
     "text": [
      ">1, 1/2, D_loss=0.706, G_loss=0.661\n",
      ">1, 2/2, D_loss=0.683, G_loss=0.659\n",
      ">2, 1/2, D_loss=0.670, G_loss=0.670\n",
      ">2, 2/2, D_loss=0.671, G_loss=0.664\n",
      ">3, 1/2, D_loss=0.690, G_loss=0.669\n",
      ">3, 2/2, D_loss=0.677, G_loss=0.672\n",
      ">4, 1/2, D_loss=0.672, G_loss=0.665\n",
      ">4, 2/2, D_loss=0.685, G_loss=0.679\n",
      ">5, 1/2, D_loss=0.686, G_loss=0.680\n",
      ">5, 2/2, D_loss=0.682, G_loss=0.686\n",
      ">6, 1/2, D_loss=0.672, G_loss=0.687\n",
      ">6, 2/2, D_loss=0.684, G_loss=0.686\n",
      ">7, 1/2, D_loss=0.665, G_loss=0.690\n",
      ">7, 2/2, D_loss=0.680, G_loss=0.703\n",
      ">8, 1/2, D_loss=0.678, G_loss=0.689\n",
      ">8, 2/2, D_loss=0.677, G_loss=0.695\n",
      ">9, 1/2, D_loss=0.666, G_loss=0.706\n",
      ">9, 2/2, D_loss=0.685, G_loss=0.693\n",
      ">10, 1/2, D_loss=0.669, G_loss=0.707\n",
      ">10, 2/2, D_loss=0.672, G_loss=0.706\n",
      ">11, 1/2, D_loss=0.682, G_loss=0.704\n",
      ">11, 2/2, D_loss=0.671, G_loss=0.690\n",
      ">12, 1/2, D_loss=0.676, G_loss=0.700\n",
      ">12, 2/2, D_loss=0.672, G_loss=0.696\n",
      ">13, 1/2, D_loss=0.671, G_loss=0.685\n",
      ">13, 2/2, D_loss=0.672, G_loss=0.686\n",
      ">14, 1/2, D_loss=0.656, G_loss=0.683\n",
      ">14, 2/2, D_loss=0.661, G_loss=0.682\n",
      ">15, 1/2, D_loss=0.658, G_loss=0.669\n",
      ">15, 2/2, D_loss=0.658, G_loss=0.673\n",
      ">16, 1/2, D_loss=0.668, G_loss=0.671\n",
      ">16, 2/2, D_loss=0.660, G_loss=0.668\n",
      ">17, 1/2, D_loss=0.666, G_loss=0.658\n",
      ">17, 2/2, D_loss=0.661, G_loss=0.660\n",
      ">18, 1/2, D_loss=0.654, G_loss=0.659\n",
      ">18, 2/2, D_loss=0.665, G_loss=0.660\n",
      ">19, 1/2, D_loss=0.660, G_loss=0.646\n",
      ">19, 2/2, D_loss=0.658, G_loss=0.654\n",
      ">20, 1/2, D_loss=0.655, G_loss=0.651\n",
      ">20, 2/2, D_loss=0.664, G_loss=0.644\n",
      ">21, 1/2, D_loss=0.649, G_loss=0.639\n",
      ">21, 2/2, D_loss=0.651, G_loss=0.639\n",
      ">22, 1/2, D_loss=0.651, G_loss=0.646\n",
      ">22, 2/2, D_loss=0.656, G_loss=0.630\n",
      ">23, 1/2, D_loss=0.660, G_loss=0.640\n",
      ">23, 2/2, D_loss=0.653, G_loss=0.633\n",
      ">24, 1/2, D_loss=0.661, G_loss=0.628\n",
      ">24, 2/2, D_loss=0.666, G_loss=0.634\n",
      ">25, 1/2, D_loss=0.662, G_loss=0.628\n",
      ">25, 2/2, D_loss=0.662, G_loss=0.630\n",
      ">26, 1/2, D_loss=0.659, G_loss=0.641\n",
      ">26, 2/2, D_loss=0.658, G_loss=0.628\n",
      ">27, 1/2, D_loss=0.658, G_loss=0.627\n",
      ">27, 2/2, D_loss=0.646, G_loss=0.631\n",
      ">28, 1/2, D_loss=0.652, G_loss=0.632\n",
      ">28, 2/2, D_loss=0.654, G_loss=0.641\n",
      ">29, 1/2, D_loss=0.670, G_loss=0.642\n",
      ">29, 2/2, D_loss=0.682, G_loss=0.638\n",
      ">30, 1/2, D_loss=0.669, G_loss=0.641\n",
      ">30, 2/2, D_loss=0.674, G_loss=0.635\n",
      ">31, 1/2, D_loss=0.659, G_loss=0.633\n",
      ">31, 2/2, D_loss=0.654, G_loss=0.632\n",
      ">32, 1/2, D_loss=0.644, G_loss=0.635\n",
      ">32, 2/2, D_loss=0.647, G_loss=0.638\n",
      ">33, 1/2, D_loss=0.649, G_loss=0.629\n",
      ">33, 2/2, D_loss=0.646, G_loss=0.634\n",
      ">34, 1/2, D_loss=0.664, G_loss=0.632\n",
      ">34, 2/2, D_loss=0.662, G_loss=0.646\n",
      ">35, 1/2, D_loss=0.678, G_loss=0.636\n",
      ">35, 2/2, D_loss=0.654, G_loss=0.639\n",
      ">36, 1/2, D_loss=0.657, G_loss=0.634\n",
      ">36, 2/2, D_loss=0.660, G_loss=0.633\n",
      ">37, 1/2, D_loss=0.648, G_loss=0.631\n",
      ">37, 2/2, D_loss=0.675, G_loss=0.639\n",
      ">38, 1/2, D_loss=0.678, G_loss=0.623\n",
      ">38, 2/2, D_loss=0.641, G_loss=0.624\n",
      ">39, 1/2, D_loss=0.682, G_loss=0.627\n",
      ">39, 2/2, D_loss=0.671, G_loss=0.614\n",
      ">40, 1/2, D_loss=0.659, G_loss=0.623\n",
      ">40, 2/2, D_loss=0.660, G_loss=0.624\n",
      ">41, 1/2, D_loss=0.669, G_loss=0.624\n",
      ">41, 2/2, D_loss=0.669, G_loss=0.621\n",
      ">42, 1/2, D_loss=0.667, G_loss=0.621\n",
      ">42, 2/2, D_loss=0.673, G_loss=0.634\n",
      ">43, 1/2, D_loss=0.665, G_loss=0.632\n",
      ">43, 2/2, D_loss=0.660, G_loss=0.629\n",
      ">44, 1/2, D_loss=0.667, G_loss=0.634\n",
      ">44, 2/2, D_loss=0.668, G_loss=0.632\n",
      ">45, 1/2, D_loss=0.655, G_loss=0.634\n",
      ">45, 2/2, D_loss=0.671, G_loss=0.626\n",
      ">46, 1/2, D_loss=0.654, G_loss=0.631\n",
      ">46, 2/2, D_loss=0.674, G_loss=0.636\n",
      ">47, 1/2, D_loss=0.651, G_loss=0.641\n",
      ">47, 2/2, D_loss=0.657, G_loss=0.637\n",
      ">48, 1/2, D_loss=0.663, G_loss=0.643\n",
      ">48, 2/2, D_loss=0.647, G_loss=0.644\n",
      ">49, 1/2, D_loss=0.645, G_loss=0.634\n",
      ">49, 2/2, D_loss=0.650, G_loss=0.651\n",
      ">50, 1/2, D_loss=0.640, G_loss=0.652\n",
      ">50, 2/2, D_loss=0.660, G_loss=0.661\n",
      ">51, 1/2, D_loss=0.629, G_loss=0.651\n",
      ">51, 2/2, D_loss=0.642, G_loss=0.652\n",
      ">52, 1/2, D_loss=0.631, G_loss=0.650\n",
      ">52, 2/2, D_loss=0.635, G_loss=0.648\n",
      ">53, 1/2, D_loss=0.642, G_loss=0.660\n",
      ">53, 2/2, D_loss=0.621, G_loss=0.658\n",
      ">54, 1/2, D_loss=0.645, G_loss=0.649\n",
      ">54, 2/2, D_loss=0.636, G_loss=0.649\n",
      ">55, 1/2, D_loss=0.628, G_loss=0.637\n",
      ">55, 2/2, D_loss=0.641, G_loss=0.635\n",
      ">56, 1/2, D_loss=0.657, G_loss=0.650\n",
      ">56, 2/2, D_loss=0.654, G_loss=0.646\n",
      ">57, 1/2, D_loss=0.648, G_loss=0.626\n",
      ">57, 2/2, D_loss=0.662, G_loss=0.639\n",
      ">58, 1/2, D_loss=0.676, G_loss=0.617\n",
      ">58, 2/2, D_loss=0.677, G_loss=0.623\n",
      ">59, 1/2, D_loss=0.673, G_loss=0.628\n",
      ">59, 2/2, D_loss=0.699, G_loss=0.635\n",
      ">60, 1/2, D_loss=0.663, G_loss=0.616\n",
      ">60, 2/2, D_loss=0.685, G_loss=0.631\n",
      ">61, 1/2, D_loss=0.687, G_loss=0.626\n",
      ">61, 2/2, D_loss=0.653, G_loss=0.646\n",
      ">62, 1/2, D_loss=0.675, G_loss=0.642\n",
      ">62, 2/2, D_loss=0.668, G_loss=0.657\n",
      ">63, 1/2, D_loss=0.668, G_loss=0.660\n",
      ">63, 2/2, D_loss=0.677, G_loss=0.669\n",
      ">64, 1/2, D_loss=0.668, G_loss=0.686\n",
      ">64, 2/2, D_loss=0.639, G_loss=0.680\n",
      ">65, 1/2, D_loss=0.652, G_loss=0.679\n",
      ">65, 2/2, D_loss=0.651, G_loss=0.686\n",
      ">66, 1/2, D_loss=0.649, G_loss=0.694\n",
      ">66, 2/2, D_loss=0.652, G_loss=0.694\n",
      ">67, 1/2, D_loss=0.640, G_loss=0.682\n",
      ">67, 2/2, D_loss=0.642, G_loss=0.690\n",
      ">68, 1/2, D_loss=0.634, G_loss=0.690\n",
      ">68, 2/2, D_loss=0.638, G_loss=0.680\n",
      ">69, 1/2, D_loss=0.633, G_loss=0.679\n",
      ">69, 2/2, D_loss=0.637, G_loss=0.683\n",
      ">70, 1/2, D_loss=0.631, G_loss=0.677\n",
      ">70, 2/2, D_loss=0.618, G_loss=0.658\n",
      ">71, 1/2, D_loss=0.643, G_loss=0.659\n",
      ">71, 2/2, D_loss=0.623, G_loss=0.660\n",
      ">72, 1/2, D_loss=0.635, G_loss=0.651\n",
      ">72, 2/2, D_loss=0.645, G_loss=0.639\n",
      ">73, 1/2, D_loss=0.635, G_loss=0.648\n",
      ">73, 2/2, D_loss=0.645, G_loss=0.640\n",
      ">74, 1/2, D_loss=0.654, G_loss=0.631\n",
      ">74, 2/2, D_loss=0.647, G_loss=0.657\n",
      ">75, 1/2, D_loss=0.650, G_loss=0.664\n",
      ">75, 2/2, D_loss=0.658, G_loss=0.653\n",
      ">76, 1/2, D_loss=0.680, G_loss=0.661\n",
      ">76, 2/2, D_loss=0.662, G_loss=0.647\n",
      ">77, 1/2, D_loss=0.667, G_loss=0.663\n",
      ">77, 2/2, D_loss=0.655, G_loss=0.645\n",
      ">78, 1/2, D_loss=0.688, G_loss=0.647\n",
      ">78, 2/2, D_loss=0.683, G_loss=0.654\n",
      ">79, 1/2, D_loss=0.696, G_loss=0.646\n",
      ">79, 2/2, D_loss=0.695, G_loss=0.634\n",
      ">80, 1/2, D_loss=0.687, G_loss=0.641\n",
      ">80, 2/2, D_loss=0.678, G_loss=0.658\n",
      ">81, 1/2, D_loss=0.676, G_loss=0.658\n",
      ">81, 2/2, D_loss=0.659, G_loss=0.667\n",
      ">82, 1/2, D_loss=0.679, G_loss=0.672\n",
      ">82, 2/2, D_loss=0.671, G_loss=0.664\n",
      ">83, 1/2, D_loss=0.671, G_loss=0.681\n",
      ">83, 2/2, D_loss=0.643, G_loss=0.694\n",
      ">84, 1/2, D_loss=0.654, G_loss=0.700\n",
      ">84, 2/2, D_loss=0.647, G_loss=0.709\n",
      ">85, 1/2, D_loss=0.631, G_loss=0.711\n",
      ">85, 2/2, D_loss=0.619, G_loss=0.725\n",
      ">86, 1/2, D_loss=0.619, G_loss=0.729\n",
      ">86, 2/2, D_loss=0.620, G_loss=0.737\n",
      ">87, 1/2, D_loss=0.634, G_loss=0.741\n",
      ">87, 2/2, D_loss=0.609, G_loss=0.756\n",
      ">88, 1/2, D_loss=0.617, G_loss=0.739\n",
      ">88, 2/2, D_loss=0.624, G_loss=0.756\n",
      ">89, 1/2, D_loss=0.608, G_loss=0.765\n",
      ">89, 2/2, D_loss=0.619, G_loss=0.741\n",
      ">90, 1/2, D_loss=0.591, G_loss=0.751\n",
      ">90, 2/2, D_loss=0.602, G_loss=0.740\n",
      ">91, 1/2, D_loss=0.619, G_loss=0.737\n",
      ">91, 2/2, D_loss=0.596, G_loss=0.729\n",
      ">92, 1/2, D_loss=0.610, G_loss=0.727\n",
      ">92, 2/2, D_loss=0.622, G_loss=0.699\n",
      ">93, 1/2, D_loss=0.622, G_loss=0.718\n",
      ">93, 2/2, D_loss=0.605, G_loss=0.699\n",
      ">94, 1/2, D_loss=0.618, G_loss=0.708\n",
      ">94, 2/2, D_loss=0.629, G_loss=0.720\n",
      ">95, 1/2, D_loss=0.631, G_loss=0.719\n",
      ">95, 2/2, D_loss=0.618, G_loss=0.713\n",
      ">96, 1/2, D_loss=0.624, G_loss=0.720\n",
      ">96, 2/2, D_loss=0.629, G_loss=0.728\n",
      ">97, 1/2, D_loss=0.618, G_loss=0.742\n",
      ">97, 2/2, D_loss=0.618, G_loss=0.739\n",
      ">98, 1/2, D_loss=0.642, G_loss=0.756\n",
      ">98, 2/2, D_loss=0.631, G_loss=0.750\n",
      ">99, 1/2, D_loss=0.618, G_loss=0.733\n",
      ">99, 2/2, D_loss=0.638, G_loss=0.732\n",
      ">100, 1/2, D_loss=0.651, G_loss=0.755\n",
      ">100, 2/2, D_loss=0.648, G_loss=0.733\n"
     ]
    },
    {
     "data": {
      "image/png": "[encoded data removed]",
      "text/plain": [
       "<Figure size 720x576 with 1 Axes>"
      ]
     },
     "metadata": {
      "needs_background": "light"
     },
     "output_type": "display_data"
    }
   ],
   "source": [
    "batch_size = 64\n",
    "num_epochs = 100\n",
    "\n",
    "alpha = 5e-2\n",
    "lr = 1e-4\n",
    "porosity = 0.5\n",
    "\n",
    "G = setup_G(input_G,output_G,size)\n",
    "D = setup_D(input_D,alpha)\n",
    "GAN = setup_GAN(G,D,alpha,lr,size)\n",
    "\n",
    "def train(G_model,D_model,GAN_model,alpha,lr,porosity,batch_size,num_epochs,plot=False):\n",
    "    batch_per_epoch = int(X_good.shape[0] /batch_size)\n",
    "    half_batch = int(batch_size/2)\n",
    "\n",
    "    G_losses = []\n",
    "    D_losses = []\n",
    "\n",
    "    for i in range(num_epochs):\n",
    "        G_losses_epoch = []\n",
    "        D_losses_epoch = []\n",
    "        for j in range(batch_per_epoch):\n",
    "            X_real,y_real = generate_real_samples(X_good,half_batch)\n",
    "            X_fake,y_fake = generate_fake_samples(G_model,input_G,half_batch)            \n",
    "\n",
    "            X, y = np.vstack((X_real, X_fake)), np.vstack((y_real, y_fake))\n",
    "        \n",
    "            D_loss = D_model.train_on_batch(x=[X,X], y=[y,porosity*np.ones(X.shape)])\n",
    "            D_loss = D_loss[0]\n",
    "            D_losses_epoch.append(D_loss)\n",
    "            \n",
    "            X_GAN = generate_input_G(input_G, batch_size)\n",
    "            y_GAN = np.ones((batch_size, 1))\n",
    "            G_loss= GAN_model.train_on_batch(x=X_GAN, y=[y_GAN,porosity*np.ones(X.shape)])\n",
    "            G_loss = G_loss[0]\n",
    "            G_losses_epoch.append(G_loss)\n",
    "\n",
    "            print('>%d, %d/%d, D_loss=%.3f, G_loss=%.3f' % (i+1, j+1, batch_per_epoch,  D_loss, G_loss))\n",
    "        \n",
    "        G_losses.append(G_losses_epoch)\n",
    "        D_losses.append(D_losses_epoch)\n",
    "        \n",
    "        # if i == num_epochs-5:\n",
    "        #     G_best = G_model\n",
    "\n",
    "    G_losses = np.array(G_losses)\n",
    "    D_losses = np.array(D_losses)\n",
    "\n",
    "    if plot:\n",
    "        fig = plt.figure()\n",
    "        fig.set_size_inches((10,8)) \n",
    "        plt.plot(list(range(1,num_epochs+1)),np.mean(D_losses,axis=1),label='D Loss')\n",
    "        plt.title('Loss')\n",
    "        plt.ylabel('Loss')\n",
    "        plt.xlabel('Epoch')\n",
    "        plt.plot(list(range(1,num_epochs+1)),np.mean(G_losses,axis=1),label='G Loss')\n",
    "        plt.legend()\n",
    "        plt.show()\n",
    "        \n",
    "    return G_model\n",
    "\n",
    "\n",
    "G_best = train(G,D,GAN,alpha,lr,porosity,batch_size,num_epochs,True)"
   ]
  },
  {
   "cell_type": "markdown",
   "id": "4bbad331",
   "metadata": {},
   "source": [
    "# Training GAN"
   ]
  },
  {
   "cell_type": "markdown",
   "id": "dafdc9cb",
   "metadata": {},
   "source": [
    "# Test"
   ]
  },
  {
   "cell_type": "code",
   "execution_count": 48,
   "id": "3ed76b8e",
   "metadata": {},
   "outputs": [
    {
     "name": "stdout",
     "output_type": "stream",
     "text": [
      "33.92\n"
     ]
    },
    {
     "data": {
      "image/png": "[encoded data removed]",
      "text/plain": [
       "<Figure size 432x288 with 1 Axes>"
      ]
     },
     "metadata": {
      "needs_background": "light"
     },
     "output_type": "display_data"
    }
   ],
   "source": [
    "# G = keras.models.load_model(\"\"\"C:/Users/lucas.barbosa/Documents/GitHub/INT/Manufatura Aditiva/Simulacao-GAN/Pipeline/4- Machine_learning/GAN/models/isotropy_epoch_100_loss_0.7585.h5\"\"\")\n",
    "test_size = 10000\n",
    "X_test = generate_input_G(input_G,test_size)\n",
    "\n",
    "generated_geoms,_ = G_best.predict(X_test)\n",
    "\n",
    "porosities =  []\n",
    "pors = []\n",
    "\n",
    "for generated_geom in generated_geoms:\n",
    "    p = generated_geom.ravel().round()\n",
    "    p = p.sum()/p.shape[0]\n",
    "    if p <= 0.52 and p >= 0.48:\n",
    "        pors.append(p)\n",
    "    porosities.append(p)\n",
    "\n",
    "sns.histplot(porosities,bins=32);\n",
    "print(100*len(pors)/len(porosities))"
   ]
  },
  {
   "cell_type": "markdown",
   "id": "9b9a6b19",
   "metadata": {},
   "source": [
    "## Evaluate `Generator`"
   ]
  },
  {
   "cell_type": "code",
   "execution_count": 49,
   "id": "954ff521",
   "metadata": {},
   "outputs": [
    {
     "name": "stdout",
     "output_type": "stream",
     "text": [
      "Score: 0.48 Porosity: 0.42\n"
     ]
    },
    {
     "data": {
      "image/png": "[encoded data removed]",
      "text/plain": [
       "<Figure size 432x288 with 1 Axes>"
      ]
     },
     "metadata": {
      "needs_background": "light"
     },
     "output_type": "display_data"
    },
    {
     "name": "stdout",
     "output_type": "stream",
     "text": [
      "Score: 0.48 Porosity: 0.43\n"
     ]
    },
    {
     "data": {
      "image/png": "[encoded data removed]",
      "text/plain": [
       "<Figure size 432x288 with 1 Axes>"
      ]
     },
     "metadata": {
      "needs_background": "light"
     },
     "output_type": "display_data"
    },
    {
     "name": "stdout",
     "output_type": "stream",
     "text": [
      "Score: 0.48 Porosity: 0.39\n"
     ]
    },
    {
     "data": {
      "image/png": "[encoded data removed]",
      "text/plain": [
       "<Figure size 432x288 with 1 Axes>"
      ]
     },
     "metadata": {
      "needs_background": "light"
     },
     "output_type": "display_data"
    },
    {
     "name": "stdout",
     "output_type": "stream",
     "text": [
      "Score: 0.48 Porosity: 0.45\n"
     ]
    },
    {
     "data": {
      "image/png": "[encoded data removed]",
      "text/plain": [
       "<Figure size 432x288 with 1 Axes>"
      ]
     },
     "metadata": {
      "needs_background": "light"
     },
     "output_type": "display_data"
    },
    {
     "name": "stdout",
     "output_type": "stream",
     "text": [
      "Score: 0.49 Porosity: 0.42\n"
     ]
    },
    {
     "data": {
      "image/png": "[encoded data removed]",
      "text/plain": [
       "<Figure size 432x288 with 1 Axes>"
      ]
     },
     "metadata": {
      "needs_background": "light"
     },
     "output_type": "display_data"
    },
    {
     "name": "stdout",
     "output_type": "stream",
     "text": [
      "Score: 0.52 Porosity: 0.43\n"
     ]
    },
    {
     "data": {
      "image/png": "[encoded data removed]",
      "text/plain": [
       "<Figure size 432x288 with 1 Axes>"
      ]
     },
     "metadata": {
      "needs_background": "light"
     },
     "output_type": "display_data"
    },
    {
     "data": {
      "image/png": "[encoded data removed]",
      "text/plain": [
       "<Figure size 432x288 with 1 Axes>"
      ]
     },
     "metadata": {
      "needs_background": "light"
     },
     "output_type": "display_data"
    }
   ],
   "source": [
    "test_size = 10000\n",
    "X_test = generate_input_G(input_G,test_size)\n",
    "\n",
    "generated_geoms,_ = G.predict(X_test)\n",
    "\n",
    "# Filter per porosity\n",
    "def porosity_match(geoms,porosity,tol):\n",
    "    geoms_ = []\n",
    "    passed = 0\n",
    "    for i in range(geoms.shape[0]):\n",
    "        g =geoms[i,:,:,0]\n",
    "        size = g.shape[0]\n",
    "        g = g.reshape((size*size,))\n",
    "        p = np.sum(g)/(size*size)\n",
    "        if p >= porosity-tol and p <= porosity+tol:\n",
    "            geoms_.append(g.reshape((size,size)))\n",
    "            passed += 1\n",
    "    return np.array(geoms_).reshape((passed,size,size,1))\n",
    "\n",
    "def create_unit(element,size,simmetry):\n",
    "  if simmetry == 'p4':\n",
    "    unit_size = 2*size\n",
    "    # fold_size = np.random.choice(4,1)[0]\n",
    "    unit = np.ones((2*size,2*size))*(-1)\n",
    "    h,w = element.shape\n",
    "    for i in range(h):\n",
    "      for j in range(w):\n",
    "        el = element[i,j]\n",
    "        \n",
    "        j_ = [j,2*w-1-i,2*h-1-j,i]\n",
    "        i_ = [i,j,2*w-1-i,2*h-1-j]\n",
    "        # (1,7)->(7,14)->(14,8)->(8,1)\n",
    "        for (k,l) in list(zip(i_,j_)):\n",
    "          unit[k,l]  = el\n",
    "\n",
    "  return unit\n",
    "\n",
    "def check_unit(unit,tol):\n",
    "  labels = measure.label(unit,connectivity=1)\n",
    "  main_label = 0\n",
    "  main_label_count = 0\n",
    "  passed = True\n",
    "\n",
    "  for label in range(1,len(np.unique(labels))):\n",
    "    label_count = np.where(labels==label)[0].shape[0]\n",
    "    if label_count > main_label_count:\n",
    "      main_label = label\n",
    "      main_label_count = label_count\n",
    "\n",
    "  if np.where(labels==0)[0].shape[0]+np.where(labels==main_label)[0].shape[0] >(1.0-tol)*unit.shape[0]*unit.shape[0]:\n",
    "    for label in range(1,len(np.unique(labels))):\n",
    "      if label not in [0,main_label]:\n",
    "        unit[np.where(labels==label)] = 0.\n",
    "\n",
    "    if unit[0,:].sum() > 0 and unit[:,0].sum() > 0:\n",
    "      # check if there is connectivity right-left\n",
    "      connections_rl = 0\n",
    "      for i in range(unit.shape[0]):\n",
    "        if (unit[i,0] == 1 and unit[i,-1] == 1):\n",
    "          connections_rl += 1\n",
    "\n",
    "      # check if there is connectivity top-bottom\n",
    "      connections_tb = 0\n",
    "      for j in range(unit.shape[1]):\n",
    "        if (unit[0,j] == 1 and unit[i,-1] == 1):\n",
    "          connections_tb += 1\n",
    "\n",
    "      if connections_rl == 0 or connections_tb == 0:\n",
    "        passed = False\n",
    "      \n",
    "    else:\n",
    "      passed = False\n",
    "      \n",
    "  else:\n",
    "    passed = False\n",
    "\n",
    "  return passed, unit[:int(unit.shape[0]/2),:int(unit.shape[0]/2)]\n",
    "\n",
    "porosity=0.5\n",
    "tol = 0.1\n",
    "simmetry = 'p4'\n",
    "geometries = porosity_match(generated_geoms,porosity,tol)\n",
    "size = geometries.shape[1]\n",
    "geometries_ = []\n",
    "\n",
    "for i in range(10):\n",
    "  geom = geometries[i].reshape((size,size)).round()\n",
    "  unit = create_unit(geom,size,simmetry)\n",
    "  passed,geom_ = check_unit(unit,tol)\n",
    "  if passed:\n",
    "    geometries_.append(geom_)\n",
    "geometries = np.array(geometries_).reshape((len(geometries_),size,size,1))\n",
    "# Round pixels\n",
    "geometries = geometries.round()\n",
    "\n",
    "# Get scores\n",
    "top = 20\n",
    "scores = D.predict([geometries,geometries])[0]\n",
    "top_idxs = scores[:,0].argsort()[-top:]\n",
    "\n",
    "# Add solid boundary\n",
    "geometries_expanded = []\n",
    "for i in range(geometries.shape[0]):\n",
    "    geom = geometries[i]    \n",
    "    geometries_expanded.append(geom)\n",
    "\n",
    "geometries = np.array(geometries_expanded).reshape((geometries.shape[0],geometries.shape[1],geometries.shape[2],geometries.shape[3]))\n",
    "\n",
    "for top_idx in top_idxs:\n",
    "    geom = geometries[top_idx]\n",
    "    unit = create_unit(geom.reshape((size,size)),size,simmetry)\n",
    "    print(\"Score: %.2f Porosity: %.2f\"%(scores[top_idx,0],geom.ravel().sum()/(size*size)))\n",
    "    plt.imshow(geom,cmap=\"Greys\")\n",
    "    plt.show()\n",
    "\n",
    "sns.histplot(np.sum(generated_geoms.round().reshape((test_size,int(size*size))),axis=-1)/int(size*size),bins=32);"
   ]
  }
 ],
 "metadata": {
  "interpreter": {
   "hash": "420fdcf06cbb96ea9ff1d5e401ebb7d5e427e9ac219017cd6fbf2a7f78bef6d6"
  },
  "kernelspec": {
   "display_name": "Python 3",
   "language": "python",
   "name": "python3"
  },
  "language_info": {
   "codemirror_mode": {
    "name": "ipython",
    "version": 3
   },
   "file_extension": ".py",
   "mimetype": "text/x-python",
   "name": "python",
   "nbconvert_exporter": "python",
   "pygments_lexer": "ipython3",
   "version": "3.7.0"
  }
 },
 "nbformat": 4,
 "nbformat_minor": 5
}
