{
 "cells": [
  {
   "cell_type": "code",
   "execution_count": 2,
   "id": "9db8f6e6",
   "metadata": {},
   "outputs": [],
   "source": [
    "import numpy as np\n",
    "import pandas as pd\n",
    "import seaborn as sns"
   ]
  },
  {
   "cell_type": "code",
   "execution_count": 3,
   "id": "9dc2c05d",
   "metadata": {},
   "outputs": [
    {
     "name": "stdout",
     "output_type": "stream",
     "text": [
      "{0.0001: 1.1383244233042558, 0.001: 1.4985718785239517, 0.01: 1.495666315007638}\n",
      "{0.0001: 0.6583062158195723, 0.001: 0.7304508440575125, 0.01: 3.2193791514111787}\n",
      "{100: 1.3251372272920172, 50: 1.1733824613699564, 200: 1.621147740706469, 25: 1.22282808888863}\n",
      "{64: 0.8650309629260349, 16: 1.8133619465002009, 32: 1.2479232631966366}\n",
      "{0.7799999999999999: 0.6085938774049282, 0.76: 0.643047205388654, 0.7899999999999999: 0.6167939641961344, 0.74: 1.3609723421226279, 0.7: 1.4493794089316558, 0.77: 0.6301369972454602, 0.7999999999999999: 0.6344023726247494, 0.72: 1.579898397216184, 0.73: 0.6509289995133877, 0.75: 0.6464815122646977, 0.71: 0.6804656932070919}\n"
     ]
    }
   ],
   "source": [
    "metrics = pd.read_csv('metrics.csv')\n",
    "metrics.set_index('Name',inplace=True)\n",
    "metrics.drop(['Run ID','Source Name','Source Type','User','Status'],axis=1,inplace=True)\n",
    "G_corr = metrics.corr()['G_loss'].round(2)\n",
    "alphas = metrics['alpha'].unique()\n",
    "lrs = metrics['lr'].unique()\n",
    "nums_epochs = metrics['num_epochs'].unique()\n",
    "batch_sizes = metrics['batch_size'].unique()\n",
    "cutoffs = metrics['cutoff'].unique()\n",
    "\n",
    "def par_metrics(df,par):\n",
    "    par_values =df[par].unique()\n",
    "    metrics = {}\n",
    "    for par_value in par_values:\n",
    "        metric = df[df[par]==par_value]['G_loss'].mean()\n",
    "        metrics[par_value] = metric\n",
    "    return metrics\n",
    "pars = ['alpha','lr','num_epochs','batch_size','cutoff']        \n",
    "for par in pars:\n",
    "    print(par_metrics(metrics,par))"
   ]
  },
  {
   "cell_type": "code",
   "execution_count": 27,
   "id": "5b1fce64",
   "metadata": {},
   "outputs": [
    {
     "data": {
      "text/plain": [
       "[1.449379408931656,\n",
       " 0.6804656932070919,\n",
       " 1.5798983972161835,\n",
       " 0.6509289995133877,\n",
       " 1.3609723421226283,\n",
       " 0.6464815122646977,\n",
       " 0.643047205388654,\n",
       " 0.6301369972454602,\n",
       " 0.6085938774049282,\n",
       " 0.6167939641961345,\n",
       " 0.6344023726247495]"
      ]
     },
     "execution_count": 27,
     "metadata": {},
     "output_type": "execute_result"
    }
   ],
   "source": [
    "cutoff_df = metrics[['cutoff','D_loss','G_loss']]\n",
    "cutoff_df = cutoff_df.sort_values(by='cutoff')\n",
    "g_losses = []\n",
    "d_losses = []\n",
    "cutoffs = []\n",
    "for c in range(11):\n",
    "    cutoffs.append(0.7+0.1*c)\n",
    "    g_losses.append(cutoff_df[cutoff_df['cutoff']==0.7+0.01*c]['G_loss'].mean())\n",
    "    d_losses.append(cutoff_df[cutoff_df['cutoff']==0.7+0.01*c]['D_loss'].mean())    \n",
    "g_losses"
   ]
  }
 ],
 "metadata": {
  "kernelspec": {
   "display_name": "Python [conda env:deeplearn] *",
   "language": "python",
   "name": "conda-env-deeplearn-py"
  },
  "language_info": {
   "codemirror_mode": {
    "name": "ipython",
    "version": 3
   },
   "file_extension": ".py",
   "mimetype": "text/x-python",
   "name": "python",
   "nbconvert_exporter": "python",
   "pygments_lexer": "ipython3",
   "version": "3.6.13"
  }
 },
 "nbformat": 4,
 "nbformat_minor": 5
}
