{
 "cells": [
  {
   "cell_type": "code",
   "execution_count": 11,
   "metadata": {},
   "outputs": [
    {
     "name": "stdout",
     "output_type": "stream",
     "text": [
      "[0.78430949 0.25824938 0.        ] [0.82573247 0.        ]\n"
     ]
    }
   ],
   "source": [
    "import numpy as np\n",
    "input_G = 3\n",
    "noise = np.zeros(input_G)\n",
    "noise[0] = np.random.random()\n",
    "rads = np.zeros(input_G-1)\n",
    "noise[1] = np.random.random()\n",
    "rads[0] = np.sqrt(noise[0]**2+noise[1]**2)\n",
    "print(noise,rads)"
   ]
  },
  {
   "cell_type": "code",
   "execution_count": 24,
   "metadata": {},
   "outputs": [
    {
     "data": {
      "text/plain": [
       "array([[-0.01543138, -0.2353311 ,  0.5270397 ,  0.56969208, -0.09989439,\n",
       "         0.08222681,  0.21832056, -0.22291232,  0.3833278 ,  0.28465266],\n",
       "       [-0.06880366, -0.50848187,  0.14973275,  0.65545962,  0.22578583,\n",
       "        -0.12747338,  0.19427695, -0.16001951, -0.21662429, -0.32735374],\n",
       "       [-0.15790249, -0.39053045,  0.59340791, -0.24685714,  0.10012044,\n",
       "        -0.09924267, -0.22381754,  0.47007687,  0.30931354,  0.15121749],\n",
       "       [-0.11075424,  0.6167437 , -0.19674837, -0.34597844, -0.10152681,\n",
       "         0.60189013, -0.05290811, -0.24597737,  0.02859224,  0.11067355],\n",
       "       [-0.04481015, -0.14928397, -0.35861707,  0.40656968, -0.43119803,\n",
       "        -0.54346446,  0.00720606,  0.26585628, -0.31934527, -0.1667423 ],\n",
       "       [-0.42168676,  0.23259662,  0.43717444,  0.43647823, -0.34242341,\n",
       "        -0.04344018,  0.02001973,  0.02495655,  0.26511215,  0.44271372],\n",
       "       [ 0.08273758, -0.22464925,  0.28946447,  0.19777892,  0.53408437,\n",
       "        -0.00255379,  0.41485933, -0.44841572,  0.16800569, -0.36485279],\n",
       "       [-0.27966518, -0.50172346, -0.44106733,  0.04000587, -0.04452355,\n",
       "         0.09542734,  0.18657716, -0.47028976,  0.03930145,  0.45310405],\n",
       "       [-0.05824015,  0.29415435, -0.27137014,  0.44304678,  0.19914832,\n",
       "         0.19734161,  0.60748419, -0.28581628, -0.27752726, -0.18383677],\n",
       "       [-0.2684402 ,  0.57203834, -0.38119092,  0.25573031,  0.27213691,\n",
       "         0.37594132,  0.05855236, -0.09691935,  0.02848374, -0.40122818]])"
      ]
     },
     "execution_count": 24,
     "metadata": {},
     "output_type": "execute_result"
    }
   ],
   "source": [
    "def sample_spherical(npoints, ndim):\n",
    "    vec = np.random.randn(ndim, npoints)\n",
    "    vec /= np.linalg.norm(vec, axis=0)\n",
    "    return vec.T\n",
    "\n",
    "sample_spherical(10,10)"
   ]
  },
  {
   "cell_type": "code",
   "execution_count": 23,
   "metadata": {},
   "outputs": [
    {
     "data": {
      "text/plain": [
       "array([[-0.2470158 , -1.59083876],\n",
       "       [ 0.7263811 , -0.89944245],\n",
       "       [-0.96416403,  1.27290184]])"
      ]
     },
     "execution_count": 23,
     "metadata": {},
     "output_type": "execute_result"
    }
   ],
   "source": [
    "np.random.randn(3,2)"
   ]
  }
 ],
 "metadata": {
  "kernelspec": {
   "display_name": "Python 3.7.0 ('deeplearn37')",
   "language": "python",
   "name": "python3"
  },
  "language_info": {
   "codemirror_mode": {
    "name": "ipython",
    "version": 3
   },
   "file_extension": ".py",
   "mimetype": "text/x-python",
   "name": "python",
   "nbconvert_exporter": "python",
   "pygments_lexer": "ipython3",
   "version": "3.7.0"
  },
  "orig_nbformat": 4,
  "vscode": {
   "interpreter": {
    "hash": "3ea2531fbdcd84462b9d9450eb303ca41382681b46a7919c6526dbcc564fe4d2"
   }
  }
 },
 "nbformat": 4,
 "nbformat_minor": 2
}
