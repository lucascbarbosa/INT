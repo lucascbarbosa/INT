{
 "cells": [
  {
   "cell_type": "code",
   "execution_count": 1,
   "metadata": {},
   "outputs": [
    {
     "name": "stderr",
     "output_type": "stream",
     "text": [
      "c:\\users\\lucas\\appdata\\local\\programs\\python\\python36\\lib\\site-packages\\ipykernel_launcher.py:42: ComplexWarning: Casting complex values to real discards the imaginary part\n",
      "c:\\users\\lucas\\appdata\\local\\programs\\python\\python36\\lib\\site-packages\\ipykernel_launcher.py:55: ComplexWarning: Casting complex values to real discards the imaginary part\n",
      "c:\\users\\lucas\\appdata\\local\\programs\\python\\python36\\lib\\site-packages\\ipykernel_launcher.py:70: ComplexWarning: Casting complex values to real discards the imaginary part\n"
     ]
    },
    {
     "ename": "NameError",
     "evalue": "name 'e' is not defined",
     "output_type": "error",
     "traceback": [
      "\u001b[1;31m---------------------------------------------------------------------------\u001b[0m",
      "\u001b[1;31mNameError\u001b[0m                                 Traceback (most recent call last)",
      "\u001b[1;32m<ipython-input-1-bceb003480ea>\u001b[0m in \u001b[0;36m<module>\u001b[1;34m\u001b[0m\n\u001b[0;32m     75\u001b[0m \u001b[0mtime\u001b[0m \u001b[1;33m=\u001b[0m \u001b[1;33m[\u001b[0m\u001b[1;33m]\u001b[0m\u001b[1;33m\u001b[0m\u001b[1;33m\u001b[0m\u001b[0m\n\u001b[0;32m     76\u001b[0m \u001b[1;32mfor\u001b[0m \u001b[0mi\u001b[0m \u001b[1;32min\u001b[0m \u001b[0mrange\u001b[0m\u001b[1;33m(\u001b[0m\u001b[1;36m1\u001b[0m\u001b[1;33m,\u001b[0m\u001b[1;36m16001\u001b[0m\u001b[1;33m)\u001b[0m\u001b[1;33m:\u001b[0m\u001b[1;33m\u001b[0m\u001b[1;33m\u001b[0m\u001b[0m\n\u001b[1;32m---> 77\u001b[1;33m     \u001b[0mtime\u001b[0m\u001b[1;33m.\u001b[0m\u001b[0mappend\u001b[0m\u001b[1;33m(\u001b[0m\u001b[0mi\u001b[0m\u001b[1;33m*\u001b[0m\u001b[1;36m2\u001b[0m\u001b[1;33m*\u001b[0m\u001b[0me\u001b[0m\u001b[1;33m-\u001b[0m\u001b[1;36m8\u001b[0m\u001b[1;33m)\u001b[0m\u001b[1;33m\u001b[0m\u001b[1;33m\u001b[0m\u001b[0m\n\u001b[0m\u001b[0;32m     78\u001b[0m \u001b[0mossos\u001b[0m \u001b[1;33m=\u001b[0m \u001b[0mossos\u001b[0m\u001b[1;33m[\u001b[0m\u001b[1;36m0\u001b[0m\u001b[1;33m:\u001b[0m\u001b[0mi\u001b[0m\u001b[1;33m,\u001b[0m\u001b[1;33m:\u001b[0m\u001b[1;33m]\u001b[0m\u001b[1;33m\u001b[0m\u001b[1;33m\u001b[0m\u001b[0m\n\u001b[0;32m     79\u001b[0m \u001b[0mclasses\u001b[0m \u001b[1;33m=\u001b[0m \u001b[0mclasses\u001b[0m\u001b[1;33m[\u001b[0m\u001b[1;36m0\u001b[0m\u001b[1;33m:\u001b[0m\u001b[0mi\u001b[0m\u001b[1;33m]\u001b[0m\u001b[1;33m\u001b[0m\u001b[1;33m\u001b[0m\u001b[0m\n",
      "\u001b[1;31mNameError\u001b[0m: name 'e' is not defined"
     ]
    }
   ],
   "source": [
    "import pandas as pd\n",
    "import os\n",
    "import numpy as np\n",
    "import scipy as sp\n",
    "from sklearn.model_selection import train_test_split\n",
    "from sklearn.linear_model import LogisticRegression\n",
    "from sklearn.metrics import classification_report,confusion_matrix\n",
    "from sklearn.neighbors import KNeighborsClassifier\n",
    "import matplotlib.pyplot as plt\n",
    "from sklearn.svm import LinearSVC,SVC\n",
    "%matplotlib inline\n",
    "\n",
    "\n",
    "# Lista de arquivos ossos original (sem desmineralização)\n",
    "lista_arq_ossos=os.listdir('Dados/original/')\n",
    "# Lista de arquivos ossos desmineralização 1\n",
    "lista_arq_desm1=os.listdir('Dados/desm1/')\n",
    "# Lista de arquivos ossos desmineralização 2\n",
    "lista_arq_desm2=os.listdir('Dados/desm2/')\n",
    "# Lista de arquivos ossos desmineralização 3\n",
    "lista_arq_desm3=os.listdir('Dados/desm3/')\n",
    "\n",
    "# Quantidade total de sinais\n",
    "total_signal = len(lista_arq_ossos)+len(lista_arq_desm1)+len(lista_arq_desm2)+len(lista_arq_desm3)+1\n",
    "# Matriz zerada para comportar todos os sinais\n",
    "ossos = np.zeros((total_signal,15997))\n",
    "# Matriz zerada para comportar todas as classes\n",
    "classes = np.zeros((total_signal))\n",
    "\n",
    "data_len = 15999\n",
    "\n",
    "# Lendo os sinais de ossos sem desmineralização\n",
    "i=0\n",
    "# Lendo os sinais de ossos desmineralização 1\n",
    "for nome2 in lista_arq_desm1:\n",
    "    arq = open('Dados/desm1/'+nome2,'r')\n",
    "    data = arq.readlines()\n",
    "    data = [float(x) for x in data]\n",
    "    data = data [2:data_len]\n",
    "    data = np.array(data)\n",
    "    data_fft = sp.fft(data)\n",
    "    ossos[i,:]=data_fft\n",
    "    classes[i] = 1\n",
    "    i = i+1\n",
    "    data=0\n",
    "    arq.close()\n",
    "\n",
    "for nome3 in lista_arq_desm2:\n",
    "    arq = open('Dados/desm2/'+nome3,'r')\n",
    "    data = arq.readlines()\n",
    "    data = [float(x) for x in data]\n",
    "    data = data [2:data_len]\n",
    "    data = np.array(data)\n",
    "    data_fft = sp.fft(data)\n",
    "    ossos[i,:]=data_fft\n",
    "    classes[i] = 2\n",
    "    i = i+1\n",
    "    data=0\n",
    "    arq.close()\n",
    "\n",
    "\n",
    "\n",
    "for nome4 in lista_arq_desm3:\n",
    "    arq = open('Dados/desm3/'+nome4,'r')\n",
    "    data = arq.readlines()\n",
    "    data = [float(x) for x in data]\n",
    "    data = data [2:data_len]\n",
    "    data = np.array(data)\n",
    "    data_fft = sp.fft(data)\n",
    "    ossos[i,:]=data_fft\n",
    "    classes[i] = 3\n",
    "    i = i+1\n",
    "    data=0\n",
    "    arq.close()\n",
    "time = []\n",
    "for i in range(1,16001):\n",
    "    time.append(i*2*e-8)\n",
    "ossos = ossos[0:i,:]\n",
    "classes = classes[0:i]\n",
    "ossos_df = pd.DataFrame(ossos)\n",
    "classes_df= pd.DataFrame(classes)\n",
    "classes_df['Desm'] = classes_df[0]\n",
    "classes_df = classes_df.drop(0,axis=1)\n",
    "result = pd.concat([ossos_df, classes_df], axis=1, sort=False)\n",
    "result"
   ]
  },
  {
   "cell_type": "code",
   "execution_count": 87,
   "metadata": {},
   "outputs": [
    {
     "name": "stdout",
     "output_type": "stream",
     "text": [
      "              precision    recall  f1-score   support\n",
      "\n",
      "         1.0       0.55      0.55      0.55        83\n",
      "         2.0       0.61      0.48      0.54       154\n",
      "         3.0       0.62      0.79      0.69       122\n",
      "\n",
      "    accuracy                           0.60       359\n",
      "   macro avg       0.60      0.61      0.60       359\n",
      "weighted avg       0.60      0.60      0.59       359\n",
      "\n",
      "[[46 29  8]\n",
      " [29 74 51]\n",
      " [ 8 18 96]]\n"
     ]
    }
   ],
   "source": [
    "clf = SVC(gamma='scale', decision_function_shape='ovo')\n",
    "X = result.drop(['Desm'],axis=1)\n",
    "y = result['Desm']\n",
    "X_train, X_test, y_train, y_test = train_test_split(X, y, test_size=0.3)\n",
    "clf.fit(X_train,y_train) \n",
    "pred_clf = clf.predict(X_test)\n",
    "print(classification_report(y_test, pred_clf))\n",
    "cm_clf= confusion_matrix(y_test, pred_clf)\n",
    "print(cm_clf)"
   ]
  }
 ],
 "metadata": {
  "kernelspec": {
   "display_name": "Python 3",
   "language": "python",
   "name": "python3"
  },
  "language_info": {
   "codemirror_mode": {
    "name": "ipython",
    "version": 3
   },
   "file_extension": ".py",
   "mimetype": "text/x-python",
   "name": "python",
   "nbconvert_exporter": "python",
   "pygments_lexer": "ipython3",
   "version": "3.6.7"
  }
 },
 "nbformat": 4,
 "nbformat_minor": 2
}
