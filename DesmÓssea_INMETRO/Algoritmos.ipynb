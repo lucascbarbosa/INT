{
 "cells": [
  {
   "cell_type": "code",
   "execution_count": 2,
   "metadata": {},
   "outputs": [],
   "source": [
    "import pandas as pd\n",
    "import os\n",
    "import numpy as np\n",
    "\n",
    "\n",
    "# Lista de arquivos ossos original (sem desmineralização)\n",
    "lista_arq_ossos=os.listdir('CNN_osso/original/')\n",
    "# Lista de arquivos ossos desmineralização 1\n",
    "lista_arq_desm1=os.listdir('CNN_osso/desm1/')\n",
    "# Lista de arquivos ossos desmineralização 2\n",
    "lista_arq_desm2=os.listdir('CNN_osso/desm2/')\n",
    "# Lista de arquivos ossos desmineralização 3\n",
    "lista_arq_desm3=os.listdir('CNN_osso/desm3/')\n",
    "\n",
    "# Quantidade total de sinais\n",
    "total_signal = len(lista_arq_ossos)+len(lista_arq_desm1)+len(lista_arq_desm2)+len(lista_arq_desm3)+1\n",
    "\n",
    "# Matriz zerada para comportar todos os sinais\n",
    "ossos = np.zeros((total_signal,15997))\n",
    "# Matriz zerada para comportar todas as classes\n",
    "classes = np.zeros((total_signal))\n",
    "\n",
    "data_len = 15999\n",
    "\n",
    "# Lendo os sinais de ossos sem desmineralização\n",
    "i=0\n",
    "# Lendo os sinais de ossos desmineralização 1\n",
    "for nome2 in lista_arq_desm1:\n",
    "\tarq = open('CNN_osso/desm1/'+nome2,'r')\n",
    "\tdata = arq.readlines()\n",
    "\tdata = [float(x) for x in data]\n",
    "\tdata = data [2:data_len]\n",
    "\tossos[i,:]=data\n",
    "#\tclasses[i,:] = [0., 1., 0., 0.]\n",
    "\tclasses[i] = 1\n",
    "\ti = i+1\n",
    "\tdata=0\n",
    "\tarq.close()\n",
    "\n",
    "# Lendo os sinais de ossos desmineralização 2\n",
    "for nome3 in lista_arq_desm2:\n",
    "\tarq = open('CNN_osso/desm2/'+nome3,'r')\n",
    "\tdata = arq.readlines()\n",
    "\tdata = [float(x) for x in data]\n",
    "\tdata = data [2:data_len]\n",
    "\tossos[i,:]=data\n",
    "#\tclasses[i,:] = [0., 0., 1., 0.]\n",
    "\tclasses[i] = 2\n",
    "\ti = i+1\n",
    "\tdata=0\n",
    "\tarq.close()\n",
    "\n",
    "# Lendo os sinais de ossos desmineralização 3\n",
    "for nome4 in lista_arq_desm3:\n",
    "\tarq = open('CNN_osso/desm3/'+nome4,'r')\n",
    "\tdata = arq.readlines()\n",
    "\tdata = [float(x) for x in data]\n",
    "\tdata = data [2:data_len]\n",
    "\tossos[i,:]=data\n",
    "#\tclasses[i,:] = [0., 0., 0., 1.]\n",
    "\tclasses[i] = 3\n",
    "\ti = i+1\n",
    "\tdata=0\n",
    "\tarq.close()\n",
    "\n",
    "ossos = ossos[0:i,:]\n",
    "classes = classes[0:i]\n"
   ]
  },
  {
   "cell_type": "code",
   "execution_count": 3,
   "metadata": {
    "scrolled": true
   },
   "outputs": [],
   "source": [
    "ossos_df = pd.DataFrame(ossos)\n",
    "classes_df= pd.DataFrame(classes)\n",
    "classes_df['Desm'] = classes_df[0]\n",
    "classes_df = classes_df.drop(0,axis=1)"
   ]
  },
  {
   "cell_type": "code",
   "execution_count": 4,
   "metadata": {},
   "outputs": [
    {
     "data": {
      "text/html": [
       "<div>\n",
       "<style scoped>\n",
       "    .dataframe tbody tr th:only-of-type {\n",
       "        vertical-align: middle;\n",
       "    }\n",
       "\n",
       "    .dataframe tbody tr th {\n",
       "        vertical-align: top;\n",
       "    }\n",
       "\n",
       "    .dataframe thead th {\n",
       "        text-align: right;\n",
       "    }\n",
       "</style>\n",
       "<table border=\"1\" class=\"dataframe\">\n",
       "  <thead>\n",
       "    <tr style=\"text-align: right;\">\n",
       "      <th></th>\n",
       "      <th>0</th>\n",
       "      <th>1</th>\n",
       "      <th>2</th>\n",
       "      <th>3</th>\n",
       "      <th>4</th>\n",
       "      <th>5</th>\n",
       "      <th>6</th>\n",
       "      <th>7</th>\n",
       "      <th>8</th>\n",
       "      <th>9</th>\n",
       "      <th>...</th>\n",
       "      <th>15988</th>\n",
       "      <th>15989</th>\n",
       "      <th>15990</th>\n",
       "      <th>15991</th>\n",
       "      <th>15992</th>\n",
       "      <th>15993</th>\n",
       "      <th>15994</th>\n",
       "      <th>15995</th>\n",
       "      <th>15996</th>\n",
       "      <th>Desm</th>\n",
       "    </tr>\n",
       "  </thead>\n",
       "  <tbody>\n",
       "    <tr>\n",
       "      <td>0</td>\n",
       "      <td>-0.000150</td>\n",
       "      <td>-0.000150</td>\n",
       "      <td>-0.000150</td>\n",
       "      <td>-0.000150</td>\n",
       "      <td>-0.000150</td>\n",
       "      <td>-0.000150</td>\n",
       "      <td>-0.000150</td>\n",
       "      <td>-0.000150</td>\n",
       "      <td>-0.000150</td>\n",
       "      <td>-0.000150</td>\n",
       "      <td>...</td>\n",
       "      <td>-0.000391</td>\n",
       "      <td>-0.000391</td>\n",
       "      <td>-0.000391</td>\n",
       "      <td>-0.000271</td>\n",
       "      <td>-0.000271</td>\n",
       "      <td>-0.000271</td>\n",
       "      <td>-0.000271</td>\n",
       "      <td>-0.000271</td>\n",
       "      <td>-0.000271</td>\n",
       "      <td>1.0</td>\n",
       "    </tr>\n",
       "    <tr>\n",
       "      <td>1</td>\n",
       "      <td>-0.000100</td>\n",
       "      <td>-0.000100</td>\n",
       "      <td>-0.000100</td>\n",
       "      <td>-0.000100</td>\n",
       "      <td>-0.000100</td>\n",
       "      <td>-0.000100</td>\n",
       "      <td>-0.000100</td>\n",
       "      <td>-0.000100</td>\n",
       "      <td>-0.000100</td>\n",
       "      <td>-0.000100</td>\n",
       "      <td>...</td>\n",
       "      <td>-0.000422</td>\n",
       "      <td>-0.000422</td>\n",
       "      <td>-0.000422</td>\n",
       "      <td>-0.000422</td>\n",
       "      <td>-0.000422</td>\n",
       "      <td>-0.000422</td>\n",
       "      <td>-0.000422</td>\n",
       "      <td>-0.000422</td>\n",
       "      <td>-0.000422</td>\n",
       "      <td>1.0</td>\n",
       "    </tr>\n",
       "    <tr>\n",
       "      <td>2</td>\n",
       "      <td>-0.000100</td>\n",
       "      <td>-0.000100</td>\n",
       "      <td>-0.000100</td>\n",
       "      <td>-0.000100</td>\n",
       "      <td>-0.000100</td>\n",
       "      <td>-0.000100</td>\n",
       "      <td>-0.000100</td>\n",
       "      <td>-0.000100</td>\n",
       "      <td>-0.000100</td>\n",
       "      <td>-0.000100</td>\n",
       "      <td>...</td>\n",
       "      <td>-0.000582</td>\n",
       "      <td>-0.000743</td>\n",
       "      <td>-0.000743</td>\n",
       "      <td>-0.000743</td>\n",
       "      <td>-0.000743</td>\n",
       "      <td>-0.000743</td>\n",
       "      <td>-0.000743</td>\n",
       "      <td>-0.000743</td>\n",
       "      <td>-0.000743</td>\n",
       "      <td>1.0</td>\n",
       "    </tr>\n",
       "    <tr>\n",
       "      <td>3</td>\n",
       "      <td>-0.000200</td>\n",
       "      <td>-0.000200</td>\n",
       "      <td>-0.000200</td>\n",
       "      <td>-0.000200</td>\n",
       "      <td>-0.000200</td>\n",
       "      <td>-0.000200</td>\n",
       "      <td>-0.000200</td>\n",
       "      <td>-0.000200</td>\n",
       "      <td>-0.000200</td>\n",
       "      <td>-0.000200</td>\n",
       "      <td>...</td>\n",
       "      <td>-0.000200</td>\n",
       "      <td>-0.000200</td>\n",
       "      <td>-0.000200</td>\n",
       "      <td>-0.000200</td>\n",
       "      <td>-0.000200</td>\n",
       "      <td>-0.000200</td>\n",
       "      <td>-0.000200</td>\n",
       "      <td>-0.000200</td>\n",
       "      <td>-0.000200</td>\n",
       "      <td>1.0</td>\n",
       "    </tr>\n",
       "    <tr>\n",
       "      <td>4</td>\n",
       "      <td>-0.000039</td>\n",
       "      <td>-0.000039</td>\n",
       "      <td>-0.000039</td>\n",
       "      <td>-0.000039</td>\n",
       "      <td>-0.000200</td>\n",
       "      <td>-0.000200</td>\n",
       "      <td>-0.000200</td>\n",
       "      <td>-0.000200</td>\n",
       "      <td>-0.000200</td>\n",
       "      <td>-0.000200</td>\n",
       "      <td>...</td>\n",
       "      <td>0.000282</td>\n",
       "      <td>0.000282</td>\n",
       "      <td>0.000282</td>\n",
       "      <td>0.000282</td>\n",
       "      <td>0.000282</td>\n",
       "      <td>0.000282</td>\n",
       "      <td>0.000122</td>\n",
       "      <td>0.000282</td>\n",
       "      <td>0.000282</td>\n",
       "      <td>1.0</td>\n",
       "    </tr>\n",
       "    <tr>\n",
       "      <td>...</td>\n",
       "      <td>...</td>\n",
       "      <td>...</td>\n",
       "      <td>...</td>\n",
       "      <td>...</td>\n",
       "      <td>...</td>\n",
       "      <td>...</td>\n",
       "      <td>...</td>\n",
       "      <td>...</td>\n",
       "      <td>...</td>\n",
       "      <td>...</td>\n",
       "      <td>...</td>\n",
       "      <td>...</td>\n",
       "      <td>...</td>\n",
       "      <td>...</td>\n",
       "      <td>...</td>\n",
       "      <td>...</td>\n",
       "      <td>...</td>\n",
       "      <td>...</td>\n",
       "      <td>...</td>\n",
       "      <td>...</td>\n",
       "      <td>...</td>\n",
       "    </tr>\n",
       "    <tr>\n",
       "      <td>1191</td>\n",
       "      <td>-0.000307</td>\n",
       "      <td>-0.000307</td>\n",
       "      <td>-0.000307</td>\n",
       "      <td>-0.000307</td>\n",
       "      <td>-0.000307</td>\n",
       "      <td>-0.000187</td>\n",
       "      <td>-0.000187</td>\n",
       "      <td>-0.000066</td>\n",
       "      <td>-0.000066</td>\n",
       "      <td>-0.000066</td>\n",
       "      <td>...</td>\n",
       "      <td>-0.001152</td>\n",
       "      <td>-0.001152</td>\n",
       "      <td>-0.001152</td>\n",
       "      <td>-0.001031</td>\n",
       "      <td>-0.001031</td>\n",
       "      <td>-0.001031</td>\n",
       "      <td>-0.001031</td>\n",
       "      <td>-0.001031</td>\n",
       "      <td>-0.001152</td>\n",
       "      <td>3.0</td>\n",
       "    </tr>\n",
       "    <tr>\n",
       "      <td>1192</td>\n",
       "      <td>-0.000127</td>\n",
       "      <td>-0.000127</td>\n",
       "      <td>-0.000127</td>\n",
       "      <td>-0.000127</td>\n",
       "      <td>-0.000127</td>\n",
       "      <td>-0.000127</td>\n",
       "      <td>-0.000127</td>\n",
       "      <td>-0.000127</td>\n",
       "      <td>-0.000127</td>\n",
       "      <td>-0.000127</td>\n",
       "      <td>...</td>\n",
       "      <td>-0.000328</td>\n",
       "      <td>-0.000328</td>\n",
       "      <td>-0.000328</td>\n",
       "      <td>-0.000328</td>\n",
       "      <td>-0.000328</td>\n",
       "      <td>-0.000328</td>\n",
       "      <td>-0.000328</td>\n",
       "      <td>-0.000529</td>\n",
       "      <td>-0.000328</td>\n",
       "      <td>3.0</td>\n",
       "    </tr>\n",
       "    <tr>\n",
       "      <td>1193</td>\n",
       "      <td>-0.000277</td>\n",
       "      <td>-0.000277</td>\n",
       "      <td>-0.000277</td>\n",
       "      <td>-0.000277</td>\n",
       "      <td>-0.000277</td>\n",
       "      <td>-0.000277</td>\n",
       "      <td>-0.000277</td>\n",
       "      <td>-0.000277</td>\n",
       "      <td>-0.000156</td>\n",
       "      <td>-0.000277</td>\n",
       "      <td>...</td>\n",
       "      <td>-0.001483</td>\n",
       "      <td>-0.001483</td>\n",
       "      <td>-0.001483</td>\n",
       "      <td>-0.001483</td>\n",
       "      <td>-0.001362</td>\n",
       "      <td>-0.001362</td>\n",
       "      <td>-0.001362</td>\n",
       "      <td>-0.001483</td>\n",
       "      <td>-0.001483</td>\n",
       "      <td>3.0</td>\n",
       "    </tr>\n",
       "    <tr>\n",
       "      <td>1194</td>\n",
       "      <td>-0.000054</td>\n",
       "      <td>-0.000054</td>\n",
       "      <td>-0.000054</td>\n",
       "      <td>-0.000054</td>\n",
       "      <td>-0.000215</td>\n",
       "      <td>-0.000215</td>\n",
       "      <td>-0.000215</td>\n",
       "      <td>-0.000215</td>\n",
       "      <td>-0.000215</td>\n",
       "      <td>-0.000215</td>\n",
       "      <td>...</td>\n",
       "      <td>-0.001340</td>\n",
       "      <td>-0.001340</td>\n",
       "      <td>-0.001340</td>\n",
       "      <td>-0.001340</td>\n",
       "      <td>-0.001340</td>\n",
       "      <td>-0.001340</td>\n",
       "      <td>-0.001340</td>\n",
       "      <td>-0.001340</td>\n",
       "      <td>-0.001340</td>\n",
       "      <td>3.0</td>\n",
       "    </tr>\n",
       "    <tr>\n",
       "      <td>1195</td>\n",
       "      <td>-0.000385</td>\n",
       "      <td>-0.000385</td>\n",
       "      <td>-0.000385</td>\n",
       "      <td>-0.000546</td>\n",
       "      <td>-0.000546</td>\n",
       "      <td>-0.000546</td>\n",
       "      <td>-0.000385</td>\n",
       "      <td>-0.000385</td>\n",
       "      <td>-0.000385</td>\n",
       "      <td>-0.000385</td>\n",
       "      <td>...</td>\n",
       "      <td>-0.000546</td>\n",
       "      <td>-0.000385</td>\n",
       "      <td>-0.000385</td>\n",
       "      <td>-0.000385</td>\n",
       "      <td>-0.000546</td>\n",
       "      <td>-0.000385</td>\n",
       "      <td>-0.000385</td>\n",
       "      <td>-0.000385</td>\n",
       "      <td>-0.000385</td>\n",
       "      <td>3.0</td>\n",
       "    </tr>\n",
       "  </tbody>\n",
       "</table>\n",
       "<p>1196 rows × 15998 columns</p>\n",
       "</div>"
      ],
      "text/plain": [
       "             0         1         2         3         4         5         6  \\\n",
       "0    -0.000150 -0.000150 -0.000150 -0.000150 -0.000150 -0.000150 -0.000150   \n",
       "1    -0.000100 -0.000100 -0.000100 -0.000100 -0.000100 -0.000100 -0.000100   \n",
       "2    -0.000100 -0.000100 -0.000100 -0.000100 -0.000100 -0.000100 -0.000100   \n",
       "3    -0.000200 -0.000200 -0.000200 -0.000200 -0.000200 -0.000200 -0.000200   \n",
       "4    -0.000039 -0.000039 -0.000039 -0.000039 -0.000200 -0.000200 -0.000200   \n",
       "...        ...       ...       ...       ...       ...       ...       ...   \n",
       "1191 -0.000307 -0.000307 -0.000307 -0.000307 -0.000307 -0.000187 -0.000187   \n",
       "1192 -0.000127 -0.000127 -0.000127 -0.000127 -0.000127 -0.000127 -0.000127   \n",
       "1193 -0.000277 -0.000277 -0.000277 -0.000277 -0.000277 -0.000277 -0.000277   \n",
       "1194 -0.000054 -0.000054 -0.000054 -0.000054 -0.000215 -0.000215 -0.000215   \n",
       "1195 -0.000385 -0.000385 -0.000385 -0.000546 -0.000546 -0.000546 -0.000385   \n",
       "\n",
       "             7         8         9  ...     15988     15989     15990  \\\n",
       "0    -0.000150 -0.000150 -0.000150  ... -0.000391 -0.000391 -0.000391   \n",
       "1    -0.000100 -0.000100 -0.000100  ... -0.000422 -0.000422 -0.000422   \n",
       "2    -0.000100 -0.000100 -0.000100  ... -0.000582 -0.000743 -0.000743   \n",
       "3    -0.000200 -0.000200 -0.000200  ... -0.000200 -0.000200 -0.000200   \n",
       "4    -0.000200 -0.000200 -0.000200  ...  0.000282  0.000282  0.000282   \n",
       "...        ...       ...       ...  ...       ...       ...       ...   \n",
       "1191 -0.000066 -0.000066 -0.000066  ... -0.001152 -0.001152 -0.001152   \n",
       "1192 -0.000127 -0.000127 -0.000127  ... -0.000328 -0.000328 -0.000328   \n",
       "1193 -0.000277 -0.000156 -0.000277  ... -0.001483 -0.001483 -0.001483   \n",
       "1194 -0.000215 -0.000215 -0.000215  ... -0.001340 -0.001340 -0.001340   \n",
       "1195 -0.000385 -0.000385 -0.000385  ... -0.000546 -0.000385 -0.000385   \n",
       "\n",
       "         15991     15992     15993     15994     15995     15996  Desm  \n",
       "0    -0.000271 -0.000271 -0.000271 -0.000271 -0.000271 -0.000271   1.0  \n",
       "1    -0.000422 -0.000422 -0.000422 -0.000422 -0.000422 -0.000422   1.0  \n",
       "2    -0.000743 -0.000743 -0.000743 -0.000743 -0.000743 -0.000743   1.0  \n",
       "3    -0.000200 -0.000200 -0.000200 -0.000200 -0.000200 -0.000200   1.0  \n",
       "4     0.000282  0.000282  0.000282  0.000122  0.000282  0.000282   1.0  \n",
       "...        ...       ...       ...       ...       ...       ...   ...  \n",
       "1191 -0.001031 -0.001031 -0.001031 -0.001031 -0.001031 -0.001152   3.0  \n",
       "1192 -0.000328 -0.000328 -0.000328 -0.000328 -0.000529 -0.000328   3.0  \n",
       "1193 -0.001483 -0.001362 -0.001362 -0.001362 -0.001483 -0.001483   3.0  \n",
       "1194 -0.001340 -0.001340 -0.001340 -0.001340 -0.001340 -0.001340   3.0  \n",
       "1195 -0.000385 -0.000546 -0.000385 -0.000385 -0.000385 -0.000385   3.0  \n",
       "\n",
       "[1196 rows x 15998 columns]"
      ]
     },
     "execution_count": 4,
     "metadata": {},
     "output_type": "execute_result"
    }
   ],
   "source": [
    "result = pd.concat([ossos_df, classes_df], axis=1, sort=False)\n",
    "result"
   ]
  },
  {
   "cell_type": "code",
   "execution_count": 7,
   "metadata": {},
   "outputs": [],
   "source": [
    "from sklearn.model_selection import train_test_split\n",
    "from sklearn.linear_model import LogisticRegression\n",
    "from sklearn.metrics import classification_report,confusion_matrix\n",
    "from sklearn.neighbors import KNeighborsClassifier\n",
    "import matplotlib.pyplot as plt\n",
    "from sklearn.svm import SVC\n",
    "%matplotlib inline"
   ]
  },
  {
   "cell_type": "code",
   "execution_count": 375,
   "metadata": {},
   "outputs": [
    {
     "name": "stderr",
     "output_type": "stream",
     "text": [
      "c:\\users\\lucas\\appdata\\local\\programs\\python\\python36\\lib\\site-packages\\sklearn\\linear_model\\logistic.py:432: FutureWarning: Default solver will be changed to 'lbfgs' in 0.22. Specify a solver to silence this warning.\n",
      "  FutureWarning)\n",
      "c:\\users\\lucas\\appdata\\local\\programs\\python\\python36\\lib\\site-packages\\sklearn\\linear_model\\logistic.py:469: FutureWarning: Default multi_class will be changed to 'auto' in 0.22. Specify the multi_class option to silence this warning.\n",
      "  \"this warning.\", FutureWarning)\n"
     ]
    },
    {
     "name": "stdout",
     "output_type": "stream",
     "text": [
      "              precision    recall  f1-score   support\n",
      "\n",
      "         1.0       0.43      0.09      0.16        95\n",
      "         2.0       0.42      0.70      0.52       141\n",
      "         3.0       0.59      0.49      0.54       123\n",
      "\n",
      "    accuracy                           0.47       359\n",
      "   macro avg       0.48      0.43      0.40       359\n",
      "weighted avg       0.48      0.47      0.43       359\n",
      "\n"
     ]
    },
    {
     "data": {
      "text/plain": [
       "array([[ 9, 78,  8],\n",
       "       [ 9, 99, 33],\n",
       "       [ 3, 60, 60]], dtype=int64)"
      ]
     },
     "execution_count": 375,
     "metadata": {},
     "output_type": "execute_result"
    }
   ],
   "source": [
    "X = result.drop(['Desm'],axis=1)\n",
    "y = result['Desm']\n",
    "X_train, X_test, y_train, y_test = train_test_split(X, y, test_size=0.3)\n",
    "lr_model = LogisticRegression()\n",
    "lr_model.fit(X_train, y_train)\n",
    "pred_lr = lr_model.predict(X_test)\n",
    "print(classification_report(y_test, pred_lr))\n",
    "cm_lr= confusion_matrix(y_test, pred_lr)\n",
    "cm_lr\n"
   ]
  },
  {
   "cell_type": "code",
   "execution_count": 381,
   "metadata": {},
   "outputs": [
    {
     "name": "stdout",
     "output_type": "stream",
     "text": [
      "              precision    recall  f1-score   support\n",
      "\n",
      "         1.0       0.51      0.40      0.45        95\n",
      "         2.0       0.40      0.54      0.46       141\n",
      "         3.0       0.48      0.37      0.42       123\n",
      "\n",
      "    accuracy                           0.45       359\n",
      "   macro avg       0.46      0.44      0.44       359\n",
      "weighted avg       0.46      0.45      0.44       359\n",
      "\n"
     ]
    },
    {
     "data": {
      "text/plain": [
       "array([[38, 47, 10],\n",
       "       [25, 76, 40],\n",
       "       [12, 65, 46]], dtype=int64)"
      ]
     },
     "execution_count": 381,
     "metadata": {},
     "output_type": "execute_result"
    }
   ],
   "source": [
    "knn = KNeighborsClassifier(n_neighbors=5)\n",
    "knn.fit(X_train,y_train)\n",
    "pred_knn = knn.predict(X_test)\n",
    "print(classification_report(y_test, pred_knn))\n",
    "cm_knn= confusion_matrix(y_test, pred_knn)\n",
    "cm_knn"
   ]
  },
  {
   "cell_type": "code",
   "execution_count": null,
   "metadata": {},
   "outputs": [],
   "source": [
    "error_rate = []\n",
    "\n",
    "# Levará algum tempo\n",
    "for i in range(1,40):\n",
    "    \n",
    "    knn = KNeighborsClassifier(n_neighbors=i)\n",
    "    knn.fit(X_train,y_train)\n",
    "    pred_i = knn.predict(X_test)\n",
    "    error_rate.append(np.mean(pred_i != y_test))\n",
    "\n",
    "plt.figure(figsize=(10,6))\n",
    "plt.plot(range(1,40),error_rate,color='blue', linestyle='dashed', marker='o',markerfacecolor='red', markersize=10)\n",
    "plt.title('Error Rate vs. K Value')\n",
    "plt.xlabel('K')\n",
    "plt.ylabel('Error Rate')"
   ]
  },
  {
   "cell_type": "code",
   "execution_count": 194,
   "metadata": {},
   "outputs": [],
   "source": [
    "X_train=list(X_train)\n",
    "y_train=list(y_train)"
   ]
  },
  {
   "cell_type": "code",
   "execution_count": 195,
   "metadata": {},
   "outputs": [
    {
     "data": {
      "text/plain": [
       "KNeighborsClassifier(algorithm='auto', leaf_size=30, metric='minkowski',\n",
       "                     metric_params=None, n_jobs=None, n_neighbors=5, p=2,\n",
       "                     weights='uniform')"
      ]
     },
     "execution_count": 195,
     "metadata": {},
     "output_type": "execute_result"
    }
   ],
   "source": [
    "neigh = KNeighborsClassifier(algorithm='auto')\n",
    "neigh.fit(X_train,y_train)"
   ]
  },
  {
   "cell_type": "code",
   "execution_count": 189,
   "metadata": {},
   "outputs": [
    {
     "data": {
      "text/plain": [
       "1128    [-0.000175, -0.000175, -0.000175, -0.000175, -...\n",
       "165     [-5e-05, -5e-05, -5e-05, -5e-05, -5e-05, -5e-0...\n",
       "746     [-0.000169221, -0.000169221, -0.000169221, -0....\n",
       "385     [0.000166206, -7.5e-05, -7.5e-05, -7.5e-05, -7...\n",
       "865     [-0.000321608, 0.0, 0.0, 0.0, 0.0, 0.0, -0.000...\n",
       "                              ...                        \n",
       "793     [-1.809e-05, -1.809e-05, -1.809e-05, -1.809e-0...\n",
       "117     [-0.00015201, -0.00015201, -0.00015201, -0.000...\n",
       "544     [0.000217588, 0.000217588, 0.000217588, 0.0002...\n",
       "222     [0.0, 0.0, 0.0, 0.0, 0.0, 0.0, 0.0, 0.0, 0.0, ...\n",
       "1116    [0.0, 0.0, 0.0, -0.00040201, -0.00040201, 0.0,...\n",
       "Name: Sinais, Length: 359, dtype: object"
      ]
     },
     "execution_count": 189,
     "metadata": {},
     "output_type": "execute_result"
    }
   ],
   "source": [
    "print(classification_report(y_test, predictions))\n"
   ]
  },
  {
   "cell_type": "code",
   "execution_count": 196,
   "metadata": {},
   "outputs": [
    {
     "data": {
      "text/plain": [
       "array([-0.00020678, -0.00020678, -0.00036759, ...,  0.00124045,\n",
       "        0.00124045,  0.00107965])"
      ]
     },
     "execution_count": 196,
     "metadata": {},
     "output_type": "execute_result"
    }
   ],
   "source": [
    "ossos_df.iloc[713,0]"
   ]
  },
  {
   "cell_type": "code",
   "execution_count": 1,
   "metadata": {},
   "outputs": [
    {
     "ename": "NameError",
     "evalue": "name 'neigh' is not defined",
     "output_type": "error",
     "traceback": [
      "\u001b[1;31m---------------------------------------------------------------------------\u001b[0m",
      "\u001b[1;31mNameError\u001b[0m                                 Traceback (most recent call last)",
      "\u001b[1;32m<ipython-input-1-affecf43d13b>\u001b[0m in \u001b[0;36m<module>\u001b[1;34m\u001b[0m\n\u001b[1;32m----> 1\u001b[1;33m \u001b[0mneigh\u001b[0m\u001b[1;33m.\u001b[0m\u001b[0mpredict_proba\u001b[0m\u001b[1;33m(\u001b[0m\u001b[1;33m[\u001b[0m\u001b[0mossos_df\u001b[0m\u001b[1;33m.\u001b[0m\u001b[0miloc\u001b[0m\u001b[1;33m[\u001b[0m\u001b[1;36m713\u001b[0m\u001b[1;33m,\u001b[0m\u001b[1;36m0\u001b[0m\u001b[1;33m]\u001b[0m\u001b[1;33m]\u001b[0m\u001b[1;33m)\u001b[0m\u001b[1;33m\u001b[0m\u001b[1;33m\u001b[0m\u001b[0m\n\u001b[0m",
      "\u001b[1;31mNameError\u001b[0m: name 'neigh' is not defined"
     ]
    }
   ],
   "source": [
    "neigh.predict_proba([ossos_df.iloc[713,0]])"
   ]
  },
  {
   "cell_type": "code",
   "execution_count": 23,
   "metadata": {},
   "outputs": [
    {
     "name": "stdout",
     "output_type": "stream",
     "text": [
      "              precision    recall  f1-score   support\n",
      "\n",
      "         1.0       1.00      1.00      1.00        99\n",
      "         2.0       0.98      0.98      0.98       129\n",
      "         3.0       0.98      0.98      0.98       131\n",
      "\n",
      "    accuracy                           0.99       359\n",
      "   macro avg       0.99      0.99      0.99       359\n",
      "weighted avg       0.99      0.99      0.99       359\n",
      "\n"
     ]
    },
    {
     "data": {
      "text/plain": [
       "array([[ 99,   0,   0],\n",
       "       [  0, 127,   2],\n",
       "       [  0,   2, 129]], dtype=int64)"
      ]
     },
     "execution_count": 23,
     "metadata": {},
     "output_type": "execute_result"
    }
   ],
   "source": [
    "clf = SVC(gamma='scale', decision_function_shape='ovo',C=100)\n",
    "X = result.drop(['Desm'],axis=1)\n",
    "y = result['Desm']\n",
    "clf.fit(X,y) \n",
    "pred_clf = clf.predict(X_test)\n",
    "print(classification_report(y_test, pred_clf))\n",
    "cm_clf= confusion_matrix(y_test, pred_clf)\n",
    "cm_clf"
   ]
  },
  {
   "cell_type": "code",
   "execution_count": 17,
   "metadata": {},
   "outputs": [
    {
     "data": {
      "text/plain": [
       "array([[40, 50,  9],\n",
       "       [14, 80, 35],\n",
       "       [ 7, 53, 71]], dtype=int64)"
      ]
     },
     "execution_count": 17,
     "metadata": {},
     "output_type": "execute_result"
    }
   ],
   "source": [
    "cm_clf"
   ]
  },
  {
   "cell_type": "code",
   "execution_count": null,
   "metadata": {},
   "outputs": [],
   "source": [
    "SVC(C=1.0, cache_size=200, class_weight=None, coef0=0.0,\n",
    "    decision_function_shape='ovo', degree=3, gamma='scale', kernel='rbf',\n",
    "    max_iter=-1, probability=False, random_state=None, shrinking=True,\n",
    "    tol=0.001, verbose=False)\n",
    "dec = clf.decision_function([[1.0]])\n",
    "clf.decision_function_shape = \"ovr\"\n",
    "dec = clf.decision_function([[1.0]])\n",
    "dec"
   ]
  }
 ],
 "metadata": {
  "kernelspec": {
   "display_name": "Python 3",
   "language": "python",
   "name": "python3"
  },
  "language_info": {
   "codemirror_mode": {
    "name": "ipython",
    "version": 3
   },
   "file_extension": ".py",
   "mimetype": "text/x-python",
   "name": "python",
   "nbconvert_exporter": "python",
   "pygments_lexer": "ipython3",
   "version": "3.6.7"
  }
 },
 "nbformat": 4,
 "nbformat_minor": 2
}
