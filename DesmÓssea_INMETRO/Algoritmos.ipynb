{
 "cells": [
  {
   "cell_type": "code",
   "execution_count": 49,
   "metadata": {},
   "outputs": [],
   "source": [
    "import pandas as pd\n",
    "import os\n",
    "import numpy as np\n",
    "from sklearn.preprocessing import power_transform\n",
    "from sklearn.model_selection import train_test_split\n",
    "from sklearn.linear_model import LogisticRegression\n",
    "from sklearn.metrics import classification_report,confusion_matrix\n",
    "from sklearn.neighbors import KNeighborsClassifier\n",
    "import matplotlib.pyplot as plt\n",
    "from sklearn.svm import SVC\n",
    "%matplotlib inline\n",
    "\n",
    "def merge(list1, list2): \n",
    "      \n",
    "    merged_list = [(list1[i], list2[i]) for i in range(0, len(list2))] \n",
    "    return merged_list \n",
    "def demerge(merged_list):\n",
    "    list1 = [merged_list[i][0] for i in range(len(merged_list))]\n",
    "    list2 = [merged_list[i][1] for i in range(len(merged_list))]\n",
    "    \n",
    "    return list1,list2\n",
    "\n",
    "    \n",
    "# Lista de arquivos ossos original (sem desmineralização)\n",
    "lista_arq_ossos=os.listdir('Dados/original/')\n",
    "# Lista de arquivos ossos desmineralização 1\n",
    "lista_arq_desm1=os.listdir('Dados/desm1/')\n",
    "# Lista de arquivos ossos desmineralização 2\n",
    "lista_arq_desm2=os.listdir('Dados/desm2/')\n",
    "# Lista de arquivos ossos desmineralização 3\n",
    "lista_arq_desm3=os.listdir('Dados/desm3/')\n",
    "\n",
    "# Quantidade total de sinais\n",
    "total_signal = len(lista_arq_ossos)+len(lista_arq_desm1)+len(lista_arq_desm2)+len(lista_arq_desm3)+1\n",
    "\n",
    "# Matriz zerada para comportar todos os sinais\n",
    "ossos = np.zeros((total_signal,15997))\n",
    "# Matriz zerada para comportar todas as classes\n",
    "classes = np.zeros((total_signal))\n",
    "\n",
    "data_len = 15999\n",
    "\n",
    "time = []\n",
    "for i in range(1,16001):\n",
    "    time.append(i*2e-8)\n",
    "    \n",
    "# Lendo os sinais de ossos sem desmineralização\n",
    "i=0\n",
    "# Lendo os sinais de ossos desmineralização 1\n",
    "for nome2 in lista_arq_desm1:\n",
    "\tarq = open('Dados/desm1/'+nome2,'r')\n",
    "\tdata = arq.readlines()\n",
    "\tdata = [float(x) for x in data]\n",
    "\tdata = data [2:data_len]\n",
    "\tsignal = merge(time,data)\n",
    "\tsignal_spectral = power_transform(signal,method='yeo-johnson')\n",
    "\tossos[i,:]= demerge(signal_spectral)[0]\n",
    "#\tclasses[i,:] = [0., 1., 0., 0.]\n",
    "\tclasses[i] = 1\n",
    "\ti+=1\n",
    "\tdata=0\n",
    "\tarq.close()\n",
    "\n",
    "# Lendo os sinais de ossos desmineralização 2\n",
    "for nome3 in lista_arq_desm2:\n",
    "\tarq = open('Dados/desm2/'+nome3,'r')\n",
    "\tdata = arq.readlines()\n",
    "\tdata = [float(x) for x in data]\n",
    "\tdata = data [2:data_len]\n",
    "\tsignal = merge(time,data)\n",
    "\tsignal_spectral = power_transform(signal,method='yeo-johnson')\n",
    "\tossos[i,:]= demerge(signal_spectral)[0]\n",
    "#\tclasses[i,:] = [0., 0., 1., 0.]\n",
    "\tclasses[i] = 2\n",
    "\ti+=1\n",
    "\tdata=0\n",
    "\tarq.close()\n",
    "\n",
    "# Lendo os sinais de ossos desmineralização 3\n",
    "for nome4 in lista_arq_desm3:\n",
    "\tarq = open('Dados/desm3/'+nome4,'r')\n",
    "\tdata = arq.readlines()\n",
    "\tdata = [float(x) for x in data]\n",
    "\tdata = data [2:data_len]\n",
    "\tsignal = merge(time,data)\n",
    "\tsignal_spectral = power_transform(signal,method=\"yeo-johnson\")\n",
    "\tossos[i,:]= demerge(signal_spectral)[0]\n",
    "#\tclasses[i,:] = [0., 0., 0., 1.]\n",
    "\tclasses[i] = 3\n",
    "\ti+=1\n",
    "\tdata=0\n",
    "\tarq.close()\n",
    "\n",
    "ossos = ossos[0:i,:]\n",
    "classes = classes[0:i]"
   ]
  },
  {
   "cell_type": "code",
   "execution_count": 46,
   "metadata": {},
   "outputs": [
    {
     "data": {
      "text/plain": [
       "<matplotlib.axes._subplots.AxesSubplot at 0x1334d259ba8>"
      ]
     },
     "execution_count": 46,
     "metadata": {},
     "output_type": "execute_result"
    },
    {
     "data": {
      "image/png": "[encoded data removed]",
      "text/plain": [
       "<Figure size 432x288 with 1 Axes>"
      ]
     },
     "metadata": {
      "needs_background": "light"
     },
     "output_type": "display_data"
    }
   ],
   "source": [
    "ossos_df.iloc[0,:].plot()"
   ]
  },
  {
   "cell_type": "code",
   "execution_count": 45,
   "metadata": {
    "scrolled": true
   },
   "outputs": [
    {
     "data": {
      "text/html": [
       "<div>\n",
       "<style scoped>\n",
       "    .dataframe tbody tr th:only-of-type {\n",
       "        vertical-align: middle;\n",
       "    }\n",
       "\n",
       "    .dataframe tbody tr th {\n",
       "        vertical-align: top;\n",
       "    }\n",
       "\n",
       "    .dataframe thead th {\n",
       "        text-align: right;\n",
       "    }\n",
       "</style>\n",
       "<table border=\"1\" class=\"dataframe\">\n",
       "  <thead>\n",
       "    <tr style=\"text-align: right;\">\n",
       "      <th></th>\n",
       "      <th>0</th>\n",
       "      <th>1</th>\n",
       "      <th>2</th>\n",
       "      <th>3</th>\n",
       "      <th>4</th>\n",
       "      <th>5</th>\n",
       "      <th>6</th>\n",
       "      <th>7</th>\n",
       "      <th>8</th>\n",
       "      <th>9</th>\n",
       "      <th>...</th>\n",
       "      <th>15987</th>\n",
       "      <th>15988</th>\n",
       "      <th>15989</th>\n",
       "      <th>15990</th>\n",
       "      <th>15991</th>\n",
       "      <th>15992</th>\n",
       "      <th>15993</th>\n",
       "      <th>15994</th>\n",
       "      <th>15995</th>\n",
       "      <th>15996</th>\n",
       "    </tr>\n",
       "  </thead>\n",
       "  <tbody>\n",
       "    <tr>\n",
       "      <td>0</td>\n",
       "      <td>-0.050592</td>\n",
       "      <td>-0.050592</td>\n",
       "      <td>-0.050592</td>\n",
       "      <td>-0.050592</td>\n",
       "      <td>-0.050592</td>\n",
       "      <td>-0.050592</td>\n",
       "      <td>-0.050592</td>\n",
       "      <td>-0.050592</td>\n",
       "      <td>-0.050592</td>\n",
       "      <td>-0.050592</td>\n",
       "      <td>...</td>\n",
       "      <td>-0.206788</td>\n",
       "      <td>-0.206788</td>\n",
       "      <td>-0.206788</td>\n",
       "      <td>-0.206788</td>\n",
       "      <td>-0.128690</td>\n",
       "      <td>-0.128690</td>\n",
       "      <td>-0.128690</td>\n",
       "      <td>-0.128690</td>\n",
       "      <td>-0.128690</td>\n",
       "      <td>-0.128690</td>\n",
       "    </tr>\n",
       "    <tr>\n",
       "      <td>1</td>\n",
       "      <td>-0.034400</td>\n",
       "      <td>-0.034400</td>\n",
       "      <td>-0.034400</td>\n",
       "      <td>-0.034400</td>\n",
       "      <td>-0.034400</td>\n",
       "      <td>-0.034400</td>\n",
       "      <td>-0.034400</td>\n",
       "      <td>-0.034400</td>\n",
       "      <td>-0.034400</td>\n",
       "      <td>-0.034400</td>\n",
       "      <td>...</td>\n",
       "      <td>-0.427776</td>\n",
       "      <td>-0.427776</td>\n",
       "      <td>-0.427776</td>\n",
       "      <td>-0.427776</td>\n",
       "      <td>-0.427776</td>\n",
       "      <td>-0.427776</td>\n",
       "      <td>-0.427776</td>\n",
       "      <td>-0.427776</td>\n",
       "      <td>-0.427776</td>\n",
       "      <td>-0.427776</td>\n",
       "    </tr>\n",
       "    <tr>\n",
       "      <td>2</td>\n",
       "      <td>0.002010</td>\n",
       "      <td>0.002010</td>\n",
       "      <td>0.002010</td>\n",
       "      <td>0.002010</td>\n",
       "      <td>0.002010</td>\n",
       "      <td>0.002010</td>\n",
       "      <td>0.002010</td>\n",
       "      <td>0.002010</td>\n",
       "      <td>0.002010</td>\n",
       "      <td>0.002010</td>\n",
       "      <td>...</td>\n",
       "      <td>-0.589580</td>\n",
       "      <td>-0.589580</td>\n",
       "      <td>-0.790956</td>\n",
       "      <td>-0.790956</td>\n",
       "      <td>-0.790956</td>\n",
       "      <td>-0.790956</td>\n",
       "      <td>-0.790956</td>\n",
       "      <td>-0.790956</td>\n",
       "      <td>-0.790956</td>\n",
       "      <td>-0.790956</td>\n",
       "    </tr>\n",
       "    <tr>\n",
       "      <td>3</td>\n",
       "      <td>-0.077598</td>\n",
       "      <td>-0.077598</td>\n",
       "      <td>-0.077598</td>\n",
       "      <td>-0.077598</td>\n",
       "      <td>-0.077598</td>\n",
       "      <td>-0.077598</td>\n",
       "      <td>-0.077598</td>\n",
       "      <td>-0.077598</td>\n",
       "      <td>-0.077598</td>\n",
       "      <td>-0.077598</td>\n",
       "      <td>...</td>\n",
       "      <td>-0.077598</td>\n",
       "      <td>-0.077598</td>\n",
       "      <td>-0.077598</td>\n",
       "      <td>-0.077598</td>\n",
       "      <td>-0.077598</td>\n",
       "      <td>-0.077598</td>\n",
       "      <td>-0.077598</td>\n",
       "      <td>-0.077598</td>\n",
       "      <td>-0.077598</td>\n",
       "      <td>-0.077598</td>\n",
       "    </tr>\n",
       "    <tr>\n",
       "      <td>4</td>\n",
       "      <td>0.061340</td>\n",
       "      <td>0.061340</td>\n",
       "      <td>0.061340</td>\n",
       "      <td>0.061340</td>\n",
       "      <td>-0.050047</td>\n",
       "      <td>-0.050047</td>\n",
       "      <td>-0.050047</td>\n",
       "      <td>-0.050047</td>\n",
       "      <td>-0.050047</td>\n",
       "      <td>-0.050047</td>\n",
       "      <td>...</td>\n",
       "      <td>0.283076</td>\n",
       "      <td>0.283076</td>\n",
       "      <td>0.283076</td>\n",
       "      <td>0.283076</td>\n",
       "      <td>0.283076</td>\n",
       "      <td>0.283076</td>\n",
       "      <td>0.283076</td>\n",
       "      <td>0.172381</td>\n",
       "      <td>0.283076</td>\n",
       "      <td>0.283076</td>\n",
       "    </tr>\n",
       "  </tbody>\n",
       "</table>\n",
       "<p>5 rows × 15997 columns</p>\n",
       "</div>"
      ],
      "text/plain": [
       "      0         1         2         3         4         5         6      \\\n",
       "0 -0.050592 -0.050592 -0.050592 -0.050592 -0.050592 -0.050592 -0.050592   \n",
       "1 -0.034400 -0.034400 -0.034400 -0.034400 -0.034400 -0.034400 -0.034400   \n",
       "2  0.002010  0.002010  0.002010  0.002010  0.002010  0.002010  0.002010   \n",
       "3 -0.077598 -0.077598 -0.077598 -0.077598 -0.077598 -0.077598 -0.077598   \n",
       "4  0.061340  0.061340  0.061340  0.061340 -0.050047 -0.050047 -0.050047   \n",
       "\n",
       "      7         8         9      ...     15987     15988     15989     15990  \\\n",
       "0 -0.050592 -0.050592 -0.050592  ... -0.206788 -0.206788 -0.206788 -0.206788   \n",
       "1 -0.034400 -0.034400 -0.034400  ... -0.427776 -0.427776 -0.427776 -0.427776   \n",
       "2  0.002010  0.002010  0.002010  ... -0.589580 -0.589580 -0.790956 -0.790956   \n",
       "3 -0.077598 -0.077598 -0.077598  ... -0.077598 -0.077598 -0.077598 -0.077598   \n",
       "4 -0.050047 -0.050047 -0.050047  ...  0.283076  0.283076  0.283076  0.283076   \n",
       "\n",
       "      15991     15992     15993     15994     15995     15996  \n",
       "0 -0.128690 -0.128690 -0.128690 -0.128690 -0.128690 -0.128690  \n",
       "1 -0.427776 -0.427776 -0.427776 -0.427776 -0.427776 -0.427776  \n",
       "2 -0.790956 -0.790956 -0.790956 -0.790956 -0.790956 -0.790956  \n",
       "3 -0.077598 -0.077598 -0.077598 -0.077598 -0.077598 -0.077598  \n",
       "4  0.283076  0.283076  0.283076  0.172381  0.283076  0.283076  \n",
       "\n",
       "[5 rows x 15997 columns]"
      ]
     },
     "execution_count": 45,
     "metadata": {},
     "output_type": "execute_result"
    }
   ],
   "source": [
    "ossos_df = pd.DataFrame(ossos)\n",
    "classes_df= pd.DataFrame(classes)\n",
    "classes_df['Desm'] = classes_df[0]\n",
    "classes_df = classes_df.drop(0,axis=1)\n",
    "ossos_df.head()"
   ]
  },
  {
   "cell_type": "code",
   "execution_count": 2,
   "metadata": {},
   "outputs": [
    {
     "ename": "NameError",
     "evalue": "name 'pd' is not defined",
     "output_type": "error",
     "traceback": [
      "\u001b[1;31m---------------------------------------------------------------------------\u001b[0m",
      "\u001b[1;31mNameError\u001b[0m                                 Traceback (most recent call last)",
      "\u001b[1;32m<ipython-input-2-5dc0d9302ecd>\u001b[0m in \u001b[0;36m<module>\u001b[1;34m\u001b[0m\n\u001b[1;32m----> 1\u001b[1;33m \u001b[0mresult\u001b[0m \u001b[1;33m=\u001b[0m \u001b[0mpd\u001b[0m\u001b[1;33m.\u001b[0m\u001b[0mconcat\u001b[0m\u001b[1;33m(\u001b[0m\u001b[1;33m[\u001b[0m\u001b[0mossos_df\u001b[0m\u001b[1;33m,\u001b[0m \u001b[0mclasses_df\u001b[0m\u001b[1;33m]\u001b[0m\u001b[1;33m,\u001b[0m \u001b[0maxis\u001b[0m\u001b[1;33m=\u001b[0m\u001b[1;36m1\u001b[0m\u001b[1;33m,\u001b[0m \u001b[0msort\u001b[0m\u001b[1;33m=\u001b[0m\u001b[1;32mFalse\u001b[0m\u001b[1;33m)\u001b[0m\u001b[1;33m\u001b[0m\u001b[1;33m\u001b[0m\u001b[0m\n\u001b[0m\u001b[0;32m      2\u001b[0m \u001b[0mresult\u001b[0m\u001b[1;33m.\u001b[0m\u001b[0mhead\u001b[0m\u001b[1;33m(\u001b[0m\u001b[1;33m)\u001b[0m\u001b[1;33m\u001b[0m\u001b[1;33m\u001b[0m\u001b[0m\n",
      "\u001b[1;31mNameError\u001b[0m: name 'pd' is not defined"
     ]
    }
   ],
   "source": [
    "result = pd.concat([ossos_df, classes_df], axis=1, sort=False)\n",
    "result.head()"
   ]
  },
  {
   "cell_type": "code",
   "execution_count": 375,
   "metadata": {},
   "outputs": [
    {
     "name": "stderr",
     "output_type": "stream",
     "text": [
      "c:\\users\\lucas\\appdata\\local\\programs\\python\\python36\\lib\\site-packages\\sklearn\\linear_model\\logistic.py:432: FutureWarning: Default solver will be changed to 'lbfgs' in 0.22. Specify a solver to silence this warning.\n",
      "  FutureWarning)\n",
      "c:\\users\\lucas\\appdata\\local\\programs\\python\\python36\\lib\\site-packages\\sklearn\\linear_model\\logistic.py:469: FutureWarning: Default multi_class will be changed to 'auto' in 0.22. Specify the multi_class option to silence this warning.\n",
      "  \"this warning.\", FutureWarning)\n"
     ]
    },
    {
     "name": "stdout",
     "output_type": "stream",
     "text": [
      "              precision    recall  f1-score   support\n",
      "\n",
      "         1.0       0.43      0.09      0.16        95\n",
      "         2.0       0.42      0.70      0.52       141\n",
      "         3.0       0.59      0.49      0.54       123\n",
      "\n",
      "    accuracy                           0.47       359\n",
      "   macro avg       0.48      0.43      0.40       359\n",
      "weighted avg       0.48      0.47      0.43       359\n",
      "\n"
     ]
    },
    {
     "data": {
      "text/plain": [
       "array([[ 9, 78,  8],\n",
       "       [ 9, 99, 33],\n",
       "       [ 3, 60, 60]], dtype=int64)"
      ]
     },
     "execution_count": 375,
     "metadata": {},
     "output_type": "execute_result"
    }
   ],
   "source": [
    "X = result.drop(['Desm'],axis=1)\n",
    "y = result['Desm']\n",
    "X_train, X_test, y_train, y_test = train_test_split(X, y, test_size=0.3)\n",
    "lr_model = LogisticRegression()\n",
    "lr_model.fit(X_train, y_train)\n",
    "pred_lr = lr_model.predict(X_test)\n",
    "print(classification_report(y_test, pred_lr))\n",
    "cm_lr= confusion_matrix(y_test, pred_lr)\n",
    "cm_lr\n"
   ]
  },
  {
   "cell_type": "code",
   "execution_count": 381,
   "metadata": {},
   "outputs": [
    {
     "name": "stdout",
     "output_type": "stream",
     "text": [
      "              precision    recall  f1-score   support\n",
      "\n",
      "         1.0       0.51      0.40      0.45        95\n",
      "         2.0       0.40      0.54      0.46       141\n",
      "         3.0       0.48      0.37      0.42       123\n",
      "\n",
      "    accuracy                           0.45       359\n",
      "   macro avg       0.46      0.44      0.44       359\n",
      "weighted avg       0.46      0.45      0.44       359\n",
      "\n"
     ]
    },
    {
     "data": {
      "text/plain": [
       "array([[38, 47, 10],\n",
       "       [25, 76, 40],\n",
       "       [12, 65, 46]], dtype=int64)"
      ]
     },
     "execution_count": 381,
     "metadata": {},
     "output_type": "execute_result"
    }
   ],
   "source": [
    "knn = KNeighborsClassifier(n_neighbors=5)\n",
    "knn.fit(X_train,y_train)\n",
    "pred_knn = knn.predict(X_test)\n",
    "print(classification_report(y_test, pred_knn))\n",
    "cm_knn= confusion_matrix(y_test, pred_knn)\n",
    "cm_knn"
   ]
  },
  {
   "cell_type": "code",
   "execution_count": null,
   "metadata": {},
   "outputs": [],
   "source": [
    "error_rate = []\n",
    "\n",
    "# Levará algum tempo\n",
    "for i in range(1,40):\n",
    "    \n",
    "    knn = KNeighborsClassifier(n_neighbors=i)\n",
    "    knn.fit(X_train,y_train)\n",
    "    pred_i = knn.predict(X_test)\n",
    "    error_rate.append(np.mean(pred_i != y_test))\n",
    "\n",
    "plt.figure(figsize=(10,6))\n",
    "plt.plot(range(1,40),error_rate,color='blue', linestyle='dashed', marker='o',markerfacecolor='red', markersize=10)\n",
    "plt.title('Error Rate vs. K Value')\n",
    "plt.xlabel('K')\n",
    "plt.ylabel('Error Rate')"
   ]
  },
  {
   "cell_type": "code",
   "execution_count": 194,
   "metadata": {},
   "outputs": [],
   "source": [
    "X_train=list(X_train)\n",
    "y_train=list(y_train)"
   ]
  },
  {
   "cell_type": "code",
   "execution_count": 195,
   "metadata": {},
   "outputs": [
    {
     "data": {
      "text/plain": [
       "KNeighborsClassifier(algorithm='auto', leaf_size=30, metric='minkowski',\n",
       "                     metric_params=None, n_jobs=None, n_neighbors=5, p=2,\n",
       "                     weights='uniform')"
      ]
     },
     "execution_count": 195,
     "metadata": {},
     "output_type": "execute_result"
    }
   ],
   "source": [
    "neigh = KNeighborsClassifier(algorithm='auto')\n",
    "neigh.fit(X_train,y_train)"
   ]
  },
  {
   "cell_type": "code",
   "execution_count": 189,
   "metadata": {},
   "outputs": [
    {
     "data": {
      "text/plain": [
       "1128    [-0.000175, -0.000175, -0.000175, -0.000175, -...\n",
       "165     [-5e-05, -5e-05, -5e-05, -5e-05, -5e-05, -5e-0...\n",
       "746     [-0.000169221, -0.000169221, -0.000169221, -0....\n",
       "385     [0.000166206, -7.5e-05, -7.5e-05, -7.5e-05, -7...\n",
       "865     [-0.000321608, 0.0, 0.0, 0.0, 0.0, 0.0, -0.000...\n",
       "                              ...                        \n",
       "793     [-1.809e-05, -1.809e-05, -1.809e-05, -1.809e-0...\n",
       "117     [-0.00015201, -0.00015201, -0.00015201, -0.000...\n",
       "544     [0.000217588, 0.000217588, 0.000217588, 0.0002...\n",
       "222     [0.0, 0.0, 0.0, 0.0, 0.0, 0.0, 0.0, 0.0, 0.0, ...\n",
       "1116    [0.0, 0.0, 0.0, -0.00040201, -0.00040201, 0.0,...\n",
       "Name: Sinais, Length: 359, dtype: object"
      ]
     },
     "execution_count": 189,
     "metadata": {},
     "output_type": "execute_result"
    }
   ],
   "source": [
    "print(classification_report(y_test, predictions))\n"
   ]
  },
  {
   "cell_type": "code",
   "execution_count": 196,
   "metadata": {},
   "outputs": [
    {
     "data": {
      "text/plain": [
       "array([-0.00020678, -0.00020678, -0.00036759, ...,  0.00124045,\n",
       "        0.00124045,  0.00107965])"
      ]
     },
     "execution_count": 196,
     "metadata": {},
     "output_type": "execute_result"
    }
   ],
   "source": [
    "ossos_df.iloc[713,0]"
   ]
  },
  {
   "cell_type": "code",
   "execution_count": 1,
   "metadata": {},
   "outputs": [
    {
     "ename": "NameError",
     "evalue": "name 'neigh' is not defined",
     "output_type": "error",
     "traceback": [
      "\u001b[1;31m---------------------------------------------------------------------------\u001b[0m",
      "\u001b[1;31mNameError\u001b[0m                                 Traceback (most recent call last)",
      "\u001b[1;32m<ipython-input-1-affecf43d13b>\u001b[0m in \u001b[0;36m<module>\u001b[1;34m\u001b[0m\n\u001b[1;32m----> 1\u001b[1;33m \u001b[0mneigh\u001b[0m\u001b[1;33m.\u001b[0m\u001b[0mpredict_proba\u001b[0m\u001b[1;33m(\u001b[0m\u001b[1;33m[\u001b[0m\u001b[0mossos_df\u001b[0m\u001b[1;33m.\u001b[0m\u001b[0miloc\u001b[0m\u001b[1;33m[\u001b[0m\u001b[1;36m713\u001b[0m\u001b[1;33m,\u001b[0m\u001b[1;36m0\u001b[0m\u001b[1;33m]\u001b[0m\u001b[1;33m]\u001b[0m\u001b[1;33m)\u001b[0m\u001b[1;33m\u001b[0m\u001b[1;33m\u001b[0m\u001b[0m\n\u001b[0m",
      "\u001b[1;31mNameError\u001b[0m: name 'neigh' is not defined"
     ]
    }
   ],
   "source": [
    "neigh.predict_proba([ossos_df.iloc[713,0]])"
   ]
  },
  {
   "cell_type": "code",
   "execution_count": 49,
   "metadata": {},
   "outputs": [
    {
     "name": "stdout",
     "output_type": "stream",
     "text": [
      "              precision    recall  f1-score   support\n",
      "\n",
      "         1.0       0.43      0.60      0.51        81\n",
      "         2.0       0.48      0.54      0.51       130\n",
      "         3.0       0.73      0.49      0.58       148\n",
      "\n",
      "    accuracy                           0.53       359\n",
      "   macro avg       0.55      0.54      0.53       359\n",
      "weighted avg       0.57      0.53      0.54       359\n",
      "\n",
      "[[49 29  3]\n",
      " [36 70 24]\n",
      " [28 48 72]]\n"
     ]
    }
   ],
   "source": [
    "clf = SVC(gamma = 'scale',decision_function_shape='ovo')\n",
    "X = result.drop(['Desm'],axis=1)\n",
    "y = result['Desm']\n",
    "X_train, X_test, y_train, y_test = train_test_split(X, y, test_size=0.3)\n",
    "clf.fit(X_train,y_train) \n",
    "pred_clf = clf.predict(X_test)\n",
    "print(classification_report(y_test, pred_clf))\n",
    "cm_clf= confusion_matrix(y_test, pred_clf)\n",
    "print(cm_clf)"
   ]
  }
 ],
 "metadata": {
  "kernelspec": {
   "display_name": "Python 3",
   "language": "python",
   "name": "python3"
  },
  "language_info": {
   "codemirror_mode": {
    "name": "ipython",
    "version": 3
   },
   "file_extension": ".py",
   "mimetype": "text/x-python",
   "name": "python",
   "nbconvert_exporter": "python",
   "pygments_lexer": "ipython3",
   "version": "3.6.0"
  }
 },
 "nbformat": 4,
 "nbformat_minor": 2
}
