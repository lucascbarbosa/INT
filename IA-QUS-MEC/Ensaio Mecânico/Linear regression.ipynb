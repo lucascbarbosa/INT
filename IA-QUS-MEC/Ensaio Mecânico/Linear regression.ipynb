{
 "cells": [
  {
   "cell_type": "code",
   "execution_count": 1,
   "metadata": {},
   "outputs": [],
   "source": [
    "import pandas as pd\n",
    "import numpy as np\n",
    "import seaborn as sns\n",
    "import matplotlib.pyplot as plt\n",
    "from mpl_toolkits.mplot3d import Axes3D\n",
    "import os\n",
    "from sklearn.model_selection import train_test_split\n",
    "from sklearn.linear_model import LinearRegression\n",
    "from sklearn.metrics import classification_report,confusion_matrix\n"
   ]
  },
  {
   "cell_type": "code",
   "execution_count": 2,
   "metadata": {},
   "outputs": [
    {
     "data": {
      "text/plain": [
       "[{'Time': '50.93800',\n",
       "  'Extension': '2.12342',\n",
       "  'Load': '7.47733',\n",
       "  'Tensile strain': '8.49369',\n",
       "  'Tensile stress': '0.15291'},\n",
       " {'Time': '47.82000',\n",
       "  'Extension': '1.59411',\n",
       "  'Load': '0.51879',\n",
       "  'Tensile strain': '6.37643',\n",
       "  'Tensile stress': '0.01253'},\n",
       " {'Time': '35.66400',\n",
       "  'Extension': '1.48690',\n",
       "  'Load': '-26.16604',\n",
       "  'Tensile strain': '5.31037',\n",
       "  'Tensile stress': '-0.50887'},\n",
       " {'Time': '89.11601',\n",
       "  'Extension': '2.97094',\n",
       "  'Load': '1.81407',\n",
       "  'Tensile strain': '11.88376',\n",
       "  'Tensile stress': '0.04285'},\n",
       " {'Time': '30.47200',\n",
       "  'Extension': '1.27035',\n",
       "  'Load': '4.39340',\n",
       "  'Tensile strain': '5.08139',\n",
       "  'Tensile stress': '0.06824'},\n",
       " {'Time': '59.64800',\n",
       "  'Extension': '2.48658',\n",
       "  'Load': '-55.38951',\n",
       "  'Tensile strain': '9.94634',\n",
       "  'Tensile stress': '-0.91583'},\n",
       " {'Time': '29.76000',\n",
       "  'Extension': '1.24045',\n",
       "  'Load': '5.95648',\n",
       "  'Tensile strain': '4.96181',\n",
       "  'Tensile stress': '0.09392'},\n",
       " {'Time': '67.15601',\n",
       "  'Extension': '2.79982',\n",
       "  'Load': '0.25097',\n",
       "  'Tensile strain': '11.19929',\n",
       "  'Tensile stress': '0.00395'},\n",
       " {'Time': '51.07600',\n",
       "  'Extension': '2.12946',\n",
       "  'Load': '-26.62203',\n",
       "  'Tensile strain': '8.51785',\n",
       "  'Tensile stress': '-0.35075'}]"
      ]
     },
     "execution_count": 2,
     "metadata": {},
     "output_type": "execute_result"
    }
   ],
   "source": [
    "\n",
    "lista_arq = os.listdir('Dados/')\n",
    "cols = ['Time','Extension','Load','Tensile strain','Tensile stress']\n",
    "dados = []\n",
    "for arq in lista_arq:\n",
    "    if arq.split('.')[-1] == 'csv':\n",
    "        dados.append(dict(list(zip(cols,pd.read_csv('Dados/'+arq).drop(['Strain 1'],axis=1).iloc[-1,:].values.tolist()))))\n",
    "\n",
    "data = pd.DataFrame(columns=cols)\n",
    "i = 0\n",
    "for dado in dados:\n",
    "    df = pd.DataFrame(dado,index=[i])\n",
    "    data = pd.concat([data,df])\n",
    "    i+= 1\n",
    "data['Time'] = data['Time'].apply(lambda x: float(x))\n",
    "data['Load'] = data['Load'].apply(lambda x: float(x))\n",
    "data['Extension'] = data['Extension'].apply(lambda x: float(x))\n",
    "data['Tensile strain'] = data['Tensile strain'].apply(lambda x: float(x))\n",
    "data['Tensile stress'] = data['Tensile stress'].apply(lambda x: float(x))\n",
    "\n",
    "sns.regplot(x='Tensile stress',y='Load',data=data)\n",
    "data"
   ]
  },
  {
   "cell_type": "code",
   "execution_count": 55,
   "metadata": {},
   "outputs": [
    {
     "data": {
      "text/plain": [
       "array([[1., 0.],\n",
       "       [2., 0.],\n",
       "       [3., 0.]])"
      ]
     },
     "execution_count": 55,
     "metadata": {},
     "output_type": "execute_result"
    }
   ],
   "source": [
    "a = np.array([1,2,3])\n",
    "b = np.array([])\n",
    "for i in a:\n",
    "    b = np.append([b],[[i,0]])\n",
    "b.reshape(-1,2)"
   ]
  },
  {
   "cell_type": "code",
   "execution_count": 1,
   "metadata": {},
   "outputs": [
    {
     "ename": "NameError",
     "evalue": "name 'np' is not defined",
     "output_type": "error",
     "traceback": [
      "\u001b[1;31m---------------------------------------------------------------------------\u001b[0m",
      "\u001b[1;31mNameError\u001b[0m                                 Traceback (most recent call last)",
      "\u001b[1;32m<ipython-input-1-32ce76a73f65>\u001b[0m in \u001b[0;36m<module>\u001b[1;34m\u001b[0m\n\u001b[1;32m----> 1\u001b[1;33m \u001b[0marr\u001b[0m \u001b[1;33m=\u001b[0m \u001b[0mnp\u001b[0m\u001b[1;33m.\u001b[0m\u001b[0marray\u001b[0m\u001b[1;33m(\u001b[0m\u001b[0mdata\u001b[0m\u001b[1;33m[\u001b[0m\u001b[1;34m'Tensile stress'\u001b[0m\u001b[1;33m]\u001b[0m\u001b[1;33m)\u001b[0m\u001b[1;33m\u001b[0m\u001b[0m\n\u001b[0m\u001b[0;32m      2\u001b[0m \u001b[0mx\u001b[0m \u001b[1;33m=\u001b[0m \u001b[0mnp\u001b[0m\u001b[1;33m.\u001b[0m\u001b[0marray\u001b[0m\u001b[1;33m(\u001b[0m\u001b[1;33m[\u001b[0m\u001b[1;33m]\u001b[0m\u001b[1;33m)\u001b[0m\u001b[1;33m\u001b[0m\u001b[0m\n\u001b[0;32m      3\u001b[0m \u001b[1;32mfor\u001b[0m \u001b[0mi\u001b[0m \u001b[1;32min\u001b[0m \u001b[0marr\u001b[0m\u001b[1;33m:\u001b[0m\u001b[1;33m\u001b[0m\u001b[0m\n\u001b[0;32m      4\u001b[0m     \u001b[0mx\u001b[0m \u001b[1;33m=\u001b[0m \u001b[0mnp\u001b[0m\u001b[1;33m.\u001b[0m\u001b[0mappend\u001b[0m\u001b[1;33m(\u001b[0m\u001b[1;33m[\u001b[0m\u001b[0mx\u001b[0m\u001b[1;33m]\u001b[0m\u001b[1;33m,\u001b[0m\u001b[1;33m[\u001b[0m\u001b[1;33m[\u001b[0m\u001b[0mi\u001b[0m\u001b[1;33m,\u001b[0m\u001b[1;36m0\u001b[0m\u001b[1;33m]\u001b[0m\u001b[1;33m]\u001b[0m\u001b[1;33m)\u001b[0m\u001b[1;33m\u001b[0m\u001b[0m\n\u001b[0;32m      5\u001b[0m \u001b[0mx\u001b[0m \u001b[1;33m=\u001b[0m \u001b[0mx\u001b[0m\u001b[1;33m.\u001b[0m\u001b[0mreshape\u001b[0m\u001b[1;33m(\u001b[0m\u001b[1;33m-\u001b[0m\u001b[1;36m1\u001b[0m\u001b[1;33m,\u001b[0m\u001b[1;36m2\u001b[0m\u001b[1;33m)\u001b[0m\u001b[1;33m\u001b[0m\u001b[0m\n",
      "\u001b[1;31mNameError\u001b[0m: name 'np' is not defined"
     ]
    }
   ],
   "source": [
    "arr = np.array(data['Tensile stress'])\n",
    "x = np.array([])\n",
    "for i in arr:\n",
    "    x = np.append([x],[[i,0]])\n",
    "x = x.reshape(-1,2)\n",
    "y = np.array(data['Load'])\n",
    "reg = LinearRegression()\n",
    "reg.fit(x,y)\n",
    "a,b = reg.coef_\n",
    "a,b"
   ]
  }
 ],
 "metadata": {
  "kernelspec": {
   "display_name": "Python 3",
   "language": "python",
   "name": "python3"
  },
  "language_info": {
   "codemirror_mode": {
    "name": "ipython",
    "version": 3
   },
   "file_extension": ".py",
   "mimetype": "text/x-python",
   "name": "python",
   "nbconvert_exporter": "python",
   "pygments_lexer": "ipython3",
   "version": "3.6.0"
  }
 },
 "nbformat": 4,
 "nbformat_minor": 2
}
