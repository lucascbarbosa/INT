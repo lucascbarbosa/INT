{
 "cells": [
  {
   "cell_type": "code",
   "execution_count": 1,
   "metadata": {},
   "outputs": [],
   "source": [
    "import cv2 as cv\n",
    "import numpy as np\n",
    "from scipy import signal\n",
    "\n",
    "import matplotlib.pyplot as plt\n",
    "\n",
    "import os\n",
    "plt.style.use('fivethirtyeight')"
   ]
  },
  {
   "cell_type": "markdown",
   "metadata": {},
   "source": [
    "## Aux functions"
   ]
  },
  {
   "cell_type": "code",
   "execution_count": 12,
   "metadata": {},
   "outputs": [],
   "source": [
    "def normalize(arr):\n",
    "    _arr = arr[:]\n",
    "    m,M = _arr.min(),_arr.max()\n",
    "    _arr -= m\n",
    "    _arr /= (M-m)\n",
    "    return _arr"
   ]
  },
  {
   "cell_type": "code",
   "execution_count": 183,
   "metadata": {},
   "outputs": [
    {
     "name": "stdout",
     "output_type": "stream",
     "text": [
      "129\n"
     ]
    },
    {
     "data": {
      "image/png": "[encoded data removed]",
      "text/plain": [
       "<Figure size 432x288 with 2 Axes>"
      ]
     },
     "metadata": {},
     "output_type": "display_data"
    }
   ],
   "source": [
    "# Lista de arquivos ossos desmineralização 1\n",
    "lista_arq_desm1=os.listdir('Dados/desm1/')\n",
    "# Lista de arquivos ossos desmineralização 2\n",
    "lista_arq_desm2=os.listdir('Dados/desm2/')\n",
    "# Lista de arquivos ossos desmineralização 3\n",
    "lista_arq_desm3=os.listdir('Dados/desm3/')\n",
    "fig,axs=plt.subplots(2)\n",
    "width = 4000\n",
    "with open('Dados/desm3/'+lista_arq_desm3[140],'r') as f:\n",
    "    x = f.readlines()\n",
    "    dt = float(x[0])\n",
    "    x = np.array(x[2:]).astype(float)\n",
    "    idx = np.where(x==x.max())[0][0]\n",
    "    x = x[idx-width//4:idx+3*width//4]\n",
    "    _t = [i*dt for i in range(len(x))]\n",
    "    axs[0].plot(_t,x)\n",
    "    fs = 1.0/dt\n",
    "    f, t, Sxx = signal.spectrogram(x, fs, scaling='density')\n",
    "#     Sxx = normalize(Sxx)\n",
    "    print(len(f))\n",
    "    axs[1].pcolormesh(t,f[1:3],Sxx[1:3,:])"
   ]
  },
  {
   "cell_type": "code",
   "execution_count": 181,
   "metadata": {},
   "outputs": [
    {
     "data": {
      "text/plain": [
       "array([[9.08505765e-16, 7.66788670e-15, 2.16451620e-13, 5.50825774e-14,\n",
       "        1.26188009e-13, 1.64017814e-13, 2.65024424e-13, 1.03263293e-13,\n",
       "        1.20271970e-14, 3.06530459e-14, 3.10501302e-14, 5.25939663e-14,\n",
       "        5.31341926e-14, 2.59621341e-15, 1.62091466e-14, 2.07614147e-16,\n",
       "        7.68384223e-15],\n",
       "       [1.64317392e-17, 2.65598242e-16, 1.11059802e-14, 6.98209135e-16,\n",
       "        4.82485585e-15, 3.22022201e-14, 2.60074449e-15, 4.56159938e-16,\n",
       "        4.49714529e-15, 1.47220400e-15, 6.38107804e-16, 1.13964967e-15,\n",
       "        6.73444360e-15, 5.54218895e-16, 5.21173738e-16, 7.85662273e-16,\n",
       "        8.98937067e-16]])"
      ]
     },
     "execution_count": 181,
     "metadata": {},
     "output_type": "execute_result"
    }
   ],
   "source": [
    "Sxx[1:3,:]"
   ]
  },
  {
   "cell_type": "code",
   "execution_count": 172,
   "metadata": {},
   "outputs": [],
   "source": [
    "def export():\n",
    "    paths = ['Dados/desm1/',\n",
    "             'Dados/desm2/',\n",
    "             'Dados/desm3/']\n",
    "    spec_paths = ['Espectogramas/desm1/',\n",
    "                  'Espectogramas/desm2/',\n",
    "                  'Espectogramas/desm3/']\n",
    "    \n",
    "                   \n",
    "    for path,spec_path in list(zip(paths,spec_paths)):\n",
    "        list_arqs = os.listdir(path)\n",
    "        for arq in list_arqs:\n",
    "            with open(path+arq,'r') as f:\n",
    "                x = f.readlines()\n",
    "                dt = float(x[0])\n",
    "                x = np.array(x[2:]).astype(float)\n",
    "                idx = np.where(x==x.max())[0][0]\n",
    "                start = idx-width//4\n",
    "                end = idx+3*width//4\n",
    "                if start < 0: start = 0\n",
    "                if end >= len(x): end = -1\n",
    "                x = x[start:end]\n",
    "                fs = 1.0/dt\n",
    "                f, t, Sxx = signal.spectrogram(x, fs, scaling='density',nperseg=14)\n",
    "                Sxx = Sxx[1:3,:]\n",
    "                if Sxx.shape[0] == 0:\n",
    "                    print(path+arq)\n",
    "                    print(x)\n",
    "                res = np.array([Sxx.shape[0],Sxx.shape[1]])\n",
    "                res = np.append(res,Sxx.reshape(Sxx.shape[0]*Sxx.shape[1],))\n",
    "                with open(spec_path+arq,'w') as g:\n",
    "                    g.write(' '.join(res.astype(str)))\n",
    "export()"
   ]
  }
 ],
 "metadata": {
  "kernelspec": {
   "display_name": "Python 3.8.3 64-bit ('base')",
   "language": "python",
   "name": "python38364bitbasec3eb4d7eab3f40779bb1d5f2218853f0"
  },
  "language_info": {
   "codemirror_mode": {
    "name": "ipython",
    "version": 3
   },
   "file_extension": ".py",
   "mimetype": "text/x-python",
   "name": "python",
   "nbconvert_exporter": "python",
   "pygments_lexer": "ipython3",
   "version": "3.8.3"
  }
 },
 "nbformat": 4,
 "nbformat_minor": 2
}
