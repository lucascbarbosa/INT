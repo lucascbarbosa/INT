{
 "cells": [
  {
   "cell_type": "code",
   "execution_count": 3,
   "metadata": {},
   "outputs": [],
   "source": [
    "import pandas as pd\n",
    "import matplotlib.pyplot as plt\n",
    "import numpy as np\n",
    "import os\n",
    "%matplotlib inline"
   ]
  },
  {
   "cell_type": "code",
   "execution_count": 37,
   "metadata": {
    "scrolled": true
   },
   "outputs": [
    {
     "ename": "FileNotFoundError",
     "evalue": "[WinError 3] O sistema não pode encontrar o caminho especificado: 'C:/Users/lucas/Documents/GitHub/INT/Novo Ensaio Ultassom/Sinais/csv'",
     "output_type": "error",
     "traceback": [
      "\u001b[1;31m---------------------------------------------------------------------------\u001b[0m",
      "\u001b[1;31mFileNotFoundError\u001b[0m                         Traceback (most recent call last)",
      "\u001b[1;32m<ipython-input-37-53e85011147d>\u001b[0m in \u001b[0;36m<module>\u001b[1;34m\u001b[0m\n\u001b[0;32m      1\u001b[0m \u001b[0mpath_csv\u001b[0m \u001b[1;33m=\u001b[0m \u001b[1;34m'C:/Users/lucas/Documents/GitHub/INT/Novo Ensaio Ultassom/Sinais/csv'\u001b[0m\u001b[1;33m\u001b[0m\u001b[1;33m\u001b[0m\u001b[0m\n\u001b[1;32m----> 2\u001b[1;33m \u001b[0mlistarq\u001b[0m \u001b[1;33m=\u001b[0m \u001b[0mos\u001b[0m\u001b[1;33m.\u001b[0m\u001b[0mlistdir\u001b[0m\u001b[1;33m(\u001b[0m\u001b[0mpath_csv\u001b[0m\u001b[1;33m)\u001b[0m\u001b[1;33m\u001b[0m\u001b[1;33m\u001b[0m\u001b[0m\n\u001b[0m\u001b[0;32m      3\u001b[0m \u001b[0mreferencias\u001b[0m \u001b[1;33m=\u001b[0m \u001b[0mpd\u001b[0m\u001b[1;33m.\u001b[0m\u001b[0mDataFrame\u001b[0m\u001b[1;33m(\u001b[0m\u001b[0mcolumns\u001b[0m \u001b[1;33m=\u001b[0m \u001b[1;33m[\u001b[0m\u001b[1;34m'dt'\u001b[0m\u001b[1;33m]\u001b[0m\u001b[1;33m+\u001b[0m\u001b[1;33m[\u001b[0m\u001b[0mstr\u001b[0m\u001b[1;33m(\u001b[0m\u001b[0mi\u001b[0m\u001b[1;33m)\u001b[0m \u001b[1;32mfor\u001b[0m \u001b[0mi\u001b[0m \u001b[1;32min\u001b[0m \u001b[0mrange\u001b[0m\u001b[1;33m(\u001b[0m\u001b[1;36m16000\u001b[0m\u001b[1;33m)\u001b[0m\u001b[1;33m]\u001b[0m\u001b[1;33m)\u001b[0m\u001b[1;33m\u001b[0m\u001b[1;33m\u001b[0m\u001b[0m\n\u001b[0;32m      4\u001b[0m \u001b[0mamostras\u001b[0m \u001b[1;33m=\u001b[0m \u001b[0mpd\u001b[0m\u001b[1;33m.\u001b[0m\u001b[0mDataFrame\u001b[0m\u001b[1;33m(\u001b[0m\u001b[0mcolumns\u001b[0m \u001b[1;33m=\u001b[0m  \u001b[1;33m[\u001b[0m\u001b[1;34m'dt'\u001b[0m\u001b[1;33m]\u001b[0m\u001b[1;33m+\u001b[0m\u001b[1;33m[\u001b[0m\u001b[0mstr\u001b[0m\u001b[1;33m(\u001b[0m\u001b[0mi\u001b[0m\u001b[1;33m)\u001b[0m \u001b[1;32mfor\u001b[0m \u001b[0mi\u001b[0m \u001b[1;32min\u001b[0m \u001b[0mrange\u001b[0m\u001b[1;33m(\u001b[0m\u001b[1;36m16000\u001b[0m\u001b[1;33m)\u001b[0m\u001b[1;33m]\u001b[0m\u001b[1;33m)\u001b[0m\u001b[1;33m\u001b[0m\u001b[1;33m\u001b[0m\u001b[0m\n\u001b[0;32m      5\u001b[0m \u001b[0mlistarq\u001b[0m\u001b[1;33m\u001b[0m\u001b[1;33m\u001b[0m\u001b[0m\n",
      "\u001b[1;31mFileNotFoundError\u001b[0m: [WinError 3] O sistema não pode encontrar o caminho especificado: 'C:/Users/lucas/Documents/GitHub/INT/Novo Ensaio Ultassom/Sinais/csv'"
     ]
    }
   ],
   "source": [
    "path_csv = 'C:/Users/lucas/Documents/GitHub/INT/Novo Ensaio Ultassom/Sinais/csv/'\n",
    "listarq = os.listdir(path_csv)\n",
    "referencias = pd.DataFrame(columns = ['dt']+[str(i) for i in range(16000)])\n",
    "amostras = pd.DataFrame(columns =  ['dt']+[str(i) for i in range(16000)])\n",
    "listarq\n"
   ]
  },
  {
   "cell_type": "code",
   "execution_count": 9,
   "metadata": {},
   "outputs": [
    {
     "name": "stderr",
     "output_type": "stream",
     "text": [
      "c:\\users\\lucas\\appdata\\local\\programs\\python\\python36\\lib\\site-packages\\ipykernel_launcher.py:6: SettingWithCopyWarning: \n",
      "A value is trying to be set on a copy of a slice from a DataFrame\n",
      "\n",
      "See the caveats in the documentation: http://pandas.pydata.org/pandas-docs/stable/user_guide/indexing.html#returning-a-view-versus-a-copy\n",
      "  \n",
      "c:\\users\\lucas\\appdata\\local\\programs\\python\\python36\\lib\\site-packages\\ipykernel_launcher.py:9: SettingWithCopyWarning: \n",
      "A value is trying to be set on a copy of a slice from a DataFrame\n",
      "\n",
      "See the caveats in the documentation: http://pandas.pydata.org/pandas-docs/stable/user_guide/indexing.html#returning-a-view-versus-a-copy\n",
      "  if __name__ == '__main__':\n"
     ]
    }
   ],
   "source": [
    "for i in range(len(listarq)):\n",
    "    arq = listarq[i]\n",
    "    df = pd.read_csv(path+arq,sep=';')\n",
    "    dt_ref = float('.'.join(df['[0]'][1].split(',')))\n",
    "    dt_am = float('.'.join(df['[1]'][1].split(',')))\n",
    "    df['[0]'][3:16003] = df['[0]'][3:16003].apply(lambda x: '.'.join(x.split(','))).apply(lambda x: float(x))\n",
    "    referencias.loc[i] = [dt_ref] + df['[0]'][3:16003].tolist()\n",
    "    try:\n",
    "        df['[1]'][3:16003] = df['[1]'][3:16003].apply(lambda x: '.'.join(x.split(','))).apply(lambda x: float(x))\n",
    "        amostras.loc[i] = [dt_am] + df['[1]'][3:16003].tolist()\n",
    "    except AttributeError:\n",
    "        amostras.loc[i] = [dt_am] + df['[1]'][3:16003].tolist()\n",
    "path2 = path[:len(path)-4]\n",
    "referencias.to_csv(path2+'referencias.csv',index=False)\n",
    "amostras.to_csv(path2+'amostras.csv',index=False)\n"
   ]
  },
  {
   "cell_type": "code",
   "execution_count": 56,
   "metadata": {
    "scrolled": true
   },
   "outputs": [],
   "source": [
    "path_par = \"C:/Users/lucas/Documents/GitHub/INT/Novo Ensaio Ultrassom/Sinais/Parametros\"\n",
    "listpar = os.listdir(path_par)\n",
    "aib= []\n",
    "for txt_file in listpar:\n",
    "    txt = open(path_par+'/'+txt_file,'r')\n",
    "    aib.append('.'.join(txt.readlines()[8].split(':')[1].split(' ')[1].split(',')))\n",
    "    txt.close()\n",
    "f = open('AIB.txt','w')\n",
    "f.write('AIB  Frequência\\n')\n",
    "for i in range(len(listarq)):\n",
    "    f.write('%s   %s\\n'%(aib[i],freqs[i]))\n",
    "f.close()"
   ]
  },
  {
   "cell_type": "code",
   "execution_count": 47,
   "metadata": {},
   "outputs": [
    {
     "data": {
      "text/plain": [
       "['10',\n",
       " '10',\n",
       " '10',\n",
       " '1',\n",
       " '1',\n",
       " '1',\n",
       " '5',\n",
       " '5',\n",
       " '5',\n",
       " '10',\n",
       " '10',\n",
       " '10',\n",
       " '1',\n",
       " '1',\n",
       " '1',\n",
       " '5',\n",
       " '5',\n",
       " '5']"
      ]
     },
     "execution_count": 47,
     "metadata": {},
     "output_type": "execute_result"
    }
   ],
   "source": [
    "path_csv = 'C:/Users/lucas/Documents/GitHub/INT/Novo Ensaio Ultrassom/Sinais/csv/'\n",
    "listarq = os.listdir(path_csv)\n",
    "freqs = []\n",
    "for arq in listarq:\n",
    "    freq = arq.split('MHz')[0].split('_')[-1]\n",
    "    freqs.append(freq)\n",
    "    \n",
    "freqs"
   ]
  }
 ],
 "metadata": {
  "kernelspec": {
   "display_name": "Python 3",
   "language": "python",
   "name": "python3"
  },
  "language_info": {
   "codemirror_mode": {
    "name": "ipython",
    "version": 3
   },
   "file_extension": ".py",
   "mimetype": "text/x-python",
   "name": "python",
   "nbconvert_exporter": "python",
   "pygments_lexer": "ipython3",
   "version": "3.6.7"
  }
 },
 "nbformat": 4,
 "nbformat_minor": 2
}
