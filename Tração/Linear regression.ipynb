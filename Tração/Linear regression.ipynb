{
 "cells": [
  {
   "cell_type": "code",
   "execution_count": 5,
   "metadata": {},
   "outputs": [],
   "source": [
    "import pandas as pd\n",
    "import numpy as np\n",
    "import seaborn as sns\n",
    "import matplotlib.pyplot as plt\n",
    "from mpl_toolkits.mplot3d import Axes3D\n",
    "import os\n",
    "from sklearn.model_selection import train_test_split\n",
    "from sklearn.linear_model import LinearRegression\n",
    "from sklearn.metrics import classification_report,confusion_matrix\n"
   ]
  },
  {
   "cell_type": "code",
   "execution_count": 68,
   "metadata": {},
   "outputs": [
    {
     "data": {
      "text/html": [
       "<div>\n",
       "<style scoped>\n",
       "    .dataframe tbody tr th:only-of-type {\n",
       "        vertical-align: middle;\n",
       "    }\n",
       "\n",
       "    .dataframe tbody tr th {\n",
       "        vertical-align: top;\n",
       "    }\n",
       "\n",
       "    .dataframe thead th {\n",
       "        text-align: right;\n",
       "    }\n",
       "</style>\n",
       "<table border=\"1\" class=\"dataframe\">\n",
       "  <thead>\n",
       "    <tr style=\"text-align: right;\">\n",
       "      <th></th>\n",
       "      <th>Time</th>\n",
       "      <th>Extension</th>\n",
       "      <th>Load</th>\n",
       "      <th>Tensile strain</th>\n",
       "      <th>Tensile stress</th>\n",
       "    </tr>\n",
       "  </thead>\n",
       "  <tbody>\n",
       "    <tr>\n",
       "      <td>0</td>\n",
       "      <td>50.93800</td>\n",
       "      <td>2.12342</td>\n",
       "      <td>7.47733</td>\n",
       "      <td>8.49369</td>\n",
       "      <td>0.15291</td>\n",
       "    </tr>\n",
       "    <tr>\n",
       "      <td>1</td>\n",
       "      <td>47.82000</td>\n",
       "      <td>1.59411</td>\n",
       "      <td>0.51879</td>\n",
       "      <td>6.37643</td>\n",
       "      <td>0.01253</td>\n",
       "    </tr>\n",
       "    <tr>\n",
       "      <td>2</td>\n",
       "      <td>35.66400</td>\n",
       "      <td>1.48690</td>\n",
       "      <td>-26.16604</td>\n",
       "      <td>5.31037</td>\n",
       "      <td>-0.50887</td>\n",
       "    </tr>\n",
       "    <tr>\n",
       "      <td>3</td>\n",
       "      <td>89.11601</td>\n",
       "      <td>2.97094</td>\n",
       "      <td>1.81407</td>\n",
       "      <td>11.88376</td>\n",
       "      <td>0.04285</td>\n",
       "    </tr>\n",
       "    <tr>\n",
       "      <td>4</td>\n",
       "      <td>30.47200</td>\n",
       "      <td>1.27035</td>\n",
       "      <td>4.39340</td>\n",
       "      <td>5.08139</td>\n",
       "      <td>0.06824</td>\n",
       "    </tr>\n",
       "    <tr>\n",
       "      <td>5</td>\n",
       "      <td>59.64800</td>\n",
       "      <td>2.48658</td>\n",
       "      <td>-55.38951</td>\n",
       "      <td>9.94634</td>\n",
       "      <td>-0.91583</td>\n",
       "    </tr>\n",
       "    <tr>\n",
       "      <td>6</td>\n",
       "      <td>29.76000</td>\n",
       "      <td>1.24045</td>\n",
       "      <td>5.95648</td>\n",
       "      <td>4.96181</td>\n",
       "      <td>0.09392</td>\n",
       "    </tr>\n",
       "    <tr>\n",
       "      <td>7</td>\n",
       "      <td>67.15601</td>\n",
       "      <td>2.79982</td>\n",
       "      <td>0.25097</td>\n",
       "      <td>11.19929</td>\n",
       "      <td>0.00395</td>\n",
       "    </tr>\n",
       "    <tr>\n",
       "      <td>8</td>\n",
       "      <td>51.07600</td>\n",
       "      <td>2.12946</td>\n",
       "      <td>-26.62203</td>\n",
       "      <td>8.51785</td>\n",
       "      <td>-0.35075</td>\n",
       "    </tr>\n",
       "  </tbody>\n",
       "</table>\n",
       "</div>"
      ],
      "text/plain": [
       "       Time  Extension      Load  Tensile strain  Tensile stress\n",
       "0  50.93800    2.12342   7.47733         8.49369         0.15291\n",
       "1  47.82000    1.59411   0.51879         6.37643         0.01253\n",
       "2  35.66400    1.48690 -26.16604         5.31037        -0.50887\n",
       "3  89.11601    2.97094   1.81407        11.88376         0.04285\n",
       "4  30.47200    1.27035   4.39340         5.08139         0.06824\n",
       "5  59.64800    2.48658 -55.38951         9.94634        -0.91583\n",
       "6  29.76000    1.24045   5.95648         4.96181         0.09392\n",
       "7  67.15601    2.79982   0.25097        11.19929         0.00395\n",
       "8  51.07600    2.12946 -26.62203         8.51785        -0.35075"
      ]
     },
     "execution_count": 68,
     "metadata": {},
     "output_type": "execute_result"
    },
    {
     "data": {
      "image/png": "[encoded data removed]",
      "text/plain": [
       "<Figure size 432x288 with 1 Axes>"
      ]
     },
     "metadata": {
      "needs_background": "light"
     },
     "output_type": "display_data"
    }
   ],
   "source": [
    "\n",
    "lista_arq = os.listdir('Dados/')\n",
    "cols = ['Time','Extension','Load','Tensile strain','Tensile stress']\n",
    "dados = []\n",
    "for arq in lista_arq:\n",
    "    if arq.split('.')[-1] == 'csv':\n",
    "        dados.append(dict(list(zip(cols,pd.read_csv('Dados/'+arq).drop(['Strain 1'],axis=1).iloc[-1,:].values.tolist()))))\n",
    "\n",
    "data = pd.DataFrame(columns=cols)\n",
    "i = 0\n",
    "for dado in dados:\n",
    "    df = pd.DataFrame(dado,index=[i])\n",
    "    data = pd.concat([data,df])\n",
    "    i+= 1\n",
    "data['Time'] = data['Time'].apply(lambda x: float(x))\n",
    "data['Load'] = data['Load'].apply(lambda x: float(x))\n",
    "data['Extension'] = data['Extension'].apply(lambda x: float(x))\n",
    "data['Tensile strain'] = data['Tensile strain'].apply(lambda x: float(x))\n",
    "data['Tensile stress'] = data['Tensile stress'].apply(lambda x: float(x))\n",
    "\n",
    "sns.regplot(x='Tensile stress',y='Load',data=data)\n",
    "data"
   ]
  },
  {
   "cell_type": "code",
   "execution_count": 55,
   "metadata": {},
   "outputs": [
    {
     "data": {
      "text/plain": [
       "array([[1., 0.],\n",
       "       [2., 0.],\n",
       "       [3., 0.]])"
      ]
     },
     "execution_count": 55,
     "metadata": {},
     "output_type": "execute_result"
    }
   ],
   "source": [
    "a = np.array([1,2,3])\n",
    "b = np.array([])\n",
    "for i in a:\n",
    "    b = np.append([b],[[i,0]])\n",
    "b.reshape(-1,2)"
   ]
  },
  {
   "cell_type": "code",
   "execution_count": 69,
   "metadata": {},
   "outputs": [
    {
     "data": {
      "text/plain": [
       "(59.34348049862631, 0.0)"
      ]
     },
     "execution_count": 69,
     "metadata": {},
     "output_type": "execute_result"
    }
   ],
   "source": [
    "arr = np.array(data['Tensile stress'])\n",
    "x = np.array([])\n",
    "for i in arr:\n",
    "    x = np.append([x],[[i,0]])\n",
    "x = x.reshape(-1,2)\n",
    "y = np.array(data['Load'])\n",
    "reg = LinearRegression()\n",
    "reg.fit(x,y)\n",
    "a,b = reg.coef_\n",
    "a,b"
   ]
  }
 ],
 "metadata": {
  "kernelspec": {
   "display_name": "Python 3",
   "language": "python",
   "name": "python3"
  },
  "language_info": {
   "codemirror_mode": {
    "name": "ipython",
    "version": 3
   },
   "file_extension": ".py",
   "mimetype": "text/x-python",
   "name": "python",
   "nbconvert_exporter": "python",
   "pygments_lexer": "ipython3",
   "version": "3.6.7"
  }
 },
 "nbformat": 4,
 "nbformat_minor": 2
}
